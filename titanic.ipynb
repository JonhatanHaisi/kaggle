{
 "cells": [
  {
   "cell_type": "markdown",
   "id": "20117d14-b311-44c8-85be-5c84d085f671",
   "metadata": {},
   "source": [
    "# Kaggle Competition - Titanic"
   ]
  },
  {
   "cell_type": "markdown",
   "id": "cfa9893d-a22e-429c-ba80-0a20c7695fe6",
   "metadata": {},
   "source": [
    "## Install required libs"
   ]
  },
  {
   "cell_type": "code",
   "execution_count": 1,
   "id": "acee198a-fe85-44ca-a927-3b695e714c2f",
   "metadata": {},
   "outputs": [],
   "source": [
    "!pip install numpy==1.21.3 -q\n",
    "!pip install pandas==1.3.4 -q\n",
    "!pip install -U scikit-learn==1.0.1 -q\n",
    "!pip install kaggle==1.5.12 -q\n",
    "!pip install matplotlib==3.4.3 -q\n",
    "!pip install seaborn==0.11.2 -q"
   ]
  },
  {
   "cell_type": "markdown",
   "id": "6d718eec-22d1-4a62-8e9b-bca8b9cc3999",
   "metadata": {},
   "source": [
    "## Download the competition files"
   ]
  },
  {
   "cell_type": "code",
   "execution_count": 2,
   "id": "1e84661b-21cb-48a9-83f5-5cfeec908913",
   "metadata": {},
   "outputs": [],
   "source": [
    "!kaggle competitions download -c titanic -q"
   ]
  },
  {
   "cell_type": "markdown",
   "id": "ee4407a1-9d80-4b01-bf37-3543aadb853c",
   "metadata": {},
   "source": [
    "## Extract the competition files from downloaded zip file"
   ]
  },
  {
   "cell_type": "code",
   "execution_count": 3,
   "id": "f990e3da-7528-4c7d-8c1a-4a2b3f6ed4dc",
   "metadata": {},
   "outputs": [],
   "source": [
    "import zipfile\n",
    "\n",
    "with zipfile.ZipFile('titanic.zip', 'r') as file:\n",
    "    file.extractall('./data')"
   ]
  },
  {
   "cell_type": "markdown",
   "id": "823b521f-6653-4093-a07f-2cef28f68d44",
   "metadata": {},
   "source": [
    "## Import libraries"
   ]
  },
  {
   "cell_type": "code",
   "execution_count": 4,
   "id": "d5316a00-3928-49ef-be79-1fd22d2fee0f",
   "metadata": {},
   "outputs": [],
   "source": [
    "import numpy as np\n",
    "import pandas as pd"
   ]
  },
  {
   "cell_type": "code",
   "execution_count": 5,
   "id": "bce77b7e-cf9f-4446-9930-504789fae06e",
   "metadata": {},
   "outputs": [],
   "source": [
    "# set numpy default random seed\n",
    "np.random.seed(1)"
   ]
  },
  {
   "cell_type": "markdown",
   "id": "2e20eb72-205f-4adc-88b0-10ff0a851161",
   "metadata": {},
   "source": [
    "# Data Preparation"
   ]
  },
  {
   "cell_type": "markdown",
   "id": "94ce6df3-aa0e-4da6-982b-3bfe4be2fd43",
   "metadata": {
    "tags": []
   },
   "source": [
    "## Load train data"
   ]
  },
  {
   "cell_type": "code",
   "execution_count": 6,
   "id": "aa76de47-92fc-4b17-b2af-eb4d8428592d",
   "metadata": {},
   "outputs": [],
   "source": [
    "raw_data = pd.read_csv('./data/train.csv')"
   ]
  },
  {
   "cell_type": "code",
   "execution_count": 7,
   "id": "e9ee89be-8fd3-4522-b468-8d3441e87521",
   "metadata": {},
   "outputs": [
    {
     "data": {
      "text/html": [
       "<div>\n",
       "<style scoped>\n",
       "    .dataframe tbody tr th:only-of-type {\n",
       "        vertical-align: middle;\n",
       "    }\n",
       "\n",
       "    .dataframe tbody tr th {\n",
       "        vertical-align: top;\n",
       "    }\n",
       "\n",
       "    .dataframe thead th {\n",
       "        text-align: right;\n",
       "    }\n",
       "</style>\n",
       "<table border=\"1\" class=\"dataframe\">\n",
       "  <thead>\n",
       "    <tr style=\"text-align: right;\">\n",
       "      <th></th>\n",
       "      <th>PassengerId</th>\n",
       "      <th>Survived</th>\n",
       "      <th>Pclass</th>\n",
       "      <th>Name</th>\n",
       "      <th>Sex</th>\n",
       "      <th>Age</th>\n",
       "      <th>SibSp</th>\n",
       "      <th>Parch</th>\n",
       "      <th>Ticket</th>\n",
       "      <th>Fare</th>\n",
       "      <th>Cabin</th>\n",
       "      <th>Embarked</th>\n",
       "    </tr>\n",
       "  </thead>\n",
       "  <tbody>\n",
       "    <tr>\n",
       "      <th>0</th>\n",
       "      <td>1</td>\n",
       "      <td>0</td>\n",
       "      <td>3</td>\n",
       "      <td>Braund, Mr. Owen Harris</td>\n",
       "      <td>male</td>\n",
       "      <td>22.0</td>\n",
       "      <td>1</td>\n",
       "      <td>0</td>\n",
       "      <td>A/5 21171</td>\n",
       "      <td>7.2500</td>\n",
       "      <td>NaN</td>\n",
       "      <td>S</td>\n",
       "    </tr>\n",
       "    <tr>\n",
       "      <th>1</th>\n",
       "      <td>2</td>\n",
       "      <td>1</td>\n",
       "      <td>1</td>\n",
       "      <td>Cumings, Mrs. John Bradley (Florence Briggs Th...</td>\n",
       "      <td>female</td>\n",
       "      <td>38.0</td>\n",
       "      <td>1</td>\n",
       "      <td>0</td>\n",
       "      <td>PC 17599</td>\n",
       "      <td>71.2833</td>\n",
       "      <td>C85</td>\n",
       "      <td>C</td>\n",
       "    </tr>\n",
       "    <tr>\n",
       "      <th>2</th>\n",
       "      <td>3</td>\n",
       "      <td>1</td>\n",
       "      <td>3</td>\n",
       "      <td>Heikkinen, Miss. Laina</td>\n",
       "      <td>female</td>\n",
       "      <td>26.0</td>\n",
       "      <td>0</td>\n",
       "      <td>0</td>\n",
       "      <td>STON/O2. 3101282</td>\n",
       "      <td>7.9250</td>\n",
       "      <td>NaN</td>\n",
       "      <td>S</td>\n",
       "    </tr>\n",
       "    <tr>\n",
       "      <th>3</th>\n",
       "      <td>4</td>\n",
       "      <td>1</td>\n",
       "      <td>1</td>\n",
       "      <td>Futrelle, Mrs. Jacques Heath (Lily May Peel)</td>\n",
       "      <td>female</td>\n",
       "      <td>35.0</td>\n",
       "      <td>1</td>\n",
       "      <td>0</td>\n",
       "      <td>113803</td>\n",
       "      <td>53.1000</td>\n",
       "      <td>C123</td>\n",
       "      <td>S</td>\n",
       "    </tr>\n",
       "    <tr>\n",
       "      <th>4</th>\n",
       "      <td>5</td>\n",
       "      <td>0</td>\n",
       "      <td>3</td>\n",
       "      <td>Allen, Mr. William Henry</td>\n",
       "      <td>male</td>\n",
       "      <td>35.0</td>\n",
       "      <td>0</td>\n",
       "      <td>0</td>\n",
       "      <td>373450</td>\n",
       "      <td>8.0500</td>\n",
       "      <td>NaN</td>\n",
       "      <td>S</td>\n",
       "    </tr>\n",
       "  </tbody>\n",
       "</table>\n",
       "</div>"
      ],
      "text/plain": [
       "   PassengerId  Survived  Pclass  \\\n",
       "0            1         0       3   \n",
       "1            2         1       1   \n",
       "2            3         1       3   \n",
       "3            4         1       1   \n",
       "4            5         0       3   \n",
       "\n",
       "                                                Name     Sex   Age  SibSp  \\\n",
       "0                            Braund, Mr. Owen Harris    male  22.0      1   \n",
       "1  Cumings, Mrs. John Bradley (Florence Briggs Th...  female  38.0      1   \n",
       "2                             Heikkinen, Miss. Laina  female  26.0      0   \n",
       "3       Futrelle, Mrs. Jacques Heath (Lily May Peel)  female  35.0      1   \n",
       "4                           Allen, Mr. William Henry    male  35.0      0   \n",
       "\n",
       "   Parch            Ticket     Fare Cabin Embarked  \n",
       "0      0         A/5 21171   7.2500   NaN        S  \n",
       "1      0          PC 17599  71.2833   C85        C  \n",
       "2      0  STON/O2. 3101282   7.9250   NaN        S  \n",
       "3      0            113803  53.1000  C123        S  \n",
       "4      0            373450   8.0500   NaN        S  "
      ]
     },
     "execution_count": 7,
     "metadata": {},
     "output_type": "execute_result"
    }
   ],
   "source": [
    "raw_data.head()"
   ]
  },
  {
   "cell_type": "code",
   "execution_count": 8,
   "id": "ad0702d1-d348-4129-8374-76fdd5af6a3c",
   "metadata": {},
   "outputs": [
    {
     "name": "stdout",
     "output_type": "stream",
     "text": [
      "<class 'pandas.core.frame.DataFrame'>\n",
      "RangeIndex: 891 entries, 0 to 890\n",
      "Data columns (total 12 columns):\n",
      " #   Column       Non-Null Count  Dtype  \n",
      "---  ------       --------------  -----  \n",
      " 0   PassengerId  891 non-null    int64  \n",
      " 1   Survived     891 non-null    int64  \n",
      " 2   Pclass       891 non-null    int64  \n",
      " 3   Name         891 non-null    object \n",
      " 4   Sex          891 non-null    object \n",
      " 5   Age          714 non-null    float64\n",
      " 6   SibSp        891 non-null    int64  \n",
      " 7   Parch        891 non-null    int64  \n",
      " 8   Ticket       891 non-null    object \n",
      " 9   Fare         891 non-null    float64\n",
      " 10  Cabin        204 non-null    object \n",
      " 11  Embarked     889 non-null    object \n",
      "dtypes: float64(2), int64(5), object(5)\n",
      "memory usage: 83.7+ KB\n"
     ]
    }
   ],
   "source": [
    "raw_data.info()"
   ]
  },
  {
   "cell_type": "code",
   "execution_count": 9,
   "id": "e5547d7d-7262-4f07-a6c6-1ece936d8ea2",
   "metadata": {},
   "outputs": [
    {
     "data": {
      "text/plain": [
       "PassengerId      0\n",
       "Survived         0\n",
       "Pclass           0\n",
       "Name             0\n",
       "Sex              0\n",
       "Age            177\n",
       "SibSp            0\n",
       "Parch            0\n",
       "Ticket           0\n",
       "Fare             0\n",
       "Cabin          687\n",
       "Embarked         2\n",
       "dtype: int64"
      ]
     },
     "execution_count": 9,
     "metadata": {},
     "output_type": "execute_result"
    }
   ],
   "source": [
    "raw_data.isna().sum()"
   ]
  },
  {
   "cell_type": "markdown",
   "id": "3ebecdac-e635-4a72-9eae-f59aac321cdb",
   "metadata": {},
   "source": [
    "## Split the data from train and validation sets"
   ]
  },
  {
   "cell_type": "code",
   "execution_count": 10,
   "id": "4d71afa0-a1f7-4e14-8743-17c1c72b6f43",
   "metadata": {},
   "outputs": [],
   "source": [
    "from sklearn.model_selection import train_test_split\n",
    "\n",
    "X_train, X_valid, y_train, y_valid = train_test_split(raw_data.drop('Survived', axis=1), raw_data['Survived'])"
   ]
  },
  {
   "cell_type": "code",
   "execution_count": 11,
   "id": "e648ce14-b8d9-4e1c-9c2d-8699f20bc62d",
   "metadata": {},
   "outputs": [
    {
     "name": "stdout",
     "output_type": "stream",
     "text": [
      "Train size: (668, 11)\n",
      "Validation size: (223, 11)\n"
     ]
    }
   ],
   "source": [
    "print(f'Train size: {X_train.shape}')\n",
    "print(f'Validation size: {X_valid.shape}')"
   ]
  },
  {
   "cell_type": "markdown",
   "id": "4913fa0c-491d-420f-ab9b-fadf523e8fdb",
   "metadata": {},
   "source": [
    "## Create a dummy Classifier to define a base for performance evaluation"
   ]
  },
  {
   "cell_type": "code",
   "execution_count": 12,
   "id": "e5bccfba-4475-4fff-95a4-86606ee6ea6e",
   "metadata": {},
   "outputs": [],
   "source": [
    "from sklearn.dummy import DummyClassifier\n",
    "\n",
    "dummy = DummyClassifier()\n",
    "dummy.fit(X_train, y_train)\n",
    "\n",
    "prediction = dummy.predict(X_valid)"
   ]
  },
  {
   "cell_type": "code",
   "execution_count": 13,
   "id": "d2f2e89f-79ff-44ff-972c-916cff6c3497",
   "metadata": {},
   "outputs": [
    {
     "name": "stdout",
     "output_type": "stream",
     "text": [
      "Dummy classifier accuracy: 0.5739910313901345\n"
     ]
    }
   ],
   "source": [
    "from sklearn.metrics import accuracy_score\n",
    "\n",
    "print(f'Dummy classifier accuracy: {accuracy_score(y_valid, prediction)}')"
   ]
  },
  {
   "cell_type": "markdown",
   "id": "ed99c740-982e-4acc-a72d-46ee03cf89d9",
   "metadata": {},
   "source": [
    "The dummy classifier accuracy is 60% acurated, So any real classifier accuracy should be better than the dummy classifier."
   ]
  },
  {
   "cell_type": "markdown",
   "id": "31a9b232-90cd-4ae9-bf7b-2d53d43d4070",
   "metadata": {},
   "source": [
    "## Understand the data"
   ]
  },
  {
   "cell_type": "markdown",
   "id": "239fc1df-a790-41bc-9420-9e5a6d466e91",
   "metadata": {},
   "source": [
    "Documentation: [Kaggle](https://www.kaggle.com/c/titanic/data)"
   ]
  },
  {
   "cell_type": "code",
   "execution_count": 14,
   "id": "a9a5813f-c866-4715-99d3-d315ab2cb919",
   "metadata": {},
   "outputs": [
    {
     "data": {
      "text/html": [
       "<div>\n",
       "<style scoped>\n",
       "    .dataframe tbody tr th:only-of-type {\n",
       "        vertical-align: middle;\n",
       "    }\n",
       "\n",
       "    .dataframe tbody tr th {\n",
       "        vertical-align: top;\n",
       "    }\n",
       "\n",
       "    .dataframe thead th {\n",
       "        text-align: right;\n",
       "    }\n",
       "</style>\n",
       "<table border=\"1\" class=\"dataframe\">\n",
       "  <thead>\n",
       "    <tr style=\"text-align: right;\">\n",
       "      <th></th>\n",
       "      <th>PassengerId</th>\n",
       "      <th>Pclass</th>\n",
       "      <th>Name</th>\n",
       "      <th>Sex</th>\n",
       "      <th>Age</th>\n",
       "      <th>SibSp</th>\n",
       "      <th>Parch</th>\n",
       "      <th>Ticket</th>\n",
       "      <th>Fare</th>\n",
       "      <th>Cabin</th>\n",
       "      <th>Embarked</th>\n",
       "    </tr>\n",
       "  </thead>\n",
       "  <tbody>\n",
       "    <tr>\n",
       "      <th>35</th>\n",
       "      <td>36</td>\n",
       "      <td>1</td>\n",
       "      <td>Holverson, Mr. Alexander Oskar</td>\n",
       "      <td>male</td>\n",
       "      <td>42.0</td>\n",
       "      <td>1</td>\n",
       "      <td>0</td>\n",
       "      <td>113789</td>\n",
       "      <td>52.0000</td>\n",
       "      <td>NaN</td>\n",
       "      <td>S</td>\n",
       "    </tr>\n",
       "    <tr>\n",
       "      <th>46</th>\n",
       "      <td>47</td>\n",
       "      <td>3</td>\n",
       "      <td>Lennon, Mr. Denis</td>\n",
       "      <td>male</td>\n",
       "      <td>NaN</td>\n",
       "      <td>1</td>\n",
       "      <td>0</td>\n",
       "      <td>370371</td>\n",
       "      <td>15.5000</td>\n",
       "      <td>NaN</td>\n",
       "      <td>Q</td>\n",
       "    </tr>\n",
       "    <tr>\n",
       "      <th>453</th>\n",
       "      <td>454</td>\n",
       "      <td>1</td>\n",
       "      <td>Goldenberg, Mr. Samuel L</td>\n",
       "      <td>male</td>\n",
       "      <td>49.0</td>\n",
       "      <td>1</td>\n",
       "      <td>0</td>\n",
       "      <td>17453</td>\n",
       "      <td>89.1042</td>\n",
       "      <td>C92</td>\n",
       "      <td>C</td>\n",
       "    </tr>\n",
       "    <tr>\n",
       "      <th>291</th>\n",
       "      <td>292</td>\n",
       "      <td>1</td>\n",
       "      <td>Bishop, Mrs. Dickinson H (Helen Walton)</td>\n",
       "      <td>female</td>\n",
       "      <td>19.0</td>\n",
       "      <td>1</td>\n",
       "      <td>0</td>\n",
       "      <td>11967</td>\n",
       "      <td>91.0792</td>\n",
       "      <td>B49</td>\n",
       "      <td>C</td>\n",
       "    </tr>\n",
       "    <tr>\n",
       "      <th>748</th>\n",
       "      <td>749</td>\n",
       "      <td>1</td>\n",
       "      <td>Marvin, Mr. Daniel Warner</td>\n",
       "      <td>male</td>\n",
       "      <td>19.0</td>\n",
       "      <td>1</td>\n",
       "      <td>0</td>\n",
       "      <td>113773</td>\n",
       "      <td>53.1000</td>\n",
       "      <td>D30</td>\n",
       "      <td>S</td>\n",
       "    </tr>\n",
       "  </tbody>\n",
       "</table>\n",
       "</div>"
      ],
      "text/plain": [
       "     PassengerId  Pclass                                     Name     Sex  \\\n",
       "35            36       1           Holverson, Mr. Alexander Oskar    male   \n",
       "46            47       3                        Lennon, Mr. Denis    male   \n",
       "453          454       1                 Goldenberg, Mr. Samuel L    male   \n",
       "291          292       1  Bishop, Mrs. Dickinson H (Helen Walton)  female   \n",
       "748          749       1                Marvin, Mr. Daniel Warner    male   \n",
       "\n",
       "      Age  SibSp  Parch  Ticket     Fare Cabin Embarked  \n",
       "35   42.0      1      0  113789  52.0000   NaN        S  \n",
       "46    NaN      1      0  370371  15.5000   NaN        Q  \n",
       "453  49.0      1      0   17453  89.1042   C92        C  \n",
       "291  19.0      1      0   11967  91.0792   B49        C  \n",
       "748  19.0      1      0  113773  53.1000   D30        S  "
      ]
     },
     "execution_count": 14,
     "metadata": {},
     "output_type": "execute_result"
    }
   ],
   "source": [
    "X_train.head()"
   ]
  },
  {
   "cell_type": "markdown",
   "id": "a07af096-df57-4087-a41d-d3f65c83e119",
   "metadata": {},
   "source": [
    "* **PassengerID:** This column doesn't have any important informatgion\n",
    "* **Pclass:** The passenger socio economic class may have some influence on the result\n",
    "* **Name:** The name itself is not useful, but the title (Mr, Mrs, ...) may help to fill the null on Age column\n",
    "* **Sex:** The passenger sex is probably a useful feature\n",
    "* **Age:** The passenger age is probably a useful feature\n",
    "* **SibSp:** The passenger SibSp may be a usefull feature\n",
    "* **Parch:** The passenger Parch may be a usefull feature\n",
    "* **Ticket:** The passenger ticket number doesn't have any important information\n",
    "* **Cabin:** The cabin number itself is not useful, but a passenger who owns a cabin may have a better chance to survive\n",
    "* **Embarked:** The embarked gate is probably a not usefull information"
   ]
  },
  {
   "cell_type": "markdown",
   "id": "7349715e-283e-492f-be70-40afe02ca522",
   "metadata": {},
   "source": [
    "## Create Data Preparation Pipeline"
   ]
  },
  {
   "cell_type": "code",
   "execution_count": 15,
   "id": "73dd7c26-8378-4c90-9376-7244c5b276b5",
   "metadata": {},
   "outputs": [],
   "source": [
    "from sklearn.base import BaseEstimator, TransformerMixin"
   ]
  },
  {
   "cell_type": "markdown",
   "id": "1c10d34b-3e9b-4278-8505-f32e94c6a1b0",
   "metadata": {},
   "source": [
    "### Extract Title from Name"
   ]
  },
  {
   "cell_type": "markdown",
   "id": "1c57b574-cced-4b0d-b026-1eee12418059",
   "metadata": {},
   "source": [
    "The first step is to list all available titles to list the possible values"
   ]
  },
  {
   "cell_type": "code",
   "execution_count": 16,
   "id": "56ab33be-40aa-4ee2-9cb4-97070c3d8fb5",
   "metadata": {},
   "outputs": [
    {
     "data": {
      "text/html": [
       "<div>\n",
       "<style scoped>\n",
       "    .dataframe tbody tr th:only-of-type {\n",
       "        vertical-align: middle;\n",
       "    }\n",
       "\n",
       "    .dataframe tbody tr th {\n",
       "        vertical-align: top;\n",
       "    }\n",
       "\n",
       "    .dataframe thead th {\n",
       "        text-align: right;\n",
       "    }\n",
       "</style>\n",
       "<table border=\"1\" class=\"dataframe\">\n",
       "  <thead>\n",
       "    <tr style=\"text-align: right;\">\n",
       "      <th></th>\n",
       "      <th>Mr</th>\n",
       "      <th>Miss</th>\n",
       "      <th>Mrs</th>\n",
       "      <th>Master</th>\n",
       "      <th>Dr</th>\n",
       "      <th>Rev</th>\n",
       "      <th>Mlle</th>\n",
       "      <th>Major</th>\n",
       "      <th>Col</th>\n",
       "      <th>Countess</th>\n",
       "      <th>Capt</th>\n",
       "      <th>Ms</th>\n",
       "      <th>Sir</th>\n",
       "      <th>Lady</th>\n",
       "      <th>Mme</th>\n",
       "      <th>Don</th>\n",
       "      <th>Jonkheer</th>\n",
       "    </tr>\n",
       "  </thead>\n",
       "  <tbody>\n",
       "    <tr>\n",
       "      <th>Name</th>\n",
       "      <td>517</td>\n",
       "      <td>182</td>\n",
       "      <td>125</td>\n",
       "      <td>40</td>\n",
       "      <td>7</td>\n",
       "      <td>6</td>\n",
       "      <td>2</td>\n",
       "      <td>2</td>\n",
       "      <td>2</td>\n",
       "      <td>1</td>\n",
       "      <td>1</td>\n",
       "      <td>1</td>\n",
       "      <td>1</td>\n",
       "      <td>1</td>\n",
       "      <td>1</td>\n",
       "      <td>1</td>\n",
       "      <td>1</td>\n",
       "    </tr>\n",
       "  </tbody>\n",
       "</table>\n",
       "</div>"
      ],
      "text/plain": [
       "       Mr  Miss  Mrs  Master  Dr  Rev  Mlle  Major  Col  Countess  Capt  Ms  \\\n",
       "Name  517   182  125      40   7    6     2      2    2         1     1   1   \n",
       "\n",
       "      Sir  Lady  Mme  Don  Jonkheer  \n",
       "Name    1     1    1    1         1  "
      ]
     },
     "execution_count": 16,
     "metadata": {},
     "output_type": "execute_result"
    }
   ],
   "source": [
    "import re\n",
    "\n",
    "re_title = re.compile('([A-Za-z]+)\\.')\n",
    "\n",
    "raw_data['Name'].map(lambda x: re_title.findall(x)[0]).value_counts().to_frame().T"
   ]
  },
  {
   "cell_type": "markdown",
   "id": "b61131ad-02b1-4881-93db-e423aee115c5",
   "metadata": {},
   "source": [
    "Probably we can keep just the 4 most common titles and set others based on gender (Mr or Mrs)"
   ]
  },
  {
   "cell_type": "code",
   "execution_count": 17,
   "id": "189d8a5d-6f0e-43dd-a2dd-2f0a0a00feae",
   "metadata": {},
   "outputs": [],
   "source": [
    "import re\n",
    "\n",
    "class ExtractTitleTransformer(BaseEstimator, TransformerMixin):\n",
    "    \n",
    "    def __init__(self):\n",
    "        self._title_regexp = re.compile('([A-Za-z]+)\\.')\n",
    "    \n",
    "    def fit(self, X, y):\n",
    "        return self\n",
    "    \n",
    "    def transform(self, X:pd.DataFrame):\n",
    "        data = X.copy()\n",
    "        data['Title'] = data['Name'].map(lambda x: self._extract_title(x))\n",
    "        data['Title'] = data.apply(lambda x: self._normalize(x), axis=1)\n",
    "        return data\n",
    "        \n",
    "    def _extract_title(self, value):\n",
    "        return str(self._title_regexp.findall(value)[0]).strip()\n",
    "    \n",
    "    def _normalize(self, row:pd.DataFrame):\n",
    "        if row['Title'] in ['Mr', 'Mrs', 'Miss', 'Master']:\n",
    "            return row['Title']\n",
    "        \n",
    "        if row['Sex'] == 'male':\n",
    "            return 'Mr'\n",
    "        \n",
    "        return 'Mrs'"
   ]
  },
  {
   "cell_type": "markdown",
   "id": "1d442e42-deb7-4ffa-a371-d611ecb2c9f1",
   "metadata": {},
   "source": [
    "### Create new column to hold the information if a passenger has a cabin "
   ]
  },
  {
   "cell_type": "markdown",
   "id": "0551f994-9831-4a31-99d4-4242f7b670dd",
   "metadata": {},
   "source": [
    "The fact of a passenger owns or not a cabin may have some influence on the survival chance."
   ]
  },
  {
   "cell_type": "code",
   "execution_count": 18,
   "id": "dd3ed084-1cbd-4e20-85ec-cf16ea0c50d5",
   "metadata": {},
   "outputs": [],
   "source": [
    "class HasCabinTransformer(BaseEstimator, TransformerMixin):\n",
    "    \n",
    "    def fit(self, X, y):\n",
    "        return self\n",
    "    \n",
    "    def transform(self, X:pd.DataFrame):\n",
    "        data = X.copy()\n",
    "        data['HasCabin'] = raw_data['Cabin'].isnull().apply(lambda x: 0 if x else 1)\n",
    "        return data"
   ]
  },
  {
   "cell_type": "markdown",
   "id": "6f2c1d3e-0406-4db3-866d-10b872810cdf",
   "metadata": {},
   "source": [
    "### Fill null for Age Column"
   ]
  },
  {
   "cell_type": "markdown",
   "id": "cf49bcb6-4ca9-458d-87cf-c16d35e1c185",
   "metadata": {},
   "source": [
    "I'm planning to fill the nulls with the mode for age, but probably use the new created Title column may be help to provide more accurated values. "
   ]
  },
  {
   "cell_type": "code",
   "execution_count": 19,
   "id": "ac93eae3-52bf-46bc-9dd3-ad5535c7a979",
   "metadata": {},
   "outputs": [],
   "source": [
    "class AgeFillNullsTransformer(BaseEstimator, TransformerMixin):\n",
    "    \n",
    "    def fit(self, X:pd.DataFrame, y):\n",
    "        self._title_age = X.groupby(['Title'])['Age'].agg(lambda x: x.mode()[0]).to_dict()\n",
    "        return self\n",
    "        \n",
    "    def transform(self, X:pd.DataFrame):\n",
    "        data = X.copy()\n",
    "        \n",
    "        for key in self._title_age:\n",
    "            data.loc[(data['Title']==key) & (data['Age'].isna()), 'Age'] = self._title_age[key]\n",
    "        \n",
    "        return data"
   ]
  },
  {
   "cell_type": "markdown",
   "id": "de8bf768-973c-42e5-b421-1fd3a9e0964f",
   "metadata": {},
   "source": [
    "### Drop Columns Transformer"
   ]
  },
  {
   "cell_type": "markdown",
   "id": "5047a2bf-3483-4248-aae0-e2fde2e44577",
   "metadata": {},
   "source": [
    "We need to drop some columns, so we need a way to do it."
   ]
  },
  {
   "cell_type": "code",
   "execution_count": 20,
   "id": "2bdfa2a3-29d4-4632-b705-6566a6f17bf3",
   "metadata": {},
   "outputs": [],
   "source": [
    "class DropColumnsTransformer(BaseEstimator, TransformerMixin):\n",
    "    \n",
    "    def __init__(self, cols):\n",
    "        self.cols = cols if isinstance(cols, list) else [cols]\n",
    "        \n",
    "    def fit(self, X, y):\n",
    "        return self\n",
    "    \n",
    "    def transform(self, X:pd.DataFrame):\n",
    "        return X.drop(self.cols, axis=1)\n"
   ]
  },
  {
   "cell_type": "markdown",
   "id": "163e445c-629e-40db-8153-00ca67c8fed6",
   "metadata": {},
   "source": [
    "### Rescale some columns"
   ]
  },
  {
   "cell_type": "markdown",
   "id": "d49c294e-3ac4-447c-92b2-0a9946d2eea4",
   "metadata": {},
   "source": [
    "Some of the columns contains continuous data, but most of machine learn algorithms doesn't work properly with high number and usually is a good idea to scale to a small range of value (eg: 0 to 1)."
   ]
  },
  {
   "cell_type": "code",
   "execution_count": 21,
   "id": "8b7200a1-d76d-4719-a565-e0b22abb3efd",
   "metadata": {},
   "outputs": [],
   "source": [
    "# I could use the MinMaxScaller, but I want to keep the data as a Pandas DataFrame\n",
    "class ScallerTransformer(BaseEstimator, TransformerMixin):\n",
    "    \n",
    "    def __init__(self, cols):\n",
    "        self.cols = cols if isinstance(cols, list) else [cols]\n",
    "        \n",
    "    def fit(self, X:pd.DataFrame, y):\n",
    "        self._max = X[self.cols].max().to_dict()\n",
    "        return self\n",
    "    \n",
    "    def transform(self, X:pd.DataFrame):\n",
    "        data = X.copy()\n",
    "        \n",
    "        for key in self._max:\n",
    "            data[key] = data[key] / self._max[key]\n",
    "        \n",
    "        return data"
   ]
  },
  {
   "cell_type": "markdown",
   "id": "15efb204-8631-42ed-9130-3918cbf317c4",
   "metadata": {},
   "source": [
    "### One Hot Encode Categorical Features"
   ]
  },
  {
   "cell_type": "markdown",
   "id": "319e8593-eeb0-47e4-9387-dbea7787124d",
   "metadata": {},
   "source": [
    "Categorical features will work way better as numerical values."
   ]
  },
  {
   "cell_type": "code",
   "execution_count": 22,
   "id": "5efc41c9-9d7f-40c7-abcd-9f6455789872",
   "metadata": {},
   "outputs": [],
   "source": [
    "# I could use the OneHotEncodder, but I would like to keep the data as a Pandas DataFrame\n",
    "class OneHotTransformer(BaseEstimator, TransformerMixin):\n",
    "    \n",
    "    def __init__(self, cols):\n",
    "        self.cols = cols if isinstance(cols, list) else [cols]\n",
    "        \n",
    "    def fit(self, X, y):\n",
    "        return self\n",
    "    \n",
    "    def transform(self, X:pd.DataFrame):\n",
    "        data = X.copy()\n",
    "        return pd.get_dummies(data, columns=self.cols)\n",
    "    "
   ]
  },
  {
   "cell_type": "markdown",
   "id": "4b5cb32a-803c-4231-9c01-76b9f89db363",
   "metadata": {},
   "source": [
    "### Create the Pipeline to prepare the dataset for machine learn algorithms"
   ]
  },
  {
   "cell_type": "code",
   "execution_count": 23,
   "id": "c44e68cc-7666-480c-b0aa-fb0bce7f1d82",
   "metadata": {},
   "outputs": [],
   "source": [
    "from sklearn.pipeline import Pipeline"
   ]
  },
  {
   "cell_type": "code",
   "execution_count": 24,
   "id": "0d0d25ad-67a8-4e5f-a683-d134d9c5f2e3",
   "metadata": {},
   "outputs": [],
   "source": [
    "prepare_data_pipeline = Pipeline([\n",
    "    ('extr-title', ExtractTitleTransformer()),\n",
    "    ('has-cabin', HasCabinTransformer()),\n",
    "    ('age-nas', AgeFillNullsTransformer()),\n",
    "    ('drop-cols', DropColumnsTransformer([ 'PassengerId', 'Name', 'Ticket', 'Fare', 'Cabin', 'Embarked', 'Title' ])),\n",
    "    ('scaller', ScallerTransformer(['Age', 'SibSp', 'Parch'])),\n",
    "    ('one-hot', OneHotTransformer(['Pclass', 'Sex']))\n",
    "])"
   ]
  },
  {
   "cell_type": "markdown",
   "id": "17bd7b79-de2d-4b52-b00e-855ab0dbf147",
   "metadata": {},
   "source": [
    "## Train the pipeline and save the state of the pipeline"
   ]
  },
  {
   "cell_type": "markdown",
   "id": "afcdfb43-c776-4d40-86b6-89278d1d23ed",
   "metadata": {},
   "source": [
    "I'll train the prepare data pipeline using full data. This is just for data preparation so use the whole data if ok and should provide better result."
   ]
  },
  {
   "cell_type": "code",
   "execution_count": 25,
   "id": "27219055-f1aa-49c4-a54c-a58162ae958d",
   "metadata": {},
   "outputs": [
    {
     "data": {
      "text/plain": [
       "Pipeline(steps=[('extr-title', ExtractTitleTransformer()),\n",
       "                ('has-cabin', HasCabinTransformer()),\n",
       "                ('age-nas', AgeFillNullsTransformer()),\n",
       "                ('drop-cols',\n",
       "                 DropColumnsTransformer(cols=['PassengerId', 'Name', 'Ticket',\n",
       "                                              'Fare', 'Cabin', 'Embarked',\n",
       "                                              'Title'])),\n",
       "                ('scaller', ScallerTransformer(cols=['Age', 'SibSp', 'Parch'])),\n",
       "                ('one-hot', OneHotTransformer(cols=['Pclass', 'Sex']))])"
      ]
     },
     "execution_count": 25,
     "metadata": {},
     "output_type": "execute_result"
    }
   ],
   "source": [
    "prepare_data_pipeline.fit(raw_data.drop(['Survived'], axis=1), raw_data['Survived'])"
   ]
  },
  {
   "cell_type": "markdown",
   "id": "c741be46-4023-4f27-98d2-faf201799a31",
   "metadata": {},
   "source": [
    "# Model trainig"
   ]
  },
  {
   "cell_type": "code",
   "execution_count": 26,
   "id": "b90db9b1-9b1b-42af-85e8-692c253c8301",
   "metadata": {},
   "outputs": [],
   "source": [
    "X_train = prepare_data_pipeline.transform(X_train)\n",
    "X_valid = prepare_data_pipeline.transform(X_valid)"
   ]
  },
  {
   "cell_type": "code",
   "execution_count": 27,
   "id": "b0a014ae-b577-4557-a53b-c784f44bfdc5",
   "metadata": {},
   "outputs": [
    {
     "data": {
      "text/html": [
       "<div>\n",
       "<style scoped>\n",
       "    .dataframe tbody tr th:only-of-type {\n",
       "        vertical-align: middle;\n",
       "    }\n",
       "\n",
       "    .dataframe tbody tr th {\n",
       "        vertical-align: top;\n",
       "    }\n",
       "\n",
       "    .dataframe thead th {\n",
       "        text-align: right;\n",
       "    }\n",
       "</style>\n",
       "<table border=\"1\" class=\"dataframe\">\n",
       "  <thead>\n",
       "    <tr style=\"text-align: right;\">\n",
       "      <th></th>\n",
       "      <th>Age</th>\n",
       "      <th>SibSp</th>\n",
       "      <th>Parch</th>\n",
       "      <th>HasCabin</th>\n",
       "      <th>Pclass_1</th>\n",
       "      <th>Pclass_2</th>\n",
       "      <th>Pclass_3</th>\n",
       "      <th>Sex_female</th>\n",
       "      <th>Sex_male</th>\n",
       "    </tr>\n",
       "  </thead>\n",
       "  <tbody>\n",
       "    <tr>\n",
       "      <th>35</th>\n",
       "      <td>0.5250</td>\n",
       "      <td>0.125</td>\n",
       "      <td>0.0</td>\n",
       "      <td>0</td>\n",
       "      <td>1</td>\n",
       "      <td>0</td>\n",
       "      <td>0</td>\n",
       "      <td>0</td>\n",
       "      <td>1</td>\n",
       "    </tr>\n",
       "    <tr>\n",
       "      <th>46</th>\n",
       "      <td>0.2375</td>\n",
       "      <td>0.125</td>\n",
       "      <td>0.0</td>\n",
       "      <td>0</td>\n",
       "      <td>0</td>\n",
       "      <td>0</td>\n",
       "      <td>1</td>\n",
       "      <td>0</td>\n",
       "      <td>1</td>\n",
       "    </tr>\n",
       "    <tr>\n",
       "      <th>453</th>\n",
       "      <td>0.6125</td>\n",
       "      <td>0.125</td>\n",
       "      <td>0.0</td>\n",
       "      <td>1</td>\n",
       "      <td>1</td>\n",
       "      <td>0</td>\n",
       "      <td>0</td>\n",
       "      <td>0</td>\n",
       "      <td>1</td>\n",
       "    </tr>\n",
       "    <tr>\n",
       "      <th>291</th>\n",
       "      <td>0.2375</td>\n",
       "      <td>0.125</td>\n",
       "      <td>0.0</td>\n",
       "      <td>1</td>\n",
       "      <td>1</td>\n",
       "      <td>0</td>\n",
       "      <td>0</td>\n",
       "      <td>1</td>\n",
       "      <td>0</td>\n",
       "    </tr>\n",
       "    <tr>\n",
       "      <th>748</th>\n",
       "      <td>0.2375</td>\n",
       "      <td>0.125</td>\n",
       "      <td>0.0</td>\n",
       "      <td>1</td>\n",
       "      <td>1</td>\n",
       "      <td>0</td>\n",
       "      <td>0</td>\n",
       "      <td>0</td>\n",
       "      <td>1</td>\n",
       "    </tr>\n",
       "  </tbody>\n",
       "</table>\n",
       "</div>"
      ],
      "text/plain": [
       "        Age  SibSp  Parch  HasCabin  Pclass_1  Pclass_2  Pclass_3  Sex_female  \\\n",
       "35   0.5250  0.125    0.0         0         1         0         0           0   \n",
       "46   0.2375  0.125    0.0         0         0         0         1           0   \n",
       "453  0.6125  0.125    0.0         1         1         0         0           0   \n",
       "291  0.2375  0.125    0.0         1         1         0         0           1   \n",
       "748  0.2375  0.125    0.0         1         1         0         0           0   \n",
       "\n",
       "     Sex_male  \n",
       "35          1  \n",
       "46          1  \n",
       "453         1  \n",
       "291         0  \n",
       "748         1  "
      ]
     },
     "execution_count": 27,
     "metadata": {},
     "output_type": "execute_result"
    }
   ],
   "source": [
    "X_train.head()"
   ]
  },
  {
   "cell_type": "markdown",
   "id": "fff87df8-82ab-4636-b27d-61a9c2ce0b3e",
   "metadata": {},
   "source": [
    "## Train some models to compare the different performances"
   ]
  },
  {
   "cell_type": "code",
   "execution_count": 28,
   "id": "b8b2cba3-117f-44b4-90c4-5836dccfe0b1",
   "metadata": {},
   "outputs": [],
   "source": [
    "from sklearn.svm import SVC\n",
    "from sklearn.ensemble import RandomForestClassifier\n",
    "from sklearn.tree import DecisionTreeClassifier\n",
    "from sklearn.linear_model import SGDClassifier, RidgeClassifier\n",
    "from sklearn.neighbors import KNeighborsClassifier\n",
    "from sklearn.naive_bayes import GaussianNB\n",
    "from sklearn.neural_network import MLPClassifier\n",
    "\n",
    "from sklearn.metrics import accuracy_score, f1_score, recall_score"
   ]
  },
  {
   "cell_type": "code",
   "execution_count": 29,
   "id": "a95f9fee-33e3-4170-a085-a14fbd2586d6",
   "metadata": {},
   "outputs": [],
   "source": [
    "svc_pred = SVC().fit(X_train.copy(), y_train.copy()).predict(X_valid.copy())\n",
    "rand_forest_pred = RandomForestClassifier().fit(X_train.copy(), y_train.copy()).predict(X_valid.copy())\n",
    "dec_tree_pred = DecisionTreeClassifier().fit(X_train.copy(), y_train.copy()).predict(X_valid.copy())\n",
    "sgdc_pred = SGDClassifier().fit(X_train.copy(), y_train.copy()).predict(X_valid.copy())\n",
    "ridge_prec = RidgeClassifier().fit(X_train.copy(), y_train.copy()).predict(X_valid.copy())\n",
    "knn_pred = KNeighborsClassifier().fit(X_train.copy(), y_train.copy()).predict(X_valid.copy())\n",
    "gaussion_pred = GaussianNB().fit(X_train.copy(), y_train.copy()).predict(X_valid.copy())\n",
    "mlp_pred = MLPClassifier(max_iter=1000).fit(X_train.copy(), y_train.copy()).predict(X_valid.copy())"
   ]
  },
  {
   "cell_type": "code",
   "execution_count": 30,
   "id": "0d0ad75e-d040-4d61-9078-e70411c01c79",
   "metadata": {},
   "outputs": [],
   "source": [
    "svc_acc = accuracy_score(y_valid, svc_pred)\n",
    "svc_f1 = f1_score(y_valid, svc_pred)\n",
    "svc_recall = recall_score(y_valid, svc_pred)\n",
    "\n",
    "rand_forest_acc = accuracy_score(y_valid, rand_forest_pred)\n",
    "rand_forest_f1 = f1_score(y_valid, rand_forest_pred)\n",
    "rand_forest_recall = recall_score(y_valid, rand_forest_pred)\n",
    "\n",
    "dec_tree_acc = accuracy_score(y_valid, dec_tree_pred)\n",
    "dec_tree_f1 = f1_score(y_valid, dec_tree_pred)\n",
    "dec_tree_recall = recall_score(y_valid, dec_tree_pred)\n",
    "\n",
    "sgdc_acc = accuracy_score(y_valid, sgdc_pred)\n",
    "sgdc_f1 = f1_score(y_valid, sgdc_pred)\n",
    "sgdc_recall = recall_score(y_valid, sgdc_pred)\n",
    "\n",
    "ridge_acc = accuracy_score(y_valid, ridge_prec)\n",
    "ridge_f1 = f1_score(y_valid, ridge_prec)\n",
    "ridge_recall = recall_score(y_valid, ridge_prec)\n",
    "\n",
    "knn_acc = accuracy_score(y_valid, knn_pred)\n",
    "knn_f1 = f1_score(y_valid, knn_pred)\n",
    "knn_recall = recall_score(y_valid, knn_pred)\n",
    "\n",
    "gaussion_acc = accuracy_score(y_valid, gaussion_pred)\n",
    "gaussion_f1 = f1_score(y_valid, gaussion_pred)\n",
    "gaussion_recall = recall_score(y_valid, gaussion_pred)\n",
    "\n",
    "mlp_acc = accuracy_score(y_valid, mlp_pred)\n",
    "mlp_f1 = f1_score(y_valid, mlp_pred)\n",
    "mlp_recall = recall_score(y_valid, mlp_pred)"
   ]
  },
  {
   "cell_type": "code",
   "execution_count": 31,
   "id": "a0a0f130-8c6e-45fc-ad38-2502fbae501c",
   "metadata": {},
   "outputs": [
    {
     "name": "stdout",
     "output_type": "stream",
     "text": [
      "Classifier: SVC - Accuracy: 0.7802690582959642 - f1 score: 0.7065868263473054 - recall: 0.6210526315789474\n",
      "Classifier: RandomForestClassifier - Accuracy: 0.7757847533632287 - f1 score: 0.7222222222222222 - recall: 0.6842105263157895\n",
      "Classifier: DecisionTreeClassifier - Accuracy: 0.7668161434977578 - f1 score: 0.7078651685393258 - recall: 0.6631578947368421\n",
      "Classifier: SGDClassifier - Accuracy: 0.7399103139013453 - f1 score: 0.5797101449275363 - recall: 0.42105263157894735\n",
      "Classifier: RidgeClassifier - Accuracy: 0.8026905829596412 - f1 score: 0.7555555555555556 - recall: 0.7157894736842105\n",
      "Classifier: KNeighborsClassifier - Accuracy: 0.7623318385650224 - f1 score: 0.6748466257668712 - recall: 0.5789473684210527\n",
      "Classifier: GaussianNB - Accuracy: 0.7757847533632287 - f1 score: 0.7448979591836735 - recall: 0.7684210526315789\n",
      "Classifier: MLPClassifier - Accuracy: 0.7802690582959642 - f1 score: 0.6993865030674846 - recall: 0.6\n"
     ]
    }
   ],
   "source": [
    "print(f'Classifier: SVC - Accuracy: {svc_acc} - f1 score: {svc_f1} - recall: {svc_recall}')\n",
    "print(f'Classifier: RandomForestClassifier - Accuracy: {rand_forest_acc} - f1 score: {rand_forest_f1} - recall: {rand_forest_recall}')\n",
    "print(f'Classifier: DecisionTreeClassifier - Accuracy: {dec_tree_acc} - f1 score: {dec_tree_f1} - recall: {dec_tree_recall}')\n",
    "print(f'Classifier: SGDClassifier - Accuracy: {sgdc_acc} - f1 score: {sgdc_f1} - recall: {sgdc_recall}')\n",
    "print(f'Classifier: RidgeClassifier - Accuracy: {ridge_acc} - f1 score: {ridge_f1} - recall: {ridge_recall}')\n",
    "print(f'Classifier: KNeighborsClassifier - Accuracy: {knn_acc} - f1 score: {knn_f1} - recall: {knn_recall}')\n",
    "print(f'Classifier: GaussianNB - Accuracy: {gaussion_acc} - f1 score: {gaussion_f1} - recall: {gaussion_recall}')\n",
    "print(f'Classifier: MLPClassifier - Accuracy: {mlp_acc} - f1 score: {mlp_f1} - recall: {mlp_recall}')"
   ]
  },
  {
   "cell_type": "code",
   "execution_count": 32,
   "id": "8d62896c-b77a-43b3-a48c-02fe2ef7c518",
   "metadata": {},
   "outputs": [
    {
     "name": "stdout",
     "output_type": "stream",
     "text": [
      "Classifier: VotingClassifier - Accuracy: 0.7892376681614349 - f1 score 0.7218934911242604 - recall 0.6421052631578947\n"
     ]
    }
   ],
   "source": [
    "from sklearn.ensemble import VotingClassifier\n",
    "\n",
    "ridge = RidgeClassifier()\n",
    "svc = SVC()\n",
    "mlp = MLPClassifier(max_iter=1000)\n",
    "rand_forest = RandomForestClassifier()\n",
    "gaussian = GaussianNB()\n",
    "\n",
    "\n",
    "# using 3 of best models\n",
    "voting = VotingClassifier([('Ridge', ridge), ('SVC', svc), ('mlp', mlp), ('rnd_forest', rand_forest), ('gaussian', gaussian)])\n",
    "voting.fit(X_train.copy(), y_train.copy())\n",
    "voting_pred = voting.predict(X_valid.copy())\n",
    "\n",
    "voting_acc = accuracy_score(y_valid, voting_pred)\n",
    "voting_f1 = f1_score(y_valid, voting_pred)\n",
    "voting_recall = recall_score(y_valid, voting_pred)\n",
    "\n",
    "print(f'Classifier: VotingClassifier - Accuracy: {voting_acc} - f1 score {voting_f1} - recall {voting_recall}')"
   ]
  },
  {
   "cell_type": "markdown",
   "id": "82aa84fb-de84-400b-8017-bfe0b3141a67",
   "metadata": {},
   "source": [
    "Ok, we have about 80% accuracy in the best scenario. The performance is not so bad and 20% better tham our baseline.\n",
    "\n",
    "We can try to tune some of the models and see if we can improve the final accuracy. \n",
    "\n",
    "The top models are:\n",
    "* RidgeClassifier - 80%\n",
    "* SVC and MLPClassifier - 78%\n",
    "* RandomForestClassifier and GaussianNB - 77%\n",
    "\n",
    "The VotingClassifier is not performing so well as expected. Maybe after the tunning fase we can get a better accuracy."
   ]
  },
  {
   "cell_type": "markdown",
   "id": "0ba75766-1f5c-4c1d-939f-0c0009eb52d9",
   "metadata": {},
   "source": [
    "## Tunne the top models"
   ]
  },
  {
   "cell_type": "code",
   "execution_count": 33,
   "id": "de9d66aa-070b-402c-82da-99adc41a2ad3",
   "metadata": {},
   "outputs": [],
   "source": [
    "from sklearn.model_selection import GridSearchCV\n",
    "from sklearn.metrics import make_scorer"
   ]
  },
  {
   "cell_type": "code",
   "execution_count": 34,
   "id": "d0c981a2-f0fe-4f21-8360-918f1f71a124",
   "metadata": {},
   "outputs": [
    {
     "name": "stdout",
     "output_type": "stream",
     "text": [
      "Classifier: RidgeClassifier (Default) - Accuracy: 0.8026905829596412 - f1 score: 0.7555555555555556 - recall: 0.7157894736842105\n",
      "Classifier: RidgeClassifier (Grid) - Accuracy: 0.8026905829596412 - f1 score: 0.7555555555555556 - recall: 0.7157894736842105\n",
      "Best Parameters: {'alpha': 0.1, 'fit_intercept': True, 'tol': 0.001}\n"
     ]
    }
   ],
   "source": [
    "param_grid = [\n",
    "    { 'alpha': [1.0, 0.1, 0.01], 'fit_intercept': [True, False], 'tol': [0.001, 0.01] }\n",
    "]\n",
    "\n",
    "grid_search = GridSearchCV(RidgeClassifier(), param_grid, cv=5, scoring=make_scorer(accuracy_score, ))\n",
    "grid_search.fit(X_train.copy(), y_train.copy())\n",
    "\n",
    "ridge_pred = grid_search.predict(X_valid.copy())\n",
    "ridge = grid_search.best_estimator_\n",
    "\n",
    "ridge_grid_acc = accuracy_score(y_valid, ridge_prec)\n",
    "ridge_grid_f1 = f1_score(y_valid, ridge_prec)\n",
    "ridge_grid_recall = recall_score(y_valid, ridge_prec)\n",
    "\n",
    "print(f'Classifier: RidgeClassifier (Default) - Accuracy: {ridge_acc} - f1 score: {ridge_f1} - recall: {ridge_recall}')\n",
    "print(f'Classifier: RidgeClassifier (Grid) - Accuracy: {ridge_grid_acc} - f1 score: {ridge_grid_f1} - recall: {ridge_grid_recall}')\n",
    "print(f'Best Parameters: {grid_search.best_params_}')"
   ]
  },
  {
   "cell_type": "markdown",
   "id": "6554defe-3e04-4398-938a-7a31d05be5eb",
   "metadata": {},
   "source": [
    "I got exact the same result at the end, so i could not tune this model"
   ]
  },
  {
   "cell_type": "code",
   "execution_count": 35,
   "id": "0103b258-b4bb-47ea-8fdb-5a190881147c",
   "metadata": {},
   "outputs": [
    {
     "name": "stdout",
     "output_type": "stream",
     "text": [
      "Classifier: SVC (Default) - Accuracy: 0.7802690582959642 - f1 score: 0.7065868263473054 - recall: 0.6210526315789474\n",
      "Classifier: SVC (Grid) - Accuracy: 0.7847533632286996 - f1 score: 0.7142857142857143 - recall: 0.631578947368421\n",
      "Best Parameters: {'C': 1.0, 'kernel': 'poly'}\n"
     ]
    }
   ],
   "source": [
    "param_grid = [\n",
    "    { 'C': [1.0, 0.1, 0.01], 'kernel': ['linear', 'poly', 'rbf', 'sigmoid'] }\n",
    "]\n",
    "\n",
    "grid_search = GridSearchCV(SVC(), param_grid, cv=5, scoring=make_scorer(accuracy_score, ))\n",
    "grid_search.fit(X_train.copy(), y_train.copy())\n",
    "\n",
    "svc_pred = grid_search.predict(X_valid.copy())\n",
    "svc = grid_search.best_estimator_\n",
    "\n",
    "svc_grid_acc = accuracy_score(y_valid, svc_pred)\n",
    "svc_grid_f1 = f1_score(y_valid, svc_pred)\n",
    "svc_grid_recall = recall_score(y_valid, svc_pred)\n",
    "\n",
    "print(f'Classifier: SVC (Default) - Accuracy: {svc_acc} - f1 score: {svc_f1} - recall: {svc_recall}')\n",
    "print(f'Classifier: SVC (Grid) - Accuracy: {svc_grid_acc} - f1 score: {svc_grid_f1} - recall: {svc_grid_recall}')\n",
    "print(f'Best Parameters: {grid_search.best_params_}')"
   ]
  },
  {
   "cell_type": "markdown",
   "id": "05aeb606-f162-4a26-89bd-692826eb4607",
   "metadata": {},
   "source": [
    "No much different"
   ]
  },
  {
   "cell_type": "code",
   "execution_count": 36,
   "id": "b54fc5d8-e28c-40c5-9827-7200fb3df74b",
   "metadata": {},
   "outputs": [
    {
     "name": "stdout",
     "output_type": "stream",
     "text": [
      "Classifier: MLPClassifier (Default) - Accuracy: 0.7802690582959642 - f1 score: 0.6993865030674846 - recall: 0.6\n",
      "Classifier: MLPClassifier (Grid) - Accuracy: 0.7713004484304933 - f1 score: 0.679245283018868 - recall: 0.5684210526315789\n",
      "Best Parameters: {'activation': 'tanh', 'alpha': 0.0001, 'hidden_layer_sizes': (50, 25, 5), 'solver': 'adam'}\n"
     ]
    }
   ],
   "source": [
    "param_grid = [\n",
    "    { \n",
    "        'hidden_layer_sizes': [(100, 50, 25), (50, 25, 5), (25, 5, 1)], \n",
    "        'activation': ['identity', 'logistic', 'tanh', 'relu'], \n",
    "        'solver': ['sgd', 'adam'],\n",
    "        'alpha': [0.0001, 0.01, 0.001, 0.0001]\n",
    "    }\n",
    "]\n",
    "\n",
    "grid_search = GridSearchCV(MLPClassifier(max_iter=10000), param_grid, cv=5, scoring=make_scorer(accuracy_score, ))\n",
    "grid_search.fit(X_train.copy(), y_train.copy())\n",
    "\n",
    "mlp_pred = grid_search.predict(X_valid.copy())\n",
    "mlp = grid_search.best_estimator_\n",
    "\n",
    "mlp_grid_acc = accuracy_score(y_valid, mlp_pred)\n",
    "mlp_grid_f1 = f1_score(y_valid, mlp_pred)\n",
    "mlp_grid_recall = recall_score(y_valid, mlp_pred)\n",
    "\n",
    "print(f'Classifier: MLPClassifier (Default) - Accuracy: {mlp_acc} - f1 score: {mlp_f1} - recall: {mlp_recall}')\n",
    "print(f'Classifier: MLPClassifier (Grid) - Accuracy: {mlp_grid_acc} - f1 score: {mlp_grid_f1} - recall: {mlp_grid_recall}')\n",
    "print(f'Best Parameters: {grid_search.best_params_}')"
   ]
  },
  {
   "cell_type": "markdown",
   "id": "e6e5f9ee-6196-4562-b476-ca5639bfabc6",
   "metadata": {},
   "source": [
    "look a bit worst"
   ]
  },
  {
   "cell_type": "code",
   "execution_count": 37,
   "id": "fbbe0d72-0806-4745-80a8-a7c4714e0bbf",
   "metadata": {},
   "outputs": [
    {
     "name": "stdout",
     "output_type": "stream",
     "text": [
      "Classifier: RandomForestClassifier (Default) - Accuracy: 0.7757847533632287 - f1 score: 0.7222222222222222 - recall: 0.6842105263157895\n",
      "Classifier: RandomForestClassifier (Grid) - Accuracy: 0.7847533632286996 - f1 score: 0.7073170731707318 - recall: 0.6105263157894737\n",
      "Best Parameters: {'criterion': 'entropy', 'max_depth': 10, 'min_samples_leaf': 5, 'min_samples_split': 2, 'n_estimators': 200}\n"
     ]
    }
   ],
   "source": [
    "param_grid = [\n",
    "    { \n",
    "        'n_estimators': [200, 100, 50], 'criterion': [\"gini\", \"entropy\"], 'max_depth': [None, 100, 50, 10],\n",
    "        'min_samples_split': [2, 10, 20], 'min_samples_leaf': [1, 5, 10, 20]\n",
    "    }\n",
    "]\n",
    "\n",
    "grid_search = GridSearchCV(RandomForestClassifier(), param_grid, cv=5, scoring=make_scorer(accuracy_score, ))\n",
    "grid_search.fit(X_train.copy(), y_train.copy())\n",
    "\n",
    "rand_forest_pred = grid_search.predict(X_valid.copy())\n",
    "rand_forest = grid_search.best_estimator_\n",
    "\n",
    "rand_forest_grid_acc = accuracy_score(y_valid, rand_forest_pred)\n",
    "rand_forest_grid_f1 = f1_score(y_valid, rand_forest_pred)\n",
    "rand_forest_grid_recall = recall_score(y_valid, rand_forest_pred)\n",
    "\n",
    "print(f'Classifier: RandomForestClassifier (Default) - Accuracy: {rand_forest_acc} - f1 score: {rand_forest_f1} - recall: {rand_forest_recall}')\n",
    "print(f'Classifier: RandomForestClassifier (Grid) - Accuracy: {rand_forest_grid_acc} - f1 score: {rand_forest_grid_f1} - recall: {rand_forest_grid_recall}')\n",
    "print(f'Best Parameters: {grid_search.best_params_}')"
   ]
  },
  {
   "cell_type": "markdown",
   "id": "6fd05ef2-2a86-459c-bb5c-fa61c131466f",
   "metadata": {},
   "source": [
    "No much different too"
   ]
  },
  {
   "cell_type": "code",
   "execution_count": 38,
   "id": "2823ff89-fb20-4dcc-90c6-f3b370d2ecc4",
   "metadata": {},
   "outputs": [
    {
     "name": "stdout",
     "output_type": "stream",
     "text": [
      "Classifier: GaussianNB (Default) - Accuracy: 0.7757847533632287 - f1 score: 0.7448979591836735 - recall: 0.7684210526315789\n",
      "Classifier: GaussianNB (Grid) - Accuracy: 0.7847533632286996 - f1 score: 0.7073170731707318 - recall: 0.6105263157894737\n",
      "Best Parameters: {'var_smoothing': 0.01}\n"
     ]
    }
   ],
   "source": [
    "param_grid = [\n",
    "    { 'var_smoothing': [0.000000001, 0.000001, 0.01] }\n",
    "]\n",
    "\n",
    "grid_search = GridSearchCV(GaussianNB(), param_grid, cv=5, scoring=make_scorer(accuracy_score, ))\n",
    "grid_search.fit(X_train.copy(), y_train.copy())\n",
    "\n",
    "gaussian_pred = grid_search.predict(X_valid.copy())\n",
    "gaussian = grid_search.best_estimator_\n",
    "\n",
    "gaussian_grid_acc = accuracy_score(y_valid, rand_forest_pred)\n",
    "gaussian_grid_f1 = f1_score(y_valid, rand_forest_pred)\n",
    "gaussian_grid_recall = recall_score(y_valid, rand_forest_pred)\n",
    "\n",
    "print(f'Classifier: GaussianNB (Default) - Accuracy: {gaussion_acc} - f1 score: {gaussion_f1} - recall: {gaussion_recall}')\n",
    "print(f'Classifier: GaussianNB (Grid) - Accuracy: {gaussian_grid_acc} - f1 score: {gaussian_grid_f1} - recall: {gaussian_grid_recall}')\n",
    "print(f'Best Parameters: {grid_search.best_params_}')"
   ]
  },
  {
   "cell_type": "markdown",
   "id": "8a41db96-e7f7-4094-ab05-92868aaec203",
   "metadata": {},
   "source": [
    "No much difference again."
   ]
  },
  {
   "cell_type": "markdown",
   "id": "17a725fb-bd43-468f-9914-fabb82461215",
   "metadata": {},
   "source": [
    "So the best classifier is RidgeClassifier. To improve the accuracy i believe we need more data ou more features.\n",
    "I'll prepare the data for submition"
   ]
  },
  {
   "cell_type": "markdown",
   "id": "9b3d4e92-060a-4e7f-a75f-b6b4354c85e0",
   "metadata": {},
   "source": [
    "## Prepare the data for submition"
   ]
  },
  {
   "cell_type": "code",
   "execution_count": 39,
   "id": "56dd2837-35d7-4bac-b56e-2a927193b3c3",
   "metadata": {},
   "outputs": [],
   "source": [
    "X_train = prepare_data_pipeline.transform(raw_data.drop(['Survived'], axis=1))\n",
    "y_train = raw_data['Survived']"
   ]
  },
  {
   "cell_type": "code",
   "execution_count": 40,
   "id": "48c0db02-bc1d-417c-8260-6d29ebae3a4f",
   "metadata": {},
   "outputs": [],
   "source": [
    "model = RidgeClassifier().fit(X_train, y_train)"
   ]
  },
  {
   "cell_type": "code",
   "execution_count": 41,
   "id": "6bc9984e-9870-451e-a8fc-69bdbd4aeb99",
   "metadata": {},
   "outputs": [
    {
     "data": {
      "text/html": [
       "<div>\n",
       "<style scoped>\n",
       "    .dataframe tbody tr th:only-of-type {\n",
       "        vertical-align: middle;\n",
       "    }\n",
       "\n",
       "    .dataframe tbody tr th {\n",
       "        vertical-align: top;\n",
       "    }\n",
       "\n",
       "    .dataframe thead th {\n",
       "        text-align: right;\n",
       "    }\n",
       "</style>\n",
       "<table border=\"1\" class=\"dataframe\">\n",
       "  <thead>\n",
       "    <tr style=\"text-align: right;\">\n",
       "      <th></th>\n",
       "      <th>PassengerId</th>\n",
       "      <th>Pclass</th>\n",
       "      <th>Name</th>\n",
       "      <th>Sex</th>\n",
       "      <th>Age</th>\n",
       "      <th>SibSp</th>\n",
       "      <th>Parch</th>\n",
       "      <th>Ticket</th>\n",
       "      <th>Fare</th>\n",
       "      <th>Cabin</th>\n",
       "      <th>Embarked</th>\n",
       "    </tr>\n",
       "  </thead>\n",
       "  <tbody>\n",
       "    <tr>\n",
       "      <th>0</th>\n",
       "      <td>892</td>\n",
       "      <td>3</td>\n",
       "      <td>Kelly, Mr. James</td>\n",
       "      <td>male</td>\n",
       "      <td>34.5</td>\n",
       "      <td>0</td>\n",
       "      <td>0</td>\n",
       "      <td>330911</td>\n",
       "      <td>7.8292</td>\n",
       "      <td>NaN</td>\n",
       "      <td>Q</td>\n",
       "    </tr>\n",
       "    <tr>\n",
       "      <th>1</th>\n",
       "      <td>893</td>\n",
       "      <td>3</td>\n",
       "      <td>Wilkes, Mrs. James (Ellen Needs)</td>\n",
       "      <td>female</td>\n",
       "      <td>47.0</td>\n",
       "      <td>1</td>\n",
       "      <td>0</td>\n",
       "      <td>363272</td>\n",
       "      <td>7.0000</td>\n",
       "      <td>NaN</td>\n",
       "      <td>S</td>\n",
       "    </tr>\n",
       "    <tr>\n",
       "      <th>2</th>\n",
       "      <td>894</td>\n",
       "      <td>2</td>\n",
       "      <td>Myles, Mr. Thomas Francis</td>\n",
       "      <td>male</td>\n",
       "      <td>62.0</td>\n",
       "      <td>0</td>\n",
       "      <td>0</td>\n",
       "      <td>240276</td>\n",
       "      <td>9.6875</td>\n",
       "      <td>NaN</td>\n",
       "      <td>Q</td>\n",
       "    </tr>\n",
       "    <tr>\n",
       "      <th>3</th>\n",
       "      <td>895</td>\n",
       "      <td>3</td>\n",
       "      <td>Wirz, Mr. Albert</td>\n",
       "      <td>male</td>\n",
       "      <td>27.0</td>\n",
       "      <td>0</td>\n",
       "      <td>0</td>\n",
       "      <td>315154</td>\n",
       "      <td>8.6625</td>\n",
       "      <td>NaN</td>\n",
       "      <td>S</td>\n",
       "    </tr>\n",
       "    <tr>\n",
       "      <th>4</th>\n",
       "      <td>896</td>\n",
       "      <td>3</td>\n",
       "      <td>Hirvonen, Mrs. Alexander (Helga E Lindqvist)</td>\n",
       "      <td>female</td>\n",
       "      <td>22.0</td>\n",
       "      <td>1</td>\n",
       "      <td>1</td>\n",
       "      <td>3101298</td>\n",
       "      <td>12.2875</td>\n",
       "      <td>NaN</td>\n",
       "      <td>S</td>\n",
       "    </tr>\n",
       "  </tbody>\n",
       "</table>\n",
       "</div>"
      ],
      "text/plain": [
       "   PassengerId  Pclass                                          Name     Sex  \\\n",
       "0          892       3                              Kelly, Mr. James    male   \n",
       "1          893       3              Wilkes, Mrs. James (Ellen Needs)  female   \n",
       "2          894       2                     Myles, Mr. Thomas Francis    male   \n",
       "3          895       3                              Wirz, Mr. Albert    male   \n",
       "4          896       3  Hirvonen, Mrs. Alexander (Helga E Lindqvist)  female   \n",
       "\n",
       "    Age  SibSp  Parch   Ticket     Fare Cabin Embarked  \n",
       "0  34.5      0      0   330911   7.8292   NaN        Q  \n",
       "1  47.0      1      0   363272   7.0000   NaN        S  \n",
       "2  62.0      0      0   240276   9.6875   NaN        Q  \n",
       "3  27.0      0      0   315154   8.6625   NaN        S  \n",
       "4  22.0      1      1  3101298  12.2875   NaN        S  "
      ]
     },
     "execution_count": 41,
     "metadata": {},
     "output_type": "execute_result"
    }
   ],
   "source": [
    "X_test = pd.read_csv('./data/test.csv')\n",
    "X_test.head()"
   ]
  },
  {
   "cell_type": "code",
   "execution_count": 42,
   "id": "522540bc-18be-4d6d-bf66-7fa6f6c0ee10",
   "metadata": {},
   "outputs": [
    {
     "data": {
      "text/html": [
       "<div>\n",
       "<style scoped>\n",
       "    .dataframe tbody tr th:only-of-type {\n",
       "        vertical-align: middle;\n",
       "    }\n",
       "\n",
       "    .dataframe tbody tr th {\n",
       "        vertical-align: top;\n",
       "    }\n",
       "\n",
       "    .dataframe thead th {\n",
       "        text-align: right;\n",
       "    }\n",
       "</style>\n",
       "<table border=\"1\" class=\"dataframe\">\n",
       "  <thead>\n",
       "    <tr style=\"text-align: right;\">\n",
       "      <th></th>\n",
       "      <th>Age</th>\n",
       "      <th>SibSp</th>\n",
       "      <th>Parch</th>\n",
       "      <th>HasCabin</th>\n",
       "      <th>Pclass_1</th>\n",
       "      <th>Pclass_2</th>\n",
       "      <th>Pclass_3</th>\n",
       "      <th>Sex_female</th>\n",
       "      <th>Sex_male</th>\n",
       "    </tr>\n",
       "  </thead>\n",
       "  <tbody>\n",
       "    <tr>\n",
       "      <th>0</th>\n",
       "      <td>0.43125</td>\n",
       "      <td>0.000</td>\n",
       "      <td>0.000000</td>\n",
       "      <td>0</td>\n",
       "      <td>0</td>\n",
       "      <td>0</td>\n",
       "      <td>1</td>\n",
       "      <td>0</td>\n",
       "      <td>1</td>\n",
       "    </tr>\n",
       "    <tr>\n",
       "      <th>1</th>\n",
       "      <td>0.58750</td>\n",
       "      <td>0.125</td>\n",
       "      <td>0.000000</td>\n",
       "      <td>1</td>\n",
       "      <td>0</td>\n",
       "      <td>0</td>\n",
       "      <td>1</td>\n",
       "      <td>1</td>\n",
       "      <td>0</td>\n",
       "    </tr>\n",
       "    <tr>\n",
       "      <th>2</th>\n",
       "      <td>0.77500</td>\n",
       "      <td>0.000</td>\n",
       "      <td>0.000000</td>\n",
       "      <td>0</td>\n",
       "      <td>0</td>\n",
       "      <td>1</td>\n",
       "      <td>0</td>\n",
       "      <td>0</td>\n",
       "      <td>1</td>\n",
       "    </tr>\n",
       "    <tr>\n",
       "      <th>3</th>\n",
       "      <td>0.33750</td>\n",
       "      <td>0.000</td>\n",
       "      <td>0.000000</td>\n",
       "      <td>1</td>\n",
       "      <td>0</td>\n",
       "      <td>0</td>\n",
       "      <td>1</td>\n",
       "      <td>0</td>\n",
       "      <td>1</td>\n",
       "    </tr>\n",
       "    <tr>\n",
       "      <th>4</th>\n",
       "      <td>0.27500</td>\n",
       "      <td>0.125</td>\n",
       "      <td>0.166667</td>\n",
       "      <td>0</td>\n",
       "      <td>0</td>\n",
       "      <td>0</td>\n",
       "      <td>1</td>\n",
       "      <td>1</td>\n",
       "      <td>0</td>\n",
       "    </tr>\n",
       "  </tbody>\n",
       "</table>\n",
       "</div>"
      ],
      "text/plain": [
       "       Age  SibSp     Parch  HasCabin  Pclass_1  Pclass_2  Pclass_3  \\\n",
       "0  0.43125  0.000  0.000000         0         0         0         1   \n",
       "1  0.58750  0.125  0.000000         1         0         0         1   \n",
       "2  0.77500  0.000  0.000000         0         0         1         0   \n",
       "3  0.33750  0.000  0.000000         1         0         0         1   \n",
       "4  0.27500  0.125  0.166667         0         0         0         1   \n",
       "\n",
       "   Sex_female  Sex_male  \n",
       "0           0         1  \n",
       "1           1         0  \n",
       "2           0         1  \n",
       "3           0         1  \n",
       "4           1         0  "
      ]
     },
     "execution_count": 42,
     "metadata": {},
     "output_type": "execute_result"
    }
   ],
   "source": [
    "X = prepare_data_pipeline.transform(X_test)\n",
    "X.head()"
   ]
  },
  {
   "cell_type": "code",
   "execution_count": 43,
   "id": "04017a1d-ff73-4456-ab27-21164cb51c1a",
   "metadata": {},
   "outputs": [],
   "source": [
    "y = model.predict(X)"
   ]
  },
  {
   "cell_type": "code",
   "execution_count": 44,
   "id": "0d71d2ec-c075-4097-9acc-ab983ebdc88f",
   "metadata": {},
   "outputs": [],
   "source": [
    "X_test['Survived'] = y"
   ]
  },
  {
   "cell_type": "code",
   "execution_count": 45,
   "id": "16166180-f1d5-4d54-b584-918eb8edabec",
   "metadata": {},
   "outputs": [],
   "source": [
    "X_test[['PassengerId', 'Survived']].to_csv('./data/submition.csv', index=False)"
   ]
  },
  {
   "cell_type": "markdown",
   "id": "b55a71bf-97f6-4182-a6e3-81a04ec1e319",
   "metadata": {},
   "source": [
    "## Kaggle Result"
   ]
  },
  {
   "cell_type": "markdown",
   "id": "faca074b-ea9f-4911-a281-bcc620c3d36d",
   "metadata": {},
   "source": [
    "My Kaggle accuracy result is: **0.77511**"
   ]
  },
  {
   "cell_type": "markdown",
   "id": "7eed1407-95f5-470a-b652-10b8f4809a23",
   "metadata": {},
   "source": [
    "Not a great performance, but not totally bad.\n",
    "\n",
    "There are some techniques who may help to improve this score, lets try it"
   ]
  },
  {
   "cell_type": "markdown",
   "id": "3f1abc40-e863-454b-8138-df11ba0ce2ec",
   "metadata": {},
   "source": [
    "# Try to improve the Kaggle score"
   ]
  },
  {
   "cell_type": "markdown",
   "id": "b684da20-d4d0-4f1b-ac9e-7b951ac27269",
   "metadata": {},
   "source": [
    "## Visualize the Data"
   ]
  },
  {
   "cell_type": "code",
   "execution_count": 46,
   "id": "0ef99e71-b3f7-40a9-bbc5-86c7f79bf607",
   "metadata": {},
   "outputs": [],
   "source": [
    "import matplotlib.pyplot as plt\n",
    "import seaborn as sns"
   ]
  },
  {
   "cell_type": "code",
   "execution_count": 47,
   "id": "a99142a9-b93b-4754-a199-f214af760894",
   "metadata": {},
   "outputs": [
    {
     "data": {
      "text/html": [
       "<div>\n",
       "<style scoped>\n",
       "    .dataframe tbody tr th:only-of-type {\n",
       "        vertical-align: middle;\n",
       "    }\n",
       "\n",
       "    .dataframe tbody tr th {\n",
       "        vertical-align: top;\n",
       "    }\n",
       "\n",
       "    .dataframe thead th {\n",
       "        text-align: right;\n",
       "    }\n",
       "</style>\n",
       "<table border=\"1\" class=\"dataframe\">\n",
       "  <thead>\n",
       "    <tr style=\"text-align: right;\">\n",
       "      <th></th>\n",
       "      <th>Survived</th>\n",
       "      <th>Age</th>\n",
       "      <th>SibSp</th>\n",
       "      <th>Parch</th>\n",
       "      <th>HasCabin</th>\n",
       "      <th>Pclass_1</th>\n",
       "      <th>Pclass_2</th>\n",
       "      <th>Pclass_3</th>\n",
       "      <th>Sex_female</th>\n",
       "      <th>Sex_male</th>\n",
       "    </tr>\n",
       "  </thead>\n",
       "  <tbody>\n",
       "    <tr>\n",
       "      <th>0</th>\n",
       "      <td>0</td>\n",
       "      <td>0.2750</td>\n",
       "      <td>0.125</td>\n",
       "      <td>0.0</td>\n",
       "      <td>0</td>\n",
       "      <td>0</td>\n",
       "      <td>0</td>\n",
       "      <td>1</td>\n",
       "      <td>0</td>\n",
       "      <td>1</td>\n",
       "    </tr>\n",
       "    <tr>\n",
       "      <th>1</th>\n",
       "      <td>1</td>\n",
       "      <td>0.4750</td>\n",
       "      <td>0.125</td>\n",
       "      <td>0.0</td>\n",
       "      <td>1</td>\n",
       "      <td>1</td>\n",
       "      <td>0</td>\n",
       "      <td>0</td>\n",
       "      <td>1</td>\n",
       "      <td>0</td>\n",
       "    </tr>\n",
       "    <tr>\n",
       "      <th>2</th>\n",
       "      <td>1</td>\n",
       "      <td>0.3250</td>\n",
       "      <td>0.000</td>\n",
       "      <td>0.0</td>\n",
       "      <td>0</td>\n",
       "      <td>0</td>\n",
       "      <td>0</td>\n",
       "      <td>1</td>\n",
       "      <td>1</td>\n",
       "      <td>0</td>\n",
       "    </tr>\n",
       "    <tr>\n",
       "      <th>3</th>\n",
       "      <td>1</td>\n",
       "      <td>0.4375</td>\n",
       "      <td>0.125</td>\n",
       "      <td>0.0</td>\n",
       "      <td>1</td>\n",
       "      <td>1</td>\n",
       "      <td>0</td>\n",
       "      <td>0</td>\n",
       "      <td>1</td>\n",
       "      <td>0</td>\n",
       "    </tr>\n",
       "    <tr>\n",
       "      <th>4</th>\n",
       "      <td>0</td>\n",
       "      <td>0.4375</td>\n",
       "      <td>0.000</td>\n",
       "      <td>0.0</td>\n",
       "      <td>0</td>\n",
       "      <td>0</td>\n",
       "      <td>0</td>\n",
       "      <td>1</td>\n",
       "      <td>0</td>\n",
       "      <td>1</td>\n",
       "    </tr>\n",
       "  </tbody>\n",
       "</table>\n",
       "</div>"
      ],
      "text/plain": [
       "   Survived     Age  SibSp  Parch  HasCabin  Pclass_1  Pclass_2  Pclass_3  \\\n",
       "0         0  0.2750  0.125    0.0         0         0         0         1   \n",
       "1         1  0.4750  0.125    0.0         1         1         0         0   \n",
       "2         1  0.3250  0.000    0.0         0         0         0         1   \n",
       "3         1  0.4375  0.125    0.0         1         1         0         0   \n",
       "4         0  0.4375  0.000    0.0         0         0         0         1   \n",
       "\n",
       "   Sex_female  Sex_male  \n",
       "0           0         1  \n",
       "1           1         0  \n",
       "2           1         0  \n",
       "3           1         0  \n",
       "4           0         1  "
      ]
     },
     "execution_count": 47,
     "metadata": {},
     "output_type": "execute_result"
    }
   ],
   "source": [
    "raw_data = pd.read_csv('./data/train.csv')\n",
    "data = prepare_data_pipeline.transform(raw_data)\n",
    "\n",
    "data.head()"
   ]
  },
  {
   "cell_type": "code",
   "execution_count": 48,
   "id": "94f30de6-27cc-4a06-a659-1309f6331654",
   "metadata": {
    "jupyter": {
     "source_hidden": true
    },
    "tags": []
   },
   "outputs": [
    {
     "data": {
      "image/png": "[encoded data removed]",
      "text/plain": [
       "<Figure size 1440x576 with 1 Axes>"
      ]
     },
     "metadata": {
      "needs_background": "light"
     },
     "output_type": "display_data"
    }
   ],
   "source": [
    "plt.figure(figsize=(20, 8))\n",
    "ax = sns.histplot(data=raw_data, x='Age', hue='Survived')\n",
    "ax.set_title('Raw Data Histogram - Survived count based on Age')\n",
    "ax = ax"
   ]
  },
  {
   "cell_type": "code",
   "execution_count": 49,
   "id": "2ddc044f-2535-465b-9c30-1280d6cd6014",
   "metadata": {
    "jupyter": {
     "source_hidden": true
    },
    "tags": []
   },
   "outputs": [
    {
     "data": {
      "image/png": "[encoded data removed]",
      "text/plain": [
       "<Figure size 1440x576 with 1 Axes>"
      ]
     },
     "metadata": {
      "needs_background": "light"
     },
     "output_type": "display_data"
    }
   ],
   "source": [
    "plt.figure(figsize=(20, 8))\n",
    "ax = sns.histplot(data=data, x='Age', hue='Survived')\n",
    "ax.set_title('Processed data Histogram - Survived count based on Age')\n",
    "ax = ax"
   ]
  },
  {
   "cell_type": "markdown",
   "id": "b1865c66-df91-435a-a491-f0fe7ccf78f4",
   "metadata": {},
   "source": [
    "Hum... looks like the processed data is not following same shape as the raw data. Probably a so big difference between both the raw and processed data are impacting in the precision of the model."
   ]
  },
  {
   "cell_type": "code",
   "execution_count": 50,
   "id": "d7296576-c6af-47fe-a698-975b4f6cea5c",
   "metadata": {
    "jupyter": {
     "source_hidden": true
    },
    "tags": []
   },
   "outputs": [
    {
     "data": {
      "image/png": "[encoded data removed]",
      "text/plain": [
       "<Figure size 1296x216 with 4 Axes>"
      ]
     },
     "metadata": {
      "needs_background": "light"
     },
     "output_type": "display_data"
    }
   ],
   "source": [
    "fig, axes = plt.subplots(nrows=1, ncols=4, figsize=(18, 3))\n",
    "axes = axes.flat\n",
    "\n",
    "ax = sns.histplot(x='Age', hue='Survived', bins=3, data=raw_data, ax=axes[0])\n",
    "ax.set_title('Age distibution - 3 Groups')\n",
    "\n",
    "ax = sns.histplot(x='Age', hue='Survived', bins=5, data=raw_data, ax=axes[1])\n",
    "ax.set_title('Age distibution - 5 Groups')\n",
    "\n",
    "ax = sns.histplot(x='Age', hue='Survived', bins=8, data=raw_data, ax=axes[2])\n",
    "ax.set_title('Age distibution - 8 Groups')\n",
    "\n",
    "ax = sns.histplot(x='Age', hue='Survived', bins=12, data=raw_data, ax=axes[3])\n",
    "ax.set_title('Age distibution - 12 Groups')\n",
    "\n",
    "ax = ax"
   ]
  },
  {
   "cell_type": "markdown",
   "id": "b4009d9b-4ddb-4204-ab79-aafcb8eaf246",
   "metadata": {},
   "source": [
    "To fix this bias i can see two options:\n",
    "* Set the Age based on probability to keep same shape in training and raw data\n",
    "* Split the Ages in groups and turn this feature a categorical data\n",
    "\n",
    "I'll try both solutions:"
   ]
  },
  {
   "cell_type": "markdown",
   "id": "c0c64a8a-baf4-4584-8e2d-21ca97e2bb1c",
   "metadata": {},
   "source": [
    "## Create two new age transformers"
   ]
  },
  {
   "cell_type": "code",
   "execution_count": 51,
   "id": "ebe9bade-a215-4328-acac-a32fd4e82630",
   "metadata": {},
   "outputs": [],
   "source": [
    "class AgeFillNullsKBinsTransformer(BaseEstimator, TransformerMixin):\n",
    "    \n",
    "    def __init__(self, bins=8):\n",
    "        self.bins = bins\n",
    "    \n",
    "    def fit(self, X:pd.DataFrame, y):\n",
    "        self._bin_size = X['Age'].max() / self.bins + 1\n",
    "        self._title_age_mode = X.groupby(['Title'])['Age'].agg(lambda x: x.mode()[0]).to_dict()\n",
    "        return self\n",
    "        \n",
    "    def transform(self, X:pd.DataFrame):\n",
    "        data = X.copy()\n",
    "        \n",
    "        data = self._set_age_by_title(data)\n",
    "        data = self._group_age_bins(data)\n",
    "        data = self._force_max_bin(data)\n",
    "        \n",
    "        return data\n",
    "    \n",
    "    def _set_age_by_title(self, data:pd.DataFrame):\n",
    "        for key in self._title_age_mode:\n",
    "            data.loc[(data['Title']==key) & (data['Age'].isna()), 'Age'] = self._title_age_mode[key]\n",
    "        return data\n",
    "            \n",
    "    def _group_age_bins(self, data:pd.DataFrame):\n",
    "        data['Age'] = data['Age'] // self._bin_size\n",
    "        return data\n",
    "        \n",
    "    def _force_max_bin(self, data:pd.DataFrame):\n",
    "        data['Age'] = data['Age'].apply(lambda x: x if x <= self.bins else self.bins)\n",
    "        return data"
   ]
  },
  {
   "cell_type": "code",
   "execution_count": 52,
   "id": "e9fd7853-705d-4df2-94a0-6f807422d3d1",
   "metadata": {},
   "outputs": [],
   "source": [
    "class AgeFillNullsDistribTransformer(BaseEstimator, TransformerMixin):\n",
    "    \n",
    "    def __init__(self, transform_strategy='mode'):\n",
    "        self.transform_strategy = transform_strategy\n",
    "    \n",
    "    def fit(self, X:pd.DataFrame, y):\n",
    "        self._title_age_mode = X.groupby(['Title'])['Age'].agg(lambda x: x.mode()[0]).to_dict()\n",
    "        self._title_age_prob = dict()\n",
    "        \n",
    "        for key in self._title_age_mode:\n",
    "            prob = dict()\n",
    "            \n",
    "            ages = self._get_age_by_title(X, key)\n",
    "            counts = np.unique(ages, return_counts=True)\n",
    "        \n",
    "            prob['values'] = counts[0]\n",
    "            prob['probs'] = counts[1] / sum(counts[1])\n",
    "            prob['probs'][-1] = prob['probs'][-1] + (1 - sum(prob['probs']))\n",
    "            \n",
    "            self._title_age_prob[key] = prob\n",
    "        \n",
    "        return self\n",
    "    \n",
    "    def _get_age_by_title(self, X:pd.DataFrame, title):\n",
    "        title_age_filter = (X['Title'] == title) & (X['Age'].notna())\n",
    "        return X[title_age_filter]['Age']\n",
    "        \n",
    "    def transform(self, X:pd.DataFrame):\n",
    "        data = X.copy()\n",
    "        \n",
    "        if self.transform_strategy == 'mode':\n",
    "            data = self._set_age_by_mode(X)\n",
    "            \n",
    "        elif self.transform_strategy == 'prob':\n",
    "            data = self._set_age_by_prob(X)\n",
    "            \n",
    "        else:\n",
    "            raise Exception(f'Unknow option: {self.transform_strategy}')\n",
    "        \n",
    "        return data\n",
    "    \n",
    "    def _set_age_by_mode(self, data:pd.DataFrame):\n",
    "        for key in self._title_age_mode:\n",
    "            title_age_filter = (data['Title']==key) & (data['Age'].isna())\n",
    "            data.loc[title_age_filter, 'Age'] = self._title_age_mode[key]\n",
    "        return data\n",
    "            \n",
    "    def _set_age_by_prob(self, data:pd.DataFrame):\n",
    "        for title in self._title_age_mode:\n",
    "            \n",
    "            title_age_filter = (data['Title']==title) & (data['Age'].isna())\n",
    "            \n",
    "            null_counts = len(data[title_age_filter])\n",
    "            values = self._title_age_prob[title]['values']\n",
    "            probs = self._title_age_prob[title]['probs']\n",
    "            \n",
    "            data.loc[title_age_filter, 'Age'] = np.random.choice(values, size=null_counts, p=probs)\n",
    "        return data"
   ]
  },
  {
   "cell_type": "markdown",
   "id": "29078d45-1838-4f21-9aa3-772ef613b38b",
   "metadata": {},
   "source": [
    "## Visualize the data using the new transformations"
   ]
  },
  {
   "cell_type": "code",
   "execution_count": 53,
   "id": "2c4bb821-e1b5-40d1-9898-8b6da3fc4cbd",
   "metadata": {},
   "outputs": [],
   "source": [
    "np.random.seed(1)"
   ]
  },
  {
   "cell_type": "markdown",
   "id": "5b031ca7-3c58-4998-a176-6945331767c1",
   "metadata": {},
   "source": [
    "### AgeFillNullsKBinsTransformer"
   ]
  },
  {
   "cell_type": "code",
   "execution_count": 54,
   "id": "3a7e9558-a9c4-430b-94cd-ad2cf09ba963",
   "metadata": {},
   "outputs": [],
   "source": [
    "prepare_data_pipeline = Pipeline([\n",
    "    ('extr-title', ExtractTitleTransformer()),\n",
    "    ('age-nas', AgeFillNullsKBinsTransformer())\n",
    "])\n",
    "\n",
    "data = prepare_data_pipeline.fit_transform(raw_data, raw_data['Survived'])"
   ]
  },
  {
   "cell_type": "code",
   "execution_count": 55,
   "id": "15bf6000-2cf6-4783-9e16-a3ab3388b8f9",
   "metadata": {
    "jupyter": {
     "source_hidden": true
    },
    "tags": []
   },
   "outputs": [
    {
     "data": {
      "image/png": "[encoded data removed]",
      "text/plain": [
       "<Figure size 1080x432 with 1 Axes>"
      ]
     },
     "metadata": {
      "needs_background": "light"
     },
     "output_type": "display_data"
    }
   ],
   "source": [
    "plt.figure(figsize=(15, 6))\n",
    "ax = sns.histplot(data=data, x='Age', hue='Survived')\n",
    "ax.set_title('Data In Bins - Survived based on age')\n",
    "ax = ax"
   ]
  },
  {
   "cell_type": "markdown",
   "id": "b3649e64-e71c-417a-8115-4c637936726a",
   "metadata": {},
   "source": [
    "### AgeFillNullsDistribTransformer - transform_strategy: mode"
   ]
  },
  {
   "cell_type": "code",
   "execution_count": 56,
   "id": "8354f922-de5b-47f7-9e5e-859cc45dbbef",
   "metadata": {},
   "outputs": [],
   "source": [
    "prepare_data_pipeline = Pipeline([\n",
    "    ('extr-title', ExtractTitleTransformer()),\n",
    "    ('age-nas', AgeFillNullsDistribTransformer())\n",
    "])\n",
    "\n",
    "data = prepare_data_pipeline.fit_transform(raw_data, raw_data['Survived'])"
   ]
  },
  {
   "cell_type": "code",
   "execution_count": 57,
   "id": "96185352-3e94-4992-9cec-55ac99c60e40",
   "metadata": {
    "jupyter": {
     "source_hidden": true
    },
    "tags": []
   },
   "outputs": [
    {
     "data": {
      "image/png": "[encoded data removed]",
      "text/plain": [
       "<Figure size 1440x720 with 1 Axes>"
      ]
     },
     "metadata": {
      "needs_background": "light"
     },
     "output_type": "display_data"
    }
   ],
   "source": [
    "plt.figure(figsize=(20, 10))\n",
    "ax = sns.histplot(data=data, x='Age', hue='Survived')\n",
    "ax.set_title('Data In Probability (mode) - Survived based on age')\n",
    "ax = ax"
   ]
  },
  {
   "cell_type": "markdown",
   "id": "fd56b4fb-ef3c-4e81-a127-8180c9546eda",
   "metadata": {},
   "source": [
    "### AgeFillNullsDistribTransformer - transform_strategy: prob"
   ]
  },
  {
   "cell_type": "code",
   "execution_count": 58,
   "id": "501d9853-28c6-41d8-ac45-68fe39b4464d",
   "metadata": {},
   "outputs": [],
   "source": [
    "prepare_data_pipeline = Pipeline([\n",
    "    ('extr-title', ExtractTitleTransformer()),\n",
    "    ('age-nas', AgeFillNullsDistribTransformer('prob'))\n",
    "])\n",
    "\n",
    "data = prepare_data_pipeline.fit_transform(raw_data, raw_data['Survived'])"
   ]
  },
  {
   "cell_type": "code",
   "execution_count": 59,
   "id": "5feb2d33-f7bd-4f81-8a94-bf3746c2aa07",
   "metadata": {
    "jupyter": {
     "source_hidden": true
    },
    "tags": []
   },
   "outputs": [
    {
     "data": {
      "image/png": "[encoded data removed]",
      "text/plain": [
       "<Figure size 1440x720 with 1 Axes>"
      ]
     },
     "metadata": {
      "needs_background": "light"
     },
     "output_type": "display_data"
    }
   ],
   "source": [
    "plt.figure(figsize=(20, 10))\n",
    "ax = sns.histplot(data=data, x='Age', hue='Survived')\n",
    "ax.set_title('Data In Probability (prob) - Survived based on age')\n",
    "ax = ax"
   ]
  },
  {
   "cell_type": "markdown",
   "id": "25f31a2e-0e3b-4c30-9069-acfd617aa22c",
   "metadata": {},
   "source": [
    "### AgeFillNullsDistribTransformer - transform_strategy: prob + AgeFillNullsKBinsTransformer"
   ]
  },
  {
   "cell_type": "code",
   "execution_count": 60,
   "id": "4000f055-ceb6-47c4-9a3b-19c9ed91eb5e",
   "metadata": {},
   "outputs": [],
   "source": [
    "prepare_data_pipeline = Pipeline([\n",
    "    ('extr-title', ExtractTitleTransformer()),\n",
    "    ('age-nas-prod', AgeFillNullsDistribTransformer('prob')),\n",
    "    ('age-nas-bins', AgeFillNullsKBinsTransformer())\n",
    "])\n",
    "\n",
    "data = prepare_data_pipeline.fit_transform(raw_data, raw_data['Survived'])"
   ]
  },
  {
   "cell_type": "code",
   "execution_count": 61,
   "id": "7c853bed-a4d3-4c08-81d0-228a79777412",
   "metadata": {
    "jupyter": {
     "source_hidden": true
    },
    "tags": []
   },
   "outputs": [
    {
     "data": {
      "image/png": "[encoded data removed]",
      "text/plain": [
       "<Figure size 1440x720 with 1 Axes>"
      ]
     },
     "metadata": {
      "needs_background": "light"
     },
     "output_type": "display_data"
    }
   ],
   "source": [
    "plt.figure(figsize=(20, 10))\n",
    "ax = sns.histplot(data=data, x='Age', hue='Survived')\n",
    "ax.set_title('Data In Probability + Bins - Survived based on age')\n",
    "ax = ax"
   ]
  },
  {
   "cell_type": "markdown",
   "id": "d2918b62-5b4c-4567-b09f-1c4f8b30a0f1",
   "metadata": {},
   "source": [
    "Looks like the option using the probability logic to spread the data has a better shape.\n",
    "\n",
    "I'm planning to use the prob strategy for training, but the mode strategy for predictions. I'm taking this decision now because I don't want to add randomness to my prediction dataset  "
   ]
  },
  {
   "cell_type": "markdown",
   "id": "75eba54f-f760-4dc5-ad3e-e9838ba9de9a",
   "metadata": {},
   "source": [
    "## Test a new data preparation strategy - Probability"
   ]
  },
  {
   "cell_type": "markdown",
   "id": "ab3ad3b6-50f1-4474-9af0-ac422cebc8c4",
   "metadata": {},
   "source": [
    "### Create new train and test transformation pipelines "
   ]
  },
  {
   "cell_type": "code",
   "execution_count": 62,
   "id": "faf98b9d-ffef-4a4e-ae37-ad29b0d77cd9",
   "metadata": {},
   "outputs": [],
   "source": [
    "train_prepare_data_pipeline = Pipeline([\n",
    "    ('extr-title', ExtractTitleTransformer()),\n",
    "    ('has-cabin', HasCabinTransformer()),\n",
    "    ('age-nas', AgeFillNullsDistribTransformer('prob')),\n",
    "    ('drop-cols', DropColumnsTransformer([ 'PassengerId', 'Name', 'Ticket', 'Fare', 'Cabin', 'Embarked', 'Title' ])),\n",
    "    ('scaller', ScallerTransformer(['Age', 'SibSp', 'Parch'])),\n",
    "    ('one-hot', OneHotTransformer(['Pclass', 'Sex']))\n",
    "])\n",
    "\n",
    "test_prepare_data_pipeline = Pipeline([\n",
    "    ('extr-title', ExtractTitleTransformer()),\n",
    "    ('has-cabin', HasCabinTransformer()),\n",
    "    ('age-nas', AgeFillNullsDistribTransformer()),\n",
    "    ('drop-cols', DropColumnsTransformer([ 'PassengerId', 'Name', 'Ticket', 'Fare', 'Cabin', 'Embarked', 'Title' ])),\n",
    "    ('scaller', ScallerTransformer(['Age', 'SibSp', 'Parch'])),\n",
    "    ('one-hot', OneHotTransformer(['Pclass', 'Sex']))\n",
    "])"
   ]
  },
  {
   "cell_type": "markdown",
   "id": "7fe4b6d5-a7b8-4fbb-8508-faa1d3ef433c",
   "metadata": {},
   "source": [
    "### Train new models with new pipelines"
   ]
  },
  {
   "cell_type": "code",
   "execution_count": 68,
   "id": "4a7739b0-42b3-40a5-ba8c-69ade43cfac9",
   "metadata": {},
   "outputs": [],
   "source": [
    "np.random.seed(1)\n",
    "\n",
    "# get a fresh copy of the data to avoid any impact from previous executions\n",
    "raw_data = pd.read_csv('./data/train.csv')\n",
    "X_train, X_valid, y_train, y_valid = train_test_split(raw_data.drop('Survived', axis=1), raw_data['Survived'])"
   ]
  },
  {
   "cell_type": "code",
   "execution_count": 69,
   "id": "690b0027-21c7-487e-b179-80e44cd6b5c7",
   "metadata": {},
   "outputs": [],
   "source": [
    "train_prepare_data_pipeline.fit(raw_data.drop(['Survived'], axis=1), raw_data['Survived'])\n",
    "test_prepare_data_pipeline.fit(raw_data.drop(['Survived'], axis=1), raw_data['Survived'])\n",
    "\n",
    "X_train = train_prepare_data_pipeline.transform(X_train)\n",
    "X_valid = test_prepare_data_pipeline.transform(X_valid)"
   ]
  },
  {
   "cell_type": "code",
   "execution_count": 71,
   "id": "dc6053ad-c1b9-4bf5-99e0-90367f187f36",
   "metadata": {},
   "outputs": [],
   "source": [
    "svc_pred = SVC().fit(X_train.copy(), y_train.copy()).predict(X_valid.copy())\n",
    "rand_forest_pred = RandomForestClassifier().fit(X_train.copy(), y_train.copy()).predict(X_valid.copy())\n",
    "dec_tree_pred = DecisionTreeClassifier().fit(X_train.copy(), y_train.copy()).predict(X_valid.copy())\n",
    "sgdc_pred = SGDClassifier().fit(X_train.copy(), y_train.copy()).predict(X_valid.copy())\n",
    "ridge_prec = RidgeClassifier().fit(X_train.copy(), y_train.copy()).predict(X_valid.copy())\n",
    "knn_pred = KNeighborsClassifier().fit(X_train.copy(), y_train.copy()).predict(X_valid.copy())\n",
    "gaussion_pred = GaussianNB().fit(X_train.copy(), y_train.copy()).predict(X_valid.copy())\n",
    "mlp_pred = MLPClassifier(max_iter=1000).fit(X_train.copy(), y_train.copy()).predict(X_valid.copy())"
   ]
  },
  {
   "cell_type": "code",
   "execution_count": 72,
   "id": "e3da892c-9129-4f6c-8a46-903ee3860301",
   "metadata": {},
   "outputs": [],
   "source": [
    "svc_acc = accuracy_score(y_valid, svc_pred)\n",
    "svc_f1 = f1_score(y_valid, svc_pred)\n",
    "svc_recall = recall_score(y_valid, svc_pred)\n",
    "\n",
    "rand_forest_acc = accuracy_score(y_valid, rand_forest_pred)\n",
    "rand_forest_f1 = f1_score(y_valid, rand_forest_pred)\n",
    "rand_forest_recall = recall_score(y_valid, rand_forest_pred)\n",
    "\n",
    "dec_tree_acc = accuracy_score(y_valid, dec_tree_pred)\n",
    "dec_tree_f1 = f1_score(y_valid, dec_tree_pred)\n",
    "dec_tree_recall = recall_score(y_valid, dec_tree_pred)\n",
    "\n",
    "sgdc_acc = accuracy_score(y_valid, sgdc_pred)\n",
    "sgdc_f1 = f1_score(y_valid, sgdc_pred)\n",
    "sgdc_recall = recall_score(y_valid, sgdc_pred)\n",
    "\n",
    "ridge_acc = accuracy_score(y_valid, ridge_prec)\n",
    "ridge_f1 = f1_score(y_valid, ridge_prec)\n",
    "ridge_recall = recall_score(y_valid, ridge_prec)\n",
    "\n",
    "knn_acc = accuracy_score(y_valid, knn_pred)\n",
    "knn_f1 = f1_score(y_valid, knn_pred)\n",
    "knn_recall = recall_score(y_valid, knn_pred)\n",
    "\n",
    "gaussion_acc = accuracy_score(y_valid, gaussion_pred)\n",
    "gaussion_f1 = f1_score(y_valid, gaussion_pred)\n",
    "gaussion_recall = recall_score(y_valid, gaussion_pred)\n",
    "\n",
    "mlp_acc = accuracy_score(y_valid, mlp_pred)\n",
    "mlp_f1 = f1_score(y_valid, mlp_pred)\n",
    "mlp_recall = recall_score(y_valid, mlp_pred)"
   ]
  },
  {
   "cell_type": "code",
   "execution_count": 73,
   "id": "b5c9a4ff-7e1e-4930-9c1d-541d1c59cec8",
   "metadata": {},
   "outputs": [
    {
     "name": "stdout",
     "output_type": "stream",
     "text": [
      "Classifier: SVC - Accuracy: 0.7757847533632287 - f1 score: 0.6951219512195121 - recall: 0.6\n",
      "Classifier: RandomForestClassifier - Accuracy: 0.7847533632286996 - f1 score: 0.710843373493976 - recall: 0.6210526315789474\n",
      "Classifier: DecisionTreeClassifier - Accuracy: 0.7757847533632287 - f1 score: 0.7023809523809524 - recall: 0.6210526315789474\n",
      "Classifier: SGDClassifier - Accuracy: 0.7623318385650224 - f1 score: 0.6580645161290322 - recall: 0.5368421052631579\n",
      "Classifier: RidgeClassifier - Accuracy: 0.7982062780269058 - f1 score: 0.7513812154696132 - recall: 0.7157894736842105\n",
      "Classifier: KNeighborsClassifier - Accuracy: 0.7668161434977578 - f1 score: 0.6666666666666666 - recall: 0.5473684210526316\n",
      "Classifier: GaussianNB - Accuracy: 0.7757847533632287 - f1 score: 0.7448979591836735 - recall: 0.7684210526315789\n",
      "Classifier: MLPClassifier - Accuracy: 0.7802690582959642 - f1 score: 0.6993865030674846 - recall: 0.6\n"
     ]
    }
   ],
   "source": [
    "print(f'Classifier: SVC - Accuracy: {svc_acc} - f1 score: {svc_f1} - recall: {svc_recall}')\n",
    "print(f'Classifier: RandomForestClassifier - Accuracy: {rand_forest_acc} - f1 score: {rand_forest_f1} - recall: {rand_forest_recall}')\n",
    "print(f'Classifier: DecisionTreeClassifier - Accuracy: {dec_tree_acc} - f1 score: {dec_tree_f1} - recall: {dec_tree_recall}')\n",
    "print(f'Classifier: SGDClassifier - Accuracy: {sgdc_acc} - f1 score: {sgdc_f1} - recall: {sgdc_recall}')\n",
    "print(f'Classifier: RidgeClassifier - Accuracy: {ridge_acc} - f1 score: {ridge_f1} - recall: {ridge_recall}')\n",
    "print(f'Classifier: KNeighborsClassifier - Accuracy: {knn_acc} - f1 score: {knn_f1} - recall: {knn_recall}')\n",
    "print(f'Classifier: GaussianNB - Accuracy: {gaussion_acc} - f1 score: {gaussion_f1} - recall: {gaussion_recall}')\n",
    "print(f'Classifier: MLPClassifier - Accuracy: {mlp_acc} - f1 score: {mlp_f1} - recall: {mlp_recall}')"
   ]
  },
  {
   "cell_type": "markdown",
   "id": "d99dc213-8e84-42fb-8a59-5f62d52745f1",
   "metadata": {},
   "source": [
    "Not a good result. I'll try the bins strategy now"
   ]
  },
  {
   "cell_type": "markdown",
   "id": "b7949821-d36a-4ddb-890c-06a5a6690eb3",
   "metadata": {},
   "source": [
    "## Test a new data preparation strategy - bins"
   ]
  },
  {
   "cell_type": "markdown",
   "id": "60a52761-87c6-4c62-b137-63475ca0ac2a",
   "metadata": {},
   "source": [
    "### Create new train and test transformation pipelines "
   ]
  },
  {
   "cell_type": "code",
   "execution_count": 111,
   "id": "90dcc033-151f-4ab8-a9a3-232ec4c86ddb",
   "metadata": {},
   "outputs": [],
   "source": [
    "prepare_data_pipeline = Pipeline([\n",
    "    ('extr-title', ExtractTitleTransformer()),\n",
    "    ('has-cabin', HasCabinTransformer()),\n",
    "    ('age-nas', AgeFillNullsKBinsTransformer(5)),\n",
    "    ('drop-cols', DropColumnsTransformer([ 'PassengerId', 'Name', 'Ticket', 'Fare', 'Cabin', 'Embarked', 'Title' ])),\n",
    "    ('scaller', ScallerTransformer(['SibSp', 'Parch'])),\n",
    "    ('one-hot', OneHotTransformer(['Pclass', 'Sex', 'Age']))\n",
    "])"
   ]
  },
  {
   "cell_type": "markdown",
   "id": "3af36a4b-dc72-4cbe-b981-5a378c167d68",
   "metadata": {},
   "source": [
    "### Train new models with new pipeline"
   ]
  },
  {
   "cell_type": "code",
   "execution_count": 112,
   "id": "0017b65e-6253-4a9c-b969-9194f13f1330",
   "metadata": {},
   "outputs": [],
   "source": [
    "np.random.seed(1)\n",
    "\n",
    "# get a fresh copy of the data to avoid any impact from previous executions\n",
    "raw_data = pd.read_csv('./data/train.csv')\n",
    "X_train, X_valid, y_train, y_valid = train_test_split(raw_data.drop('Survived', axis=1), raw_data['Survived'])"
   ]
  },
  {
   "cell_type": "code",
   "execution_count": 113,
   "id": "a3eb324c-21a6-4f91-82c3-ddb0dcc5c47b",
   "metadata": {},
   "outputs": [],
   "source": [
    "prepare_data_pipeline.fit(raw_data.drop(['Survived'], axis=1), raw_data['Survived'])\n",
    "\n",
    "X_train = prepare_data_pipeline.transform(X_train)\n",
    "X_valid = prepare_data_pipeline.transform(X_valid)"
   ]
  },
  {
   "cell_type": "code",
   "execution_count": 114,
   "id": "aa0d56fa-c4b7-4108-86a6-12b776327f20",
   "metadata": {},
   "outputs": [],
   "source": [
    "svc_pred = SVC().fit(X_train.copy(), y_train.copy()).predict(X_valid.copy())\n",
    "rand_forest_pred = RandomForestClassifier().fit(X_train.copy(), y_train.copy()).predict(X_valid.copy())\n",
    "dec_tree_pred = DecisionTreeClassifier().fit(X_train.copy(), y_train.copy()).predict(X_valid.copy())\n",
    "sgdc_pred = SGDClassifier().fit(X_train.copy(), y_train.copy()).predict(X_valid.copy())\n",
    "ridge_prec = RidgeClassifier().fit(X_train.copy(), y_train.copy()).predict(X_valid.copy())\n",
    "knn_pred = KNeighborsClassifier().fit(X_train.copy(), y_train.copy()).predict(X_valid.copy())\n",
    "gaussion_pred = GaussianNB().fit(X_train.copy(), y_train.copy()).predict(X_valid.copy())\n",
    "mlp_pred = MLPClassifier(max_iter=1000).fit(X_train.copy(), y_train.copy()).predict(X_valid.copy())"
   ]
  },
  {
   "cell_type": "code",
   "execution_count": 115,
   "id": "60752ff1-79dd-4329-8c83-8990d8b7fe9c",
   "metadata": {},
   "outputs": [],
   "source": [
    "svc_acc = accuracy_score(y_valid, svc_pred)\n",
    "svc_f1 = f1_score(y_valid, svc_pred)\n",
    "svc_recall = recall_score(y_valid, svc_pred)\n",
    "\n",
    "rand_forest_acc = accuracy_score(y_valid, rand_forest_pred)\n",
    "rand_forest_f1 = f1_score(y_valid, rand_forest_pred)\n",
    "rand_forest_recall = recall_score(y_valid, rand_forest_pred)\n",
    "\n",
    "dec_tree_acc = accuracy_score(y_valid, dec_tree_pred)\n",
    "dec_tree_f1 = f1_score(y_valid, dec_tree_pred)\n",
    "dec_tree_recall = recall_score(y_valid, dec_tree_pred)\n",
    "\n",
    "sgdc_acc = accuracy_score(y_valid, sgdc_pred)\n",
    "sgdc_f1 = f1_score(y_valid, sgdc_pred)\n",
    "sgdc_recall = recall_score(y_valid, sgdc_pred)\n",
    "\n",
    "ridge_acc = accuracy_score(y_valid, ridge_prec)\n",
    "ridge_f1 = f1_score(y_valid, ridge_prec)\n",
    "ridge_recall = recall_score(y_valid, ridge_prec)\n",
    "\n",
    "knn_acc = accuracy_score(y_valid, knn_pred)\n",
    "knn_f1 = f1_score(y_valid, knn_pred)\n",
    "knn_recall = recall_score(y_valid, knn_pred)\n",
    "\n",
    "gaussion_acc = accuracy_score(y_valid, gaussion_pred)\n",
    "gaussion_f1 = f1_score(y_valid, gaussion_pred)\n",
    "gaussion_recall = recall_score(y_valid, gaussion_pred)\n",
    "\n",
    "mlp_acc = accuracy_score(y_valid, mlp_pred)\n",
    "mlp_f1 = f1_score(y_valid, mlp_pred)\n",
    "mlp_recall = recall_score(y_valid, mlp_pred)"
   ]
  },
  {
   "cell_type": "code",
   "execution_count": 116,
   "id": "e0c5e437-56ea-4c7d-91ea-1a70a029a18d",
   "metadata": {},
   "outputs": [
    {
     "name": "stdout",
     "output_type": "stream",
     "text": [
      "Classifier: SVC - Accuracy: 0.7623318385650224 - f1 score: 0.6442953020134229 - recall: 0.5052631578947369\n",
      "Classifier: RandomForestClassifier - Accuracy: 0.7802690582959642 - f1 score: 0.7100591715976332 - recall: 0.631578947368421\n",
      "Classifier: DecisionTreeClassifier - Accuracy: 0.7757847533632287 - f1 score: 0.7023809523809524 - recall: 0.6210526315789474\n",
      "Classifier: SGDClassifier - Accuracy: 0.7713004484304933 - f1 score: 0.7243243243243243 - recall: 0.7052631578947368\n",
      "Classifier: RidgeClassifier - Accuracy: 0.7937219730941704 - f1 score: 0.735632183908046 - recall: 0.6736842105263158\n",
      "Classifier: KNeighborsClassifier - Accuracy: 0.7533632286995515 - f1 score: 0.6451612903225806 - recall: 0.5263157894736842\n",
      "Classifier: GaussianNB - Accuracy: 0.7757847533632287 - f1 score: 0.7474747474747476 - recall: 0.7789473684210526\n",
      "Classifier: MLPClassifier - Accuracy: 0.7713004484304933 - f1 score: 0.6946107784431138 - recall: 0.6105263157894737\n"
     ]
    }
   ],
   "source": [
    "print(f'Classifier: SVC - Accuracy: {svc_acc} - f1 score: {svc_f1} - recall: {svc_recall}')\n",
    "print(f'Classifier: RandomForestClassifier - Accuracy: {rand_forest_acc} - f1 score: {rand_forest_f1} - recall: {rand_forest_recall}')\n",
    "print(f'Classifier: DecisionTreeClassifier - Accuracy: {dec_tree_acc} - f1 score: {dec_tree_f1} - recall: {dec_tree_recall}')\n",
    "print(f'Classifier: SGDClassifier - Accuracy: {sgdc_acc} - f1 score: {sgdc_f1} - recall: {sgdc_recall}')\n",
    "print(f'Classifier: RidgeClassifier - Accuracy: {ridge_acc} - f1 score: {ridge_f1} - recall: {ridge_recall}')\n",
    "print(f'Classifier: KNeighborsClassifier - Accuracy: {knn_acc} - f1 score: {knn_f1} - recall: {knn_recall}')\n",
    "print(f'Classifier: GaussianNB - Accuracy: {gaussion_acc} - f1 score: {gaussion_f1} - recall: {gaussion_recall}')\n",
    "print(f'Classifier: MLPClassifier - Accuracy: {mlp_acc} - f1 score: {mlp_f1} - recall: {mlp_recall}')"
   ]
  },
  {
   "cell_type": "markdown",
   "id": "c79707a6-462d-4792-9bbd-bb3ff1fe9b95",
   "metadata": {},
   "source": [
    "Looks like the Age column is not a problem"
   ]
  },
  {
   "cell_type": "markdown",
   "id": "29145303-9473-4596-be9a-441547ec4a4f",
   "metadata": {},
   "source": [
    "## Look again the data"
   ]
  },
  {
   "cell_type": "code",
   "execution_count": 117,
   "id": "6706e57e-ecff-4bd1-98db-b34c33f3bd6a",
   "metadata": {},
   "outputs": [
    {
     "data": {
      "text/html": [
       "<div>\n",
       "<style scoped>\n",
       "    .dataframe tbody tr th:only-of-type {\n",
       "        vertical-align: middle;\n",
       "    }\n",
       "\n",
       "    .dataframe tbody tr th {\n",
       "        vertical-align: top;\n",
       "    }\n",
       "\n",
       "    .dataframe thead th {\n",
       "        text-align: right;\n",
       "    }\n",
       "</style>\n",
       "<table border=\"1\" class=\"dataframe\">\n",
       "  <thead>\n",
       "    <tr style=\"text-align: right;\">\n",
       "      <th></th>\n",
       "      <th>PassengerId</th>\n",
       "      <th>Survived</th>\n",
       "      <th>Pclass</th>\n",
       "      <th>Name</th>\n",
       "      <th>Sex</th>\n",
       "      <th>Age</th>\n",
       "      <th>SibSp</th>\n",
       "      <th>Parch</th>\n",
       "      <th>Ticket</th>\n",
       "      <th>Fare</th>\n",
       "      <th>Cabin</th>\n",
       "      <th>Embarked</th>\n",
       "    </tr>\n",
       "  </thead>\n",
       "  <tbody>\n",
       "    <tr>\n",
       "      <th>0</th>\n",
       "      <td>1</td>\n",
       "      <td>0</td>\n",
       "      <td>3</td>\n",
       "      <td>Braund, Mr. Owen Harris</td>\n",
       "      <td>male</td>\n",
       "      <td>22.0</td>\n",
       "      <td>1</td>\n",
       "      <td>0</td>\n",
       "      <td>A/5 21171</td>\n",
       "      <td>7.2500</td>\n",
       "      <td>NaN</td>\n",
       "      <td>S</td>\n",
       "    </tr>\n",
       "    <tr>\n",
       "      <th>1</th>\n",
       "      <td>2</td>\n",
       "      <td>1</td>\n",
       "      <td>1</td>\n",
       "      <td>Cumings, Mrs. John Bradley (Florence Briggs Th...</td>\n",
       "      <td>female</td>\n",
       "      <td>38.0</td>\n",
       "      <td>1</td>\n",
       "      <td>0</td>\n",
       "      <td>PC 17599</td>\n",
       "      <td>71.2833</td>\n",
       "      <td>C85</td>\n",
       "      <td>C</td>\n",
       "    </tr>\n",
       "    <tr>\n",
       "      <th>2</th>\n",
       "      <td>3</td>\n",
       "      <td>1</td>\n",
       "      <td>3</td>\n",
       "      <td>Heikkinen, Miss. Laina</td>\n",
       "      <td>female</td>\n",
       "      <td>26.0</td>\n",
       "      <td>0</td>\n",
       "      <td>0</td>\n",
       "      <td>STON/O2. 3101282</td>\n",
       "      <td>7.9250</td>\n",
       "      <td>NaN</td>\n",
       "      <td>S</td>\n",
       "    </tr>\n",
       "    <tr>\n",
       "      <th>3</th>\n",
       "      <td>4</td>\n",
       "      <td>1</td>\n",
       "      <td>1</td>\n",
       "      <td>Futrelle, Mrs. Jacques Heath (Lily May Peel)</td>\n",
       "      <td>female</td>\n",
       "      <td>35.0</td>\n",
       "      <td>1</td>\n",
       "      <td>0</td>\n",
       "      <td>113803</td>\n",
       "      <td>53.1000</td>\n",
       "      <td>C123</td>\n",
       "      <td>S</td>\n",
       "    </tr>\n",
       "    <tr>\n",
       "      <th>4</th>\n",
       "      <td>5</td>\n",
       "      <td>0</td>\n",
       "      <td>3</td>\n",
       "      <td>Allen, Mr. William Henry</td>\n",
       "      <td>male</td>\n",
       "      <td>35.0</td>\n",
       "      <td>0</td>\n",
       "      <td>0</td>\n",
       "      <td>373450</td>\n",
       "      <td>8.0500</td>\n",
       "      <td>NaN</td>\n",
       "      <td>S</td>\n",
       "    </tr>\n",
       "  </tbody>\n",
       "</table>\n",
       "</div>"
      ],
      "text/plain": [
       "   PassengerId  Survived  Pclass  \\\n",
       "0            1         0       3   \n",
       "1            2         1       1   \n",
       "2            3         1       3   \n",
       "3            4         1       1   \n",
       "4            5         0       3   \n",
       "\n",
       "                                                Name     Sex   Age  SibSp  \\\n",
       "0                            Braund, Mr. Owen Harris    male  22.0      1   \n",
       "1  Cumings, Mrs. John Bradley (Florence Briggs Th...  female  38.0      1   \n",
       "2                             Heikkinen, Miss. Laina  female  26.0      0   \n",
       "3       Futrelle, Mrs. Jacques Heath (Lily May Peel)  female  35.0      1   \n",
       "4                           Allen, Mr. William Henry    male  35.0      0   \n",
       "\n",
       "   Parch            Ticket     Fare Cabin Embarked  \n",
       "0      0         A/5 21171   7.2500   NaN        S  \n",
       "1      0          PC 17599  71.2833   C85        C  \n",
       "2      0  STON/O2. 3101282   7.9250   NaN        S  \n",
       "3      0            113803  53.1000  C123        S  \n",
       "4      0            373450   8.0500   NaN        S  "
      ]
     },
     "execution_count": 117,
     "metadata": {},
     "output_type": "execute_result"
    }
   ],
   "source": [
    "raw_data.head()"
   ]
  },
  {
   "cell_type": "code",
   "execution_count": 122,
   "id": "18c00f44-ac42-4fec-baf2-5868971d6680",
   "metadata": {},
   "outputs": [
    {
     "data": {
      "image/png": "[encoded data removed]",
      "text/plain": [
       "<Figure size 1440x576 with 1 Axes>"
      ]
     },
     "metadata": {
      "needs_background": "light"
     },
     "output_type": "display_data"
    }
   ],
   "source": [
    "plt.figure(figsize=(20,8))\n",
    "ax = sns.histplot(data=raw_data, x='Fare', hue='Survived', bins=8)\n",
    "ax = ax"
   ]
  },
  {
   "cell_type": "markdown",
   "id": "8d5d369a-0067-4589-8383-b51f9a553b8c",
   "metadata": {},
   "source": [
    "I've remored the Fare column in all models, but maybe this feature can be usefull. I'll try to train a new model using this column instead of discard it."
   ]
  },
  {
   "cell_type": "markdown",
   "id": "506f44ff-2038-41af-9c0e-76e06f470822",
   "metadata": {},
   "source": [
    "## Train a new ML Model adding the Fare column to the train data"
   ]
  },
  {
   "cell_type": "code",
   "execution_count": 125,
   "id": "3d3c7991-df64-4a31-bd58-2d551588e584",
   "metadata": {},
   "outputs": [],
   "source": [
    "np.random.seed(1)\n",
    "\n",
    "# get a fresh copy of the data to avoid any impact from previous executions\n",
    "raw_data = pd.read_csv('./data/train.csv')\n",
    "X_train, X_valid, y_train, y_valid = train_test_split(raw_data.drop('Survived', axis=1), raw_data['Survived'])"
   ]
  },
  {
   "cell_type": "markdown",
   "id": "ec1cead3-403b-4185-9b45-7d85c3faf775",
   "metadata": {},
   "source": [
    "### Create the new pipeline"
   ]
  },
  {
   "cell_type": "code",
   "execution_count": 127,
   "id": "3177d0e8-bdb3-4746-af0f-f257b51516c1",
   "metadata": {},
   "outputs": [],
   "source": [
    "prepare_data_pipeline = Pipeline([\n",
    "    ('extr-title', ExtractTitleTransformer()),\n",
    "    ('has-cabin', HasCabinTransformer()),\n",
    "    ('age-nas', AgeFillNullsTransformer()),\n",
    "    ('drop-cols', DropColumnsTransformer([ 'PassengerId', 'Name', 'Ticket', 'Cabin', 'Embarked', 'Title' ])),\n",
    "    ('scaller', ScallerTransformer(['Age', 'SibSp', 'Parch', 'Fare'])),\n",
    "    ('one-hot', OneHotTransformer(['Pclass', 'Sex']))\n",
    "])"
   ]
  },
  {
   "cell_type": "markdown",
   "id": "4805acc2-bc52-4b0c-9945-2ef5c5312100",
   "metadata": {},
   "source": [
    "### Prepare the data for training"
   ]
  },
  {
   "cell_type": "code",
   "execution_count": 128,
   "id": "221e6335-6869-440a-aeb4-010df988c8e8",
   "metadata": {},
   "outputs": [],
   "source": [
    "prepare_data_pipeline.fit(raw_data.drop(['Survived'], axis=1), raw_data['Survived'])\n",
    "\n",
    "X_train = prepare_data_pipeline.transform(X_train)\n",
    "X_valid = prepare_data_pipeline.transform(X_valid)"
   ]
  },
  {
   "cell_type": "markdown",
   "id": "75ed3bf4-2481-4098-a5b9-6ea7bdb34035",
   "metadata": {},
   "source": [
    "### Check the features correlation"
   ]
  },
  {
   "cell_type": "code",
   "execution_count": 130,
   "id": "b2e38e43-8dfc-4b6e-bd75-37754067c8ea",
   "metadata": {},
   "outputs": [
    {
     "data": {
      "text/html": [
       "<style type=\"text/css\">\n",
       "#T_4fb0f_row0_col0, #T_4fb0f_row1_col1, #T_4fb0f_row2_col2, #T_4fb0f_row3_col3, #T_4fb0f_row4_col4, #T_4fb0f_row5_col5, #T_4fb0f_row6_col6, #T_4fb0f_row7_col7, #T_4fb0f_row8_col8, #T_4fb0f_row9_col9, #T_4fb0f_row10_col10 {\n",
       "  background-color: #b40426;\n",
       "  color: #f1f1f1;\n",
       "}\n",
       "#T_4fb0f_row0_col1, #T_4fb0f_row5_col7, #T_4fb0f_row7_col0, #T_4fb0f_row7_col3, #T_4fb0f_row7_col4, #T_4fb0f_row7_col5, #T_4fb0f_row7_col6, #T_4fb0f_row8_col9, #T_4fb0f_row9_col2, #T_4fb0f_row9_col8, #T_4fb0f_row9_col10 {\n",
       "  background-color: #3b4cc0;\n",
       "  color: #f1f1f1;\n",
       "}\n",
       "#T_4fb0f_row0_col2 {\n",
       "  background-color: #5a78e4;\n",
       "  color: #f1f1f1;\n",
       "}\n",
       "#T_4fb0f_row0_col3, #T_4fb0f_row3_col2 {\n",
       "  background-color: #c0d4f5;\n",
       "  color: #000000;\n",
       "}\n",
       "#T_4fb0f_row0_col4 {\n",
       "  background-color: #dedcdb;\n",
       "  color: #000000;\n",
       "}\n",
       "#T_4fb0f_row0_col5 {\n",
       "  background-color: #efcfbf;\n",
       "  color: #000000;\n",
       "}\n",
       "#T_4fb0f_row0_col6, #T_4fb0f_row3_col9 {\n",
       "  background-color: #c3d5f4;\n",
       "  color: #000000;\n",
       "}\n",
       "#T_4fb0f_row0_col7, #T_4fb0f_row9_col3 {\n",
       "  background-color: #7597f6;\n",
       "  color: #f1f1f1;\n",
       "}\n",
       "#T_4fb0f_row0_col8, #T_4fb0f_row2_col3 {\n",
       "  background-color: #d7dce3;\n",
       "  color: #000000;\n",
       "}\n",
       "#T_4fb0f_row0_col9, #T_4fb0f_row3_col10 {\n",
       "  background-color: #e2dad5;\n",
       "  color: #000000;\n",
       "}\n",
       "#T_4fb0f_row0_col10 {\n",
       "  background-color: #a6c4fe;\n",
       "  color: #000000;\n",
       "}\n",
       "#T_4fb0f_row1_col0 {\n",
       "  background-color: #5470de;\n",
       "  color: #f1f1f1;\n",
       "}\n",
       "#T_4fb0f_row1_col2, #T_4fb0f_row5_col10 {\n",
       "  background-color: #e4d9d2;\n",
       "  color: #000000;\n",
       "}\n",
       "#T_4fb0f_row1_col3, #T_4fb0f_row4_col9, #T_4fb0f_row8_col5, #T_4fb0f_row10_col6 {\n",
       "  background-color: #ccd9ed;\n",
       "  color: #000000;\n",
       "}\n",
       "#T_4fb0f_row1_col4, #T_4fb0f_row1_col6, #T_4fb0f_row1_col10 {\n",
       "  background-color: #abc8fd;\n",
       "  color: #000000;\n",
       "}\n",
       "#T_4fb0f_row1_col5 {\n",
       "  background-color: #b5cdfa;\n",
       "  color: #000000;\n",
       "}\n",
       "#T_4fb0f_row1_col7 {\n",
       "  background-color: #c6d6f1;\n",
       "  color: #000000;\n",
       "}\n",
       "#T_4fb0f_row1_col8 {\n",
       "  background-color: #edd2c3;\n",
       "  color: #000000;\n",
       "}\n",
       "#T_4fb0f_row1_col9 {\n",
       "  background-color: #cad8ef;\n",
       "  color: #000000;\n",
       "}\n",
       "#T_4fb0f_row2_col0 {\n",
       "  background-color: #6a8bef;\n",
       "  color: #f1f1f1;\n",
       "}\n",
       "#T_4fb0f_row2_col1 {\n",
       "  background-color: #e0dbd8;\n",
       "  color: #000000;\n",
       "}\n",
       "#T_4fb0f_row2_col4 {\n",
       "  background-color: #b9d0f9;\n",
       "  color: #000000;\n",
       "}\n",
       "#T_4fb0f_row2_col5, #T_4fb0f_row2_col7 {\n",
       "  background-color: #bad0f8;\n",
       "  color: #000000;\n",
       "}\n",
       "#T_4fb0f_row2_col6, #T_4fb0f_row2_col9 {\n",
       "  background-color: #b6cefa;\n",
       "  color: #000000;\n",
       "}\n",
       "#T_4fb0f_row2_col8 {\n",
       "  background-color: #f5c2aa;\n",
       "  color: #000000;\n",
       "}\n",
       "#T_4fb0f_row2_col10, #T_4fb0f_row6_col10, #T_4fb0f_row7_col8 {\n",
       "  background-color: #c9d7f0;\n",
       "  color: #000000;\n",
       "}\n",
       "#T_4fb0f_row3_col0 {\n",
       "  background-color: #aec9fc;\n",
       "  color: #000000;\n",
       "}\n",
       "#T_4fb0f_row3_col1 {\n",
       "  background-color: #aac7fd;\n",
       "  color: #000000;\n",
       "}\n",
       "#T_4fb0f_row3_col4 {\n",
       "  background-color: #f7af91;\n",
       "  color: #000000;\n",
       "}\n",
       "#T_4fb0f_row3_col5 {\n",
       "  background-color: #f18f71;\n",
       "  color: #f1f1f1;\n",
       "}\n",
       "#T_4fb0f_row3_col6, #T_4fb0f_row8_col1 {\n",
       "  background-color: #9bbcff;\n",
       "  color: #000000;\n",
       "}\n",
       "#T_4fb0f_row3_col7 {\n",
       "  background-color: #5b7ae5;\n",
       "  color: #f1f1f1;\n",
       "}\n",
       "#T_4fb0f_row3_col8 {\n",
       "  background-color: #f1cdba;\n",
       "  color: #000000;\n",
       "}\n",
       "#T_4fb0f_row4_col0, #T_4fb0f_row8_col3 {\n",
       "  background-color: #cbd8ee;\n",
       "  color: #000000;\n",
       "}\n",
       "#T_4fb0f_row4_col1 {\n",
       "  background-color: #7093f3;\n",
       "  color: #f1f1f1;\n",
       "}\n",
       "#T_4fb0f_row4_col2 {\n",
       "  background-color: #8badfd;\n",
       "  color: #000000;\n",
       "}\n",
       "#T_4fb0f_row4_col3 {\n",
       "  background-color: #f7b497;\n",
       "  color: #000000;\n",
       "}\n",
       "#T_4fb0f_row4_col5 {\n",
       "  background-color: #e0654f;\n",
       "  color: #f1f1f1;\n",
       "}\n",
       "#T_4fb0f_row4_col6 {\n",
       "  background-color: #8db0fe;\n",
       "  color: #000000;\n",
       "}\n",
       "#T_4fb0f_row4_col7 {\n",
       "  background-color: #4c66d6;\n",
       "  color: #f1f1f1;\n",
       "}\n",
       "#T_4fb0f_row4_col8 {\n",
       "  background-color: #ebd3c6;\n",
       "  color: #000000;\n",
       "}\n",
       "#T_4fb0f_row4_col10 {\n",
       "  background-color: #ead4c8;\n",
       "  color: #000000;\n",
       "}\n",
       "#T_4fb0f_row5_col0 {\n",
       "  background-color: #d9dce1;\n",
       "  color: #000000;\n",
       "}\n",
       "#T_4fb0f_row5_col1 {\n",
       "  background-color: #6b8df0;\n",
       "  color: #f1f1f1;\n",
       "}\n",
       "#T_4fb0f_row5_col2 {\n",
       "  background-color: #7b9ff9;\n",
       "  color: #f1f1f1;\n",
       "}\n",
       "#T_4fb0f_row5_col3 {\n",
       "  background-color: #f4987a;\n",
       "  color: #000000;\n",
       "}\n",
       "#T_4fb0f_row5_col4 {\n",
       "  background-color: #e36b54;\n",
       "  color: #f1f1f1;\n",
       "}\n",
       "#T_4fb0f_row5_col6 {\n",
       "  background-color: #7699f6;\n",
       "  color: #f1f1f1;\n",
       "}\n",
       "#T_4fb0f_row5_col8 {\n",
       "  background-color: #e8d6cc;\n",
       "  color: #000000;\n",
       "}\n",
       "#T_4fb0f_row5_col9 {\n",
       "  background-color: #d1dae9;\n",
       "  color: #000000;\n",
       "}\n",
       "#T_4fb0f_row6_col0, #T_4fb0f_row10_col2 {\n",
       "  background-color: #9ebeff;\n",
       "  color: #000000;\n",
       "}\n",
       "#T_4fb0f_row6_col1 {\n",
       "  background-color: #6788ee;\n",
       "  color: #f1f1f1;\n",
       "}\n",
       "#T_4fb0f_row6_col2, #T_4fb0f_row10_col0 {\n",
       "  background-color: #80a3fa;\n",
       "  color: #f1f1f1;\n",
       "}\n",
       "#T_4fb0f_row6_col3, #T_4fb0f_row7_col1 {\n",
       "  background-color: #85a8fc;\n",
       "  color: #f1f1f1;\n",
       "}\n",
       "#T_4fb0f_row6_col4 {\n",
       "  background-color: #84a7fc;\n",
       "  color: #f1f1f1;\n",
       "}\n",
       "#T_4fb0f_row6_col5 {\n",
       "  background-color: #7ea1fa;\n",
       "  color: #f1f1f1;\n",
       "}\n",
       "#T_4fb0f_row6_col7 {\n",
       "  background-color: #4358cb;\n",
       "  color: #f1f1f1;\n",
       "}\n",
       "#T_4fb0f_row6_col8 {\n",
       "  background-color: #e7d7ce;\n",
       "  color: #000000;\n",
       "}\n",
       "#T_4fb0f_row6_col9 {\n",
       "  background-color: #d2dbe8;\n",
       "  color: #000000;\n",
       "}\n",
       "#T_4fb0f_row7_col2 {\n",
       "  background-color: #7da0f9;\n",
       "  color: #f1f1f1;\n",
       "}\n",
       "#T_4fb0f_row7_col9 {\n",
       "  background-color: #edd1c2;\n",
       "  color: #000000;\n",
       "}\n",
       "#T_4fb0f_row7_col10 {\n",
       "  background-color: #6485ec;\n",
       "  color: #f1f1f1;\n",
       "}\n",
       "#T_4fb0f_row8_col0 {\n",
       "  background-color: #81a4fb;\n",
       "  color: #f1f1f1;\n",
       "}\n",
       "#T_4fb0f_row8_col2 {\n",
       "  background-color: #c4d5f3;\n",
       "  color: #000000;\n",
       "}\n",
       "#T_4fb0f_row8_col4 {\n",
       "  background-color: #c7d7f0;\n",
       "  color: #000000;\n",
       "}\n",
       "#T_4fb0f_row8_col6 {\n",
       "  background-color: #c5d6f2;\n",
       "  color: #000000;\n",
       "}\n",
       "#T_4fb0f_row8_col7 {\n",
       "  background-color: #9dbdff;\n",
       "  color: #000000;\n",
       "}\n",
       "#T_4fb0f_row8_col10 {\n",
       "  background-color: #f7ac8e;\n",
       "  color: #000000;\n",
       "}\n",
       "#T_4fb0f_row9_col0 {\n",
       "  background-color: #97b8ff;\n",
       "  color: #000000;\n",
       "}\n",
       "#T_4fb0f_row9_col1 {\n",
       "  background-color: #4f69d9;\n",
       "  color: #f1f1f1;\n",
       "}\n",
       "#T_4fb0f_row9_col4 {\n",
       "  background-color: #92b4fe;\n",
       "  color: #000000;\n",
       "}\n",
       "#T_4fb0f_row9_col5 {\n",
       "  background-color: #a7c5fe;\n",
       "  color: #000000;\n",
       "}\n",
       "#T_4fb0f_row9_col6 {\n",
       "  background-color: #a3c2fe;\n",
       "  color: #000000;\n",
       "}\n",
       "#T_4fb0f_row9_col7 {\n",
       "  background-color: #d5dbe5;\n",
       "  color: #000000;\n",
       "}\n",
       "#T_4fb0f_row10_col1 {\n",
       "  background-color: #6e90f2;\n",
       "  color: #f1f1f1;\n",
       "}\n",
       "#T_4fb0f_row10_col3 {\n",
       "  background-color: #dadce0;\n",
       "  color: #000000;\n",
       "}\n",
       "#T_4fb0f_row10_col4, #T_4fb0f_row10_col5 {\n",
       "  background-color: #ead5c9;\n",
       "  color: #000000;\n",
       "}\n",
       "#T_4fb0f_row10_col7 {\n",
       "  background-color: #7396f5;\n",
       "  color: #f1f1f1;\n",
       "}\n",
       "#T_4fb0f_row10_col8 {\n",
       "  background-color: #f29274;\n",
       "  color: #f1f1f1;\n",
       "}\n",
       "#T_4fb0f_row10_col9 {\n",
       "  background-color: #86a9fc;\n",
       "  color: #f1f1f1;\n",
       "}\n",
       "</style>\n",
       "<table id=\"T_4fb0f_\">\n",
       "  <thead>\n",
       "    <tr>\n",
       "      <th class=\"blank level0\" >&nbsp;</th>\n",
       "      <th class=\"col_heading level0 col0\" >Age</th>\n",
       "      <th class=\"col_heading level0 col1\" >SibSp</th>\n",
       "      <th class=\"col_heading level0 col2\" >Parch</th>\n",
       "      <th class=\"col_heading level0 col3\" >Fare</th>\n",
       "      <th class=\"col_heading level0 col4\" >HasCabin</th>\n",
       "      <th class=\"col_heading level0 col5\" >Pclass_1</th>\n",
       "      <th class=\"col_heading level0 col6\" >Pclass_2</th>\n",
       "      <th class=\"col_heading level0 col7\" >Pclass_3</th>\n",
       "      <th class=\"col_heading level0 col8\" >Sex_female</th>\n",
       "      <th class=\"col_heading level0 col9\" >Sex_male</th>\n",
       "      <th class=\"col_heading level0 col10\" >Survived</th>\n",
       "    </tr>\n",
       "  </thead>\n",
       "  <tbody>\n",
       "    <tr>\n",
       "      <th id=\"T_4fb0f_level0_row0\" class=\"row_heading level0 row0\" >Age</th>\n",
       "      <td id=\"T_4fb0f_row0_col0\" class=\"data row0 col0\" >1.000000</td>\n",
       "      <td id=\"T_4fb0f_row0_col1\" class=\"data row0 col1\" >-0.216909</td>\n",
       "      <td id=\"T_4fb0f_row0_col2\" class=\"data row0 col2\" >-0.130083</td>\n",
       "      <td id=\"T_4fb0f_row0_col3\" class=\"data row0 col3\" >0.133102</td>\n",
       "      <td id=\"T_4fb0f_row0_col4\" class=\"data row0 col4\" >0.249365</td>\n",
       "      <td id=\"T_4fb0f_row0_col5\" class=\"data row0 col5\" >0.318813</td>\n",
       "      <td id=\"T_4fb0f_row0_col6\" class=\"data row0 col6\" >0.067604</td>\n",
       "      <td id=\"T_4fb0f_row0_col7\" class=\"data row0 col7\" >-0.327377</td>\n",
       "      <td id=\"T_4fb0f_row0_col8\" class=\"data row0 col8\" >-0.040793</td>\n",
       "      <td id=\"T_4fb0f_row0_col9\" class=\"data row0 col9\" >0.040793</td>\n",
       "      <td id=\"T_4fb0f_row0_col10\" class=\"data row0 col10\" >-0.042307</td>\n",
       "    </tr>\n",
       "    <tr>\n",
       "      <th id=\"T_4fb0f_level0_row1\" class=\"row_heading level0 row1\" >SibSp</th>\n",
       "      <td id=\"T_4fb0f_row1_col0\" class=\"data row1 col0\" >-0.216909</td>\n",
       "      <td id=\"T_4fb0f_row1_col1\" class=\"data row1 col1\" >1.000000</td>\n",
       "      <td id=\"T_4fb0f_row1_col2\" class=\"data row1 col2\" >0.405897</td>\n",
       "      <td id=\"T_4fb0f_row1_col3\" class=\"data row1 col3\" >0.189206</td>\n",
       "      <td id=\"T_4fb0f_row1_col4\" class=\"data row1 col4\" >-0.008039</td>\n",
       "      <td id=\"T_4fb0f_row1_col5\" class=\"data row1 col5\" >-0.028649</td>\n",
       "      <td id=\"T_4fb0f_row1_col6\" class=\"data row1 col6\" >-0.044505</td>\n",
       "      <td id=\"T_4fb0f_row1_col7\" class=\"data row1 col7\" >0.060822</td>\n",
       "      <td id=\"T_4fb0f_row1_col8\" class=\"data row1 col8\" >0.135225</td>\n",
       "      <td id=\"T_4fb0f_row1_col9\" class=\"data row1 col9\" >-0.135225</td>\n",
       "      <td id=\"T_4fb0f_row1_col10\" class=\"data row1 col10\" >-0.021709</td>\n",
       "    </tr>\n",
       "    <tr>\n",
       "      <th id=\"T_4fb0f_level0_row2\" class=\"row_heading level0 row2\" >Parch</th>\n",
       "      <td id=\"T_4fb0f_row2_col0\" class=\"data row2 col0\" >-0.130083</td>\n",
       "      <td id=\"T_4fb0f_row2_col1\" class=\"data row2 col1\" >0.405897</td>\n",
       "      <td id=\"T_4fb0f_row2_col2\" class=\"data row2 col2\" >1.000000</td>\n",
       "      <td id=\"T_4fb0f_row2_col3\" class=\"data row2 col3\" >0.246252</td>\n",
       "      <td id=\"T_4fb0f_row2_col4\" class=\"data row2 col4\" >0.049788</td>\n",
       "      <td id=\"T_4fb0f_row2_col5\" class=\"data row2 col5\" >-0.005237</td>\n",
       "      <td id=\"T_4fb0f_row2_col6\" class=\"data row2 col6\" >0.008108</td>\n",
       "      <td id=\"T_4fb0f_row2_col7\" class=\"data row2 col7\" >-0.002155</td>\n",
       "      <td id=\"T_4fb0f_row2_col8\" class=\"data row2 col8\" >0.258208</td>\n",
       "      <td id=\"T_4fb0f_row2_col9\" class=\"data row2 col9\" >-0.258208</td>\n",
       "      <td id=\"T_4fb0f_row2_col10\" class=\"data row2 col10\" >0.119533</td>\n",
       "    </tr>\n",
       "    <tr>\n",
       "      <th id=\"T_4fb0f_level0_row3\" class=\"row_heading level0 row3\" >Fare</th>\n",
       "      <td id=\"T_4fb0f_row3_col0\" class=\"data row3 col0\" >0.133102</td>\n",
       "      <td id=\"T_4fb0f_row3_col1\" class=\"data row3 col1\" >0.189206</td>\n",
       "      <td id=\"T_4fb0f_row3_col2\" class=\"data row3 col2\" >0.246252</td>\n",
       "      <td id=\"T_4fb0f_row3_col3\" class=\"data row3 col3\" >1.000000</td>\n",
       "      <td id=\"T_4fb0f_row3_col4\" class=\"data row3 col4\" >0.532314</td>\n",
       "      <td id=\"T_4fb0f_row3_col5\" class=\"data row3 col5\" >0.638511</td>\n",
       "      <td id=\"T_4fb0f_row3_col6\" class=\"data row3 col6\" >-0.118503</td>\n",
       "      <td id=\"T_4fb0f_row3_col7\" class=\"data row3 col7\" >-0.448180</td>\n",
       "      <td id=\"T_4fb0f_row3_col8\" class=\"data row3 col8\" >0.182498</td>\n",
       "      <td id=\"T_4fb0f_row3_col9\" class=\"data row3 col9\" >-0.182498</td>\n",
       "      <td id=\"T_4fb0f_row3_col10\" class=\"data row3 col10\" >0.260757</td>\n",
       "    </tr>\n",
       "    <tr>\n",
       "      <th id=\"T_4fb0f_level0_row4\" class=\"row_heading level0 row4\" >HasCabin</th>\n",
       "      <td id=\"T_4fb0f_row4_col0\" class=\"data row4 col0\" >0.249365</td>\n",
       "      <td id=\"T_4fb0f_row4_col1\" class=\"data row4 col1\" >-0.008039</td>\n",
       "      <td id=\"T_4fb0f_row4_col2\" class=\"data row4 col2\" >0.049788</td>\n",
       "      <td id=\"T_4fb0f_row4_col3\" class=\"data row4 col3\" >0.532314</td>\n",
       "      <td id=\"T_4fb0f_row4_col4\" class=\"data row4 col4\" >1.000000</td>\n",
       "      <td id=\"T_4fb0f_row4_col5\" class=\"data row4 col5\" >0.780073</td>\n",
       "      <td id=\"T_4fb0f_row4_col6\" class=\"data row4 col6\" >-0.177212</td>\n",
       "      <td id=\"T_4fb0f_row4_col7\" class=\"data row4 col7\" >-0.521039</td>\n",
       "      <td id=\"T_4fb0f_row4_col8\" class=\"data row4 col8\" >0.120940</td>\n",
       "      <td id=\"T_4fb0f_row4_col9\" class=\"data row4 col9\" >-0.120940</td>\n",
       "      <td id=\"T_4fb0f_row4_col10\" class=\"data row4 col10\" >0.319613</td>\n",
       "    </tr>\n",
       "    <tr>\n",
       "      <th id=\"T_4fb0f_level0_row5\" class=\"row_heading level0 row5\" >Pclass_1</th>\n",
       "      <td id=\"T_4fb0f_row5_col0\" class=\"data row5 col0\" >0.318813</td>\n",
       "      <td id=\"T_4fb0f_row5_col1\" class=\"data row5 col1\" >-0.028649</td>\n",
       "      <td id=\"T_4fb0f_row5_col2\" class=\"data row5 col2\" >-0.005237</td>\n",
       "      <td id=\"T_4fb0f_row5_col3\" class=\"data row5 col3\" >0.638511</td>\n",
       "      <td id=\"T_4fb0f_row5_col4\" class=\"data row5 col4\" >0.780073</td>\n",
       "      <td id=\"T_4fb0f_row5_col5\" class=\"data row5 col5\" >1.000000</td>\n",
       "      <td id=\"T_4fb0f_row5_col6\" class=\"data row5 col6\" >-0.284131</td>\n",
       "      <td id=\"T_4fb0f_row5_col7\" class=\"data row5 col7\" >-0.621391</td>\n",
       "      <td id=\"T_4fb0f_row5_col8\" class=\"data row5 col8\" >0.090658</td>\n",
       "      <td id=\"T_4fb0f_row5_col9\" class=\"data row5 col9\" >-0.090658</td>\n",
       "      <td id=\"T_4fb0f_row5_col10\" class=\"data row5 col10\" >0.277531</td>\n",
       "    </tr>\n",
       "    <tr>\n",
       "      <th id=\"T_4fb0f_level0_row6\" class=\"row_heading level0 row6\" >Pclass_2</th>\n",
       "      <td id=\"T_4fb0f_row6_col0\" class=\"data row6 col0\" >0.067604</td>\n",
       "      <td id=\"T_4fb0f_row6_col1\" class=\"data row6 col1\" >-0.044505</td>\n",
       "      <td id=\"T_4fb0f_row6_col2\" class=\"data row6 col2\" >0.008108</td>\n",
       "      <td id=\"T_4fb0f_row6_col3\" class=\"data row6 col3\" >-0.118503</td>\n",
       "      <td id=\"T_4fb0f_row6_col4\" class=\"data row6 col4\" >-0.177212</td>\n",
       "      <td id=\"T_4fb0f_row6_col5\" class=\"data row6 col5\" >-0.284131</td>\n",
       "      <td id=\"T_4fb0f_row6_col6\" class=\"data row6 col6\" >1.000000</td>\n",
       "      <td id=\"T_4fb0f_row6_col7\" class=\"data row6 col7\" >-0.574652</td>\n",
       "      <td id=\"T_4fb0f_row6_col8\" class=\"data row6 col8\" >0.081375</td>\n",
       "      <td id=\"T_4fb0f_row6_col9\" class=\"data row6 col9\" >-0.081375</td>\n",
       "      <td id=\"T_4fb0f_row6_col10\" class=\"data row6 col10\" >0.119198</td>\n",
       "    </tr>\n",
       "    <tr>\n",
       "      <th id=\"T_4fb0f_level0_row7\" class=\"row_heading level0 row7\" >Pclass_3</th>\n",
       "      <td id=\"T_4fb0f_row7_col0\" class=\"data row7 col0\" >-0.327377</td>\n",
       "      <td id=\"T_4fb0f_row7_col1\" class=\"data row7 col1\" >0.060822</td>\n",
       "      <td id=\"T_4fb0f_row7_col2\" class=\"data row7 col2\" >-0.002155</td>\n",
       "      <td id=\"T_4fb0f_row7_col3\" class=\"data row7 col3\" >-0.448180</td>\n",
       "      <td id=\"T_4fb0f_row7_col4\" class=\"data row7 col4\" >-0.521039</td>\n",
       "      <td id=\"T_4fb0f_row7_col5\" class=\"data row7 col5\" >-0.621391</td>\n",
       "      <td id=\"T_4fb0f_row7_col6\" class=\"data row7 col6\" >-0.574652</td>\n",
       "      <td id=\"T_4fb0f_row7_col7\" class=\"data row7 col7\" >1.000000</td>\n",
       "      <td id=\"T_4fb0f_row7_col8\" class=\"data row7 col8\" >-0.143881</td>\n",
       "      <td id=\"T_4fb0f_row7_col9\" class=\"data row7 col9\" >0.143881</td>\n",
       "      <td id=\"T_4fb0f_row7_col10\" class=\"data row7 col10\" >-0.334300</td>\n",
       "    </tr>\n",
       "    <tr>\n",
       "      <th id=\"T_4fb0f_level0_row8\" class=\"row_heading level0 row8\" >Sex_female</th>\n",
       "      <td id=\"T_4fb0f_row8_col0\" class=\"data row8 col0\" >-0.040793</td>\n",
       "      <td id=\"T_4fb0f_row8_col1\" class=\"data row8 col1\" >0.135225</td>\n",
       "      <td id=\"T_4fb0f_row8_col2\" class=\"data row8 col2\" >0.258208</td>\n",
       "      <td id=\"T_4fb0f_row8_col3\" class=\"data row8 col3\" >0.182498</td>\n",
       "      <td id=\"T_4fb0f_row8_col4\" class=\"data row8 col4\" >0.120940</td>\n",
       "      <td id=\"T_4fb0f_row8_col5\" class=\"data row8 col5\" >0.090658</td>\n",
       "      <td id=\"T_4fb0f_row8_col6\" class=\"data row8 col6\" >0.081375</td>\n",
       "      <td id=\"T_4fb0f_row8_col7\" class=\"data row8 col7\" >-0.143881</td>\n",
       "      <td id=\"T_4fb0f_row8_col8\" class=\"data row8 col8\" >1.000000</td>\n",
       "      <td id=\"T_4fb0f_row8_col9\" class=\"data row8 col9\" >-1.000000</td>\n",
       "      <td id=\"T_4fb0f_row8_col10\" class=\"data row8 col10\" >0.539057</td>\n",
       "    </tr>\n",
       "    <tr>\n",
       "      <th id=\"T_4fb0f_level0_row9\" class=\"row_heading level0 row9\" >Sex_male</th>\n",
       "      <td id=\"T_4fb0f_row9_col0\" class=\"data row9 col0\" >0.040793</td>\n",
       "      <td id=\"T_4fb0f_row9_col1\" class=\"data row9 col1\" >-0.135225</td>\n",
       "      <td id=\"T_4fb0f_row9_col2\" class=\"data row9 col2\" >-0.258208</td>\n",
       "      <td id=\"T_4fb0f_row9_col3\" class=\"data row9 col3\" >-0.182498</td>\n",
       "      <td id=\"T_4fb0f_row9_col4\" class=\"data row9 col4\" >-0.120940</td>\n",
       "      <td id=\"T_4fb0f_row9_col5\" class=\"data row9 col5\" >-0.090658</td>\n",
       "      <td id=\"T_4fb0f_row9_col6\" class=\"data row9 col6\" >-0.081375</td>\n",
       "      <td id=\"T_4fb0f_row9_col7\" class=\"data row9 col7\" >0.143881</td>\n",
       "      <td id=\"T_4fb0f_row9_col8\" class=\"data row9 col8\" >-1.000000</td>\n",
       "      <td id=\"T_4fb0f_row9_col9\" class=\"data row9 col9\" >1.000000</td>\n",
       "      <td id=\"T_4fb0f_row9_col10\" class=\"data row9 col10\" >-0.539057</td>\n",
       "    </tr>\n",
       "    <tr>\n",
       "      <th id=\"T_4fb0f_level0_row10\" class=\"row_heading level0 row10\" >Survived</th>\n",
       "      <td id=\"T_4fb0f_row10_col0\" class=\"data row10 col0\" >-0.042307</td>\n",
       "      <td id=\"T_4fb0f_row10_col1\" class=\"data row10 col1\" >-0.021709</td>\n",
       "      <td id=\"T_4fb0f_row10_col2\" class=\"data row10 col2\" >0.119533</td>\n",
       "      <td id=\"T_4fb0f_row10_col3\" class=\"data row10 col3\" >0.260757</td>\n",
       "      <td id=\"T_4fb0f_row10_col4\" class=\"data row10 col4\" >0.319613</td>\n",
       "      <td id=\"T_4fb0f_row10_col5\" class=\"data row10 col5\" >0.277531</td>\n",
       "      <td id=\"T_4fb0f_row10_col6\" class=\"data row10 col6\" >0.119198</td>\n",
       "      <td id=\"T_4fb0f_row10_col7\" class=\"data row10 col7\" >-0.334300</td>\n",
       "      <td id=\"T_4fb0f_row10_col8\" class=\"data row10 col8\" >0.539057</td>\n",
       "      <td id=\"T_4fb0f_row10_col9\" class=\"data row10 col9\" >-0.539057</td>\n",
       "      <td id=\"T_4fb0f_row10_col10\" class=\"data row10 col10\" >1.000000</td>\n",
       "    </tr>\n",
       "  </tbody>\n",
       "</table>\n"
      ],
      "text/plain": [
       "<pandas.io.formats.style.Styler at 0x1ec595bb550>"
      ]
     },
     "execution_count": 130,
     "metadata": {},
     "output_type": "execute_result"
    }
   ],
   "source": [
    "temp = X_train.copy()\n",
    "temp['Survived'] = y_train\n",
    "\n",
    "temp.corr().style.background_gradient(cmap='coolwarm')"
   ]
  },
  {
   "cell_type": "markdown",
   "id": "103c012f-3d7e-48c5-9c76-b7d4446367eb",
   "metadata": {},
   "source": [
    "Ok, i can see some correlation between Fare and Survived columns. Time to try the training"
   ]
  },
  {
   "cell_type": "code",
   "execution_count": 131,
   "id": "9887113a-a27a-4b7f-b387-722b54a49578",
   "metadata": {},
   "outputs": [],
   "source": [
    "svc_pred = SVC().fit(X_train.copy(), y_train.copy()).predict(X_valid.copy())\n",
    "rand_forest_pred = RandomForestClassifier().fit(X_train.copy(), y_train.copy()).predict(X_valid.copy())\n",
    "dec_tree_pred = DecisionTreeClassifier().fit(X_train.copy(), y_train.copy()).predict(X_valid.copy())\n",
    "sgdc_pred = SGDClassifier().fit(X_train.copy(), y_train.copy()).predict(X_valid.copy())\n",
    "ridge_prec = RidgeClassifier().fit(X_train.copy(), y_train.copy()).predict(X_valid.copy())\n",
    "knn_pred = KNeighborsClassifier().fit(X_train.copy(), y_train.copy()).predict(X_valid.copy())\n",
    "gaussion_pred = GaussianNB().fit(X_train.copy(), y_train.copy()).predict(X_valid.copy())\n",
    "mlp_pred = MLPClassifier(max_iter=1000).fit(X_train.copy(), y_train.copy()).predict(X_valid.copy())"
   ]
  },
  {
   "cell_type": "code",
   "execution_count": 132,
   "id": "bea85b07-a378-4ad3-9758-8e292ce99e2b",
   "metadata": {},
   "outputs": [],
   "source": [
    "svc_acc = accuracy_score(y_valid, svc_pred)\n",
    "svc_f1 = f1_score(y_valid, svc_pred)\n",
    "svc_recall = recall_score(y_valid, svc_pred)\n",
    "\n",
    "rand_forest_acc = accuracy_score(y_valid, rand_forest_pred)\n",
    "rand_forest_f1 = f1_score(y_valid, rand_forest_pred)\n",
    "rand_forest_recall = recall_score(y_valid, rand_forest_pred)\n",
    "\n",
    "dec_tree_acc = accuracy_score(y_valid, dec_tree_pred)\n",
    "dec_tree_f1 = f1_score(y_valid, dec_tree_pred)\n",
    "dec_tree_recall = recall_score(y_valid, dec_tree_pred)\n",
    "\n",
    "sgdc_acc = accuracy_score(y_valid, sgdc_pred)\n",
    "sgdc_f1 = f1_score(y_valid, sgdc_pred)\n",
    "sgdc_recall = recall_score(y_valid, sgdc_pred)\n",
    "\n",
    "ridge_acc = accuracy_score(y_valid, ridge_prec)\n",
    "ridge_f1 = f1_score(y_valid, ridge_prec)\n",
    "ridge_recall = recall_score(y_valid, ridge_prec)\n",
    "\n",
    "knn_acc = accuracy_score(y_valid, knn_pred)\n",
    "knn_f1 = f1_score(y_valid, knn_pred)\n",
    "knn_recall = recall_score(y_valid, knn_pred)\n",
    "\n",
    "gaussion_acc = accuracy_score(y_valid, gaussion_pred)\n",
    "gaussion_f1 = f1_score(y_valid, gaussion_pred)\n",
    "gaussion_recall = recall_score(y_valid, gaussion_pred)\n",
    "\n",
    "mlp_acc = accuracy_score(y_valid, mlp_pred)\n",
    "mlp_f1 = f1_score(y_valid, mlp_pred)\n",
    "mlp_recall = recall_score(y_valid, mlp_pred)"
   ]
  },
  {
   "cell_type": "code",
   "execution_count": 133,
   "id": "19480b3b-3005-4a27-9961-7b34f27d2dc7",
   "metadata": {},
   "outputs": [
    {
     "name": "stdout",
     "output_type": "stream",
     "text": [
      "Classifier: SVC - Accuracy: 0.7847533632286996 - f1 score: 0.710843373493976 - recall: 0.6210526315789474\n",
      "Classifier: RandomForestClassifier - Accuracy: 0.7847533632286996 - f1 score: 0.7176470588235295 - recall: 0.6421052631578947\n",
      "Classifier: DecisionTreeClassifier - Accuracy: 0.7488789237668162 - f1 score: 0.688888888888889 - recall: 0.6526315789473685\n",
      "Classifier: SGDClassifier - Accuracy: 0.7668161434977578 - f1 score: 0.670886075949367 - recall: 0.5578947368421052\n",
      "Classifier: RidgeClassifier - Accuracy: 0.7982062780269058 - f1 score: 0.7486033519553073 - recall: 0.7052631578947368\n",
      "Classifier: KNeighborsClassifier - Accuracy: 0.7713004484304933 - f1 score: 0.6946107784431138 - recall: 0.6105263157894737\n",
      "Classifier: GaussianNB - Accuracy: 0.7757847533632287 - f1 score: 0.7448979591836735 - recall: 0.7684210526315789\n",
      "Classifier: MLPClassifier - Accuracy: 0.7802690582959642 - f1 score: 0.6993865030674846 - recall: 0.6\n"
     ]
    }
   ],
   "source": [
    "print(f'Classifier: SVC - Accuracy: {svc_acc} - f1 score: {svc_f1} - recall: {svc_recall}')\n",
    "print(f'Classifier: RandomForestClassifier - Accuracy: {rand_forest_acc} - f1 score: {rand_forest_f1} - recall: {rand_forest_recall}')\n",
    "print(f'Classifier: DecisionTreeClassifier - Accuracy: {dec_tree_acc} - f1 score: {dec_tree_f1} - recall: {dec_tree_recall}')\n",
    "print(f'Classifier: SGDClassifier - Accuracy: {sgdc_acc} - f1 score: {sgdc_f1} - recall: {sgdc_recall}')\n",
    "print(f'Classifier: RidgeClassifier - Accuracy: {ridge_acc} - f1 score: {ridge_f1} - recall: {ridge_recall}')\n",
    "print(f'Classifier: KNeighborsClassifier - Accuracy: {knn_acc} - f1 score: {knn_f1} - recall: {knn_recall}')\n",
    "print(f'Classifier: GaussianNB - Accuracy: {gaussion_acc} - f1 score: {gaussion_f1} - recall: {gaussion_recall}')\n",
    "print(f'Classifier: MLPClassifier - Accuracy: {mlp_acc} - f1 score: {mlp_f1} - recall: {mlp_recall}')"
   ]
  },
  {
   "cell_type": "markdown",
   "id": "da93e78e-a4b5-4737-914d-5e018e44a3f7",
   "metadata": {},
   "source": [
    "I can see a better performance for some of the models.\n",
    "\n",
    "The new performance rank is:\n",
    "* RidgeClassifier - 79%\n",
    "* SVC, RandomForestClassifier, MLPClassifier - 78%\n",
    "* KNeighborsClassifier and GaussianNB - 77%"
   ]
  },
  {
   "cell_type": "markdown",
   "id": "e02f466a-6ea2-4caf-abd8-7bff4978c9f8",
   "metadata": {},
   "source": [
    "## Tune top models"
   ]
  },
  {
   "cell_type": "code",
   "execution_count": 156,
   "id": "bc234616-74d8-4281-84df-52210456ce74",
   "metadata": {},
   "outputs": [
    {
     "name": "stdout",
     "output_type": "stream",
     "text": [
      "Classifier: RidgeClassifier (Default) - Accuracy: 0.7982062780269058 - f1 score: 0.7486033519553073 - recall: 0.7052631578947368\n",
      "Classifier: RidgeClassifier (Grid) - Accuracy: 0.7982062780269058 - f1 score: 0.7486033519553073 - recall: 0.7052631578947368\n",
      "Best Parameters: {'alpha': 0.1, 'fit_intercept': True, 'tol': 0.001}\n"
     ]
    }
   ],
   "source": [
    "param_grid = [\n",
    "    { 'alpha': [1.0, 0.1, 0.01], 'fit_intercept': [True, False], 'tol': [0.001, 0.01] }\n",
    "]\n",
    "\n",
    "grid_search = GridSearchCV(RidgeClassifier(), param_grid, cv=5, scoring=make_scorer(f1_score, ))\n",
    "grid_search.fit(X_train.copy(), y_train.copy())\n",
    "\n",
    "ridge_pred = grid_search.predict(X_valid.copy())\n",
    "ridge = grid_search.best_estimator_\n",
    "\n",
    "ridge_grid_acc = accuracy_score(y_valid, ridge_prec)\n",
    "ridge_grid_f1 = f1_score(y_valid, ridge_prec)\n",
    "ridge_grid_recall = recall_score(y_valid, ridge_prec)\n",
    "\n",
    "print(f'Classifier: RidgeClassifier (Default) - Accuracy: {ridge_acc} - f1 score: {ridge_f1} - recall: {ridge_recall}')\n",
    "print(f'Classifier: RidgeClassifier (Grid) - Accuracy: {ridge_grid_acc} - f1 score: {ridge_grid_f1} - recall: {ridge_grid_recall}')\n",
    "print(f'Best Parameters: {grid_search.best_params_}')"
   ]
  },
  {
   "cell_type": "markdown",
   "id": "0ebbb74a-ae8d-4e61-b4b3-48654acc0188",
   "metadata": {},
   "source": [
    "Same result again"
   ]
  },
  {
   "cell_type": "code",
   "execution_count": 157,
   "id": "c47c6ba1-e54b-41c1-a1ee-d70337d2b818",
   "metadata": {},
   "outputs": [
    {
     "name": "stdout",
     "output_type": "stream",
     "text": [
      "Classifier: SVC (Default) - Accuracy: 0.7847533632286996 - f1 score: 0.710843373493976 - recall: 0.6210526315789474\n",
      "Classifier: SVC (Grid) - Accuracy: 0.7892376681614349 - f1 score: 0.718562874251497 - recall: 0.631578947368421\n",
      "Best Parameters: {'C': 1.0, 'kernel': 'poly'}\n"
     ]
    }
   ],
   "source": [
    "param_grid = [\n",
    "    { 'C': [1.0, 0.1, 0.01], 'kernel': ['linear', 'poly', 'rbf', 'sigmoid'] }\n",
    "]\n",
    "\n",
    "grid_search = GridSearchCV(SVC(), param_grid, cv=5, scoring=make_scorer(f1_score, ))\n",
    "grid_search.fit(X_train.copy(), y_train.copy())\n",
    "\n",
    "svc_pred = grid_search.predict(X_valid.copy())\n",
    "svc = grid_search.best_estimator_\n",
    "\n",
    "svc_grid_acc = accuracy_score(y_valid, svc_pred)\n",
    "svc_grid_f1 = f1_score(y_valid, svc_pred)\n",
    "svc_grid_recall = recall_score(y_valid, svc_pred)\n",
    "\n",
    "print(f'Classifier: SVC (Default) - Accuracy: {svc_acc} - f1 score: {svc_f1} - recall: {svc_recall}')\n",
    "print(f'Classifier: SVC (Grid) - Accuracy: {svc_grid_acc} - f1 score: {svc_grid_f1} - recall: {svc_grid_recall}')\n",
    "print(f'Best Parameters: {grid_search.best_params_}')"
   ]
  },
  {
   "cell_type": "markdown",
   "id": "6402f102-ece8-445e-94b7-32c7de75785c",
   "metadata": {},
   "source": [
    "Not much difference"
   ]
  },
  {
   "cell_type": "code",
   "execution_count": 158,
   "id": "2661ea2e-5fd8-41d7-b245-167934e61f93",
   "metadata": {},
   "outputs": [
    {
     "name": "stdout",
     "output_type": "stream",
     "text": [
      "Classifier: RandomForestClassifier (Default) - Accuracy: 0.7847533632286996 - f1 score: 0.7176470588235295 - recall: 0.6421052631578947\n",
      "Classifier: RandomForestClassifier (Grid) - Accuracy: 0.8026905829596412 - f1 score: 0.7317073170731707 - recall: 0.631578947368421\n",
      "Best Parameters: {'criterion': 'entropy', 'max_depth': 10, 'min_samples_leaf': 1, 'min_samples_split': 10, 'n_estimators': 100}\n"
     ]
    }
   ],
   "source": [
    "param_grid = [\n",
    "    { \n",
    "        'n_estimators': [200, 100, 50], 'criterion': [\"gini\", \"entropy\"], 'max_depth': [None, 100, 50, 10],\n",
    "        'min_samples_split': [2, 10, 20], 'min_samples_leaf': [1, 5, 10, 20]\n",
    "    }\n",
    "]\n",
    "\n",
    "grid_search = GridSearchCV(RandomForestClassifier(), param_grid, cv=5, scoring=make_scorer(f1_score, ))\n",
    "grid_search.fit(X_train.copy(), y_train.copy())\n",
    "\n",
    "rand_forest_pred = grid_search.predict(X_valid.copy())\n",
    "rand_forest = grid_search.best_estimator_\n",
    "\n",
    "rand_forest_grid_acc = accuracy_score(y_valid, rand_forest_pred)\n",
    "rand_forest_grid_f1 = f1_score(y_valid, rand_forest_pred)\n",
    "rand_forest_grid_recall = recall_score(y_valid, rand_forest_pred)\n",
    "\n",
    "print(f'Classifier: RandomForestClassifier (Default) - Accuracy: {rand_forest_acc} - f1 score: {rand_forest_f1} - recall: {rand_forest_recall}')\n",
    "print(f'Classifier: RandomForestClassifier (Grid) - Accuracy: {rand_forest_grid_acc} - f1 score: {rand_forest_grid_f1} - recall: {rand_forest_grid_recall}')\n",
    "print(f'Best Parameters: {grid_search.best_params_}')"
   ]
  },
  {
   "cell_type": "markdown",
   "id": "564ebcb9-cb37-4773-b382-8dc9f307cfc0",
   "metadata": {},
   "source": [
    "Looks way better!"
   ]
  },
  {
   "cell_type": "code",
   "execution_count": 159,
   "id": "32bc88ad-7a68-4aea-b8e6-88d2dd0a93f7",
   "metadata": {},
   "outputs": [
    {
     "name": "stdout",
     "output_type": "stream",
     "text": [
      "Classifier: MLPClassifier (Default) - Accuracy: 0.7802690582959642 - f1 score: 0.6993865030674846 - recall: 0.6\n",
      "Classifier: MLPClassifier (Grid) - Accuracy: 0.7713004484304933 - f1 score: 0.679245283018868 - recall: 0.5684210526315789\n",
      "Best Parameters: {'activation': 'relu', 'alpha': 0.001, 'hidden_layer_sizes': (50, 25, 5), 'solver': 'adam'}\n"
     ]
    }
   ],
   "source": [
    "param_grid = [\n",
    "    { \n",
    "        'hidden_layer_sizes': [(100, 50, 25), (50, 25, 5), (25, 5, 1)], \n",
    "        'activation': ['identity', 'logistic', 'tanh', 'relu'], \n",
    "        'solver': ['sgd', 'adam'],\n",
    "        'alpha': [0.0001, 0.01, 0.001, 0.0001]\n",
    "    }\n",
    "]\n",
    "\n",
    "grid_search = GridSearchCV(MLPClassifier(max_iter=10000), param_grid, cv=5, scoring=make_scorer(f1_score, ))\n",
    "grid_search.fit(X_train.copy(), y_train.copy())\n",
    "\n",
    "mlp_pred = grid_search.predict(X_valid.copy())\n",
    "mlp = grid_search.best_estimator_\n",
    "\n",
    "mlp_grid_acc = accuracy_score(y_valid, mlp_pred)\n",
    "mlp_grid_f1 = f1_score(y_valid, mlp_pred)\n",
    "mlp_grid_recall = recall_score(y_valid, mlp_pred)\n",
    "\n",
    "print(f'Classifier: MLPClassifier (Default) - Accuracy: {mlp_acc} - f1 score: {mlp_f1} - recall: {mlp_recall}')\n",
    "print(f'Classifier: MLPClassifier (Grid) - Accuracy: {mlp_grid_acc} - f1 score: {mlp_grid_f1} - recall: {mlp_grid_recall}')\n",
    "print(f'Best Parameters: {grid_search.best_params_}')"
   ]
  },
  {
   "cell_type": "markdown",
   "id": "ff040146-b851-4ba1-b957-cf601ef68ed2",
   "metadata": {},
   "source": [
    "Exact same result"
   ]
  },
  {
   "cell_type": "code",
   "execution_count": 160,
   "id": "3a67aadc-64d8-49ea-8c75-55b689fb86d6",
   "metadata": {},
   "outputs": [
    {
     "name": "stdout",
     "output_type": "stream",
     "text": [
      "Classifier: KNeighborsClassifier (Default) - Accuracy: 0.7713004484304933 - f1 score: 0.6946107784431138 - recall: 0.6105263157894737\n",
      "Classifier: KNeighborsClassifier (Grid) - Accuracy: 0.7892376681614349 - f1 score: 0.7344632768361581 - recall: 0.6842105263157895\n",
      "Best Parameters: {'n_neighbors': 3, 'weights': 'uniform'}\n"
     ]
    }
   ],
   "source": [
    "param_grid = [\n",
    "    { \n",
    "        'n_neighbors': [11, 9, 7, 5, 3], 'weights':['uniform', 'distance']\n",
    "    }\n",
    "]\n",
    "\n",
    "grid_search = GridSearchCV(KNeighborsClassifier(), param_grid, cv=5, scoring=make_scorer(f1_score, ))\n",
    "grid_search.fit(X_train.copy(), y_train.copy())\n",
    "\n",
    "knn_pred = grid_search.predict(X_valid.copy())\n",
    "knn = grid_search.best_estimator_\n",
    "\n",
    "knn_grid_acc = accuracy_score(y_valid, knn_pred)\n",
    "knn_grid_f1 = f1_score(y_valid, knn_pred)\n",
    "knn_grid_recall = recall_score(y_valid, knn_pred)\n",
    "\n",
    "print(f'Classifier: KNeighborsClassifier (Default) - Accuracy: {knn_acc} - f1 score: {knn_f1} - recall: {knn_recall}')\n",
    "print(f'Classifier: KNeighborsClassifier (Grid) - Accuracy: {knn_grid_acc} - f1 score: {knn_grid_f1} - recall: {knn_grid_recall}')\n",
    "print(f'Best Parameters: {grid_search.best_params_}')"
   ]
  },
  {
   "cell_type": "markdown",
   "id": "afa1f12b-489f-4392-863a-2a99e9168254",
   "metadata": {},
   "source": [
    "No much difference here"
   ]
  },
  {
   "cell_type": "code",
   "execution_count": 161,
   "id": "3f1b2d10-d821-40d7-b3c5-0ab332b35e88",
   "metadata": {},
   "outputs": [
    {
     "name": "stdout",
     "output_type": "stream",
     "text": [
      "Classifier: GaussianNB (Default) - Accuracy: 0.7757847533632287 - f1 score: 0.7448979591836735 - recall: 0.7684210526315789\n",
      "Classifier: GaussianNB (Grid) - Accuracy: 0.7757847533632287 - f1 score: 0.7448979591836735 - recall: 0.7684210526315789\n",
      "Best Parameters: {'var_smoothing': 1e-09}\n"
     ]
    }
   ],
   "source": [
    "param_grid = [\n",
    "    { \n",
    "        'var_smoothing': [0.000000001, 0.00001, 0.1]\n",
    "    }\n",
    "]\n",
    "\n",
    "grid_search = GridSearchCV(GaussianNB(), param_grid, cv=5, scoring=make_scorer(f1_score, ))\n",
    "grid_search.fit(X_train.copy(), y_train.copy())\n",
    "\n",
    "gaussian_pred = grid_search.predict(X_valid.copy())\n",
    "gaussian = grid_search.best_estimator_\n",
    "\n",
    "gaussian_grid_acc = accuracy_score(y_valid, gaussian_pred)\n",
    "gaussian_grid_f1 = f1_score(y_valid, gaussian_pred)\n",
    "gaussian_grid_recall = recall_score(y_valid, gaussian_pred)\n",
    "\n",
    "print(f'Classifier: GaussianNB (Default) - Accuracy: {gaussion_acc} - f1 score: {gaussion_f1} - recall: {gaussion_recall}')\n",
    "print(f'Classifier: GaussianNB (Grid) - Accuracy: {gaussian_grid_acc} - f1 score: {gaussian_grid_f1} - recall: {gaussian_grid_recall}')\n",
    "print(f'Best Parameters: {grid_search.best_params_}')"
   ]
  },
  {
   "cell_type": "markdown",
   "id": "29035ab6-9837-41a4-aeb9-06c379d486de",
   "metadata": {},
   "source": [
    "Same result again"
   ]
  },
  {
   "cell_type": "code",
   "execution_count": 165,
   "id": "63eee58e-026f-4adf-895a-17081997940a",
   "metadata": {},
   "outputs": [
    {
     "name": "stdout",
     "output_type": "stream",
     "text": [
      "Classifier: VotingClassifier - Accuracy: 0.7937219730941704 - f1 score 0.7228915662650601 - recall 0.631578947368421\n"
     ]
    }
   ],
   "source": [
    "# using 3 of best models\n",
    "voting = VotingClassifier([('Ridge', ridge), ('SVC', svc), ('rnd_forest', rand_forest)])\n",
    "voting.fit(X_train.copy(), y_train.copy())\n",
    "voting_pred = voting.predict(X_valid.copy())\n",
    "\n",
    "voting_acc = accuracy_score(y_valid, voting_pred)\n",
    "voting_f1 = f1_score(y_valid, voting_pred)\n",
    "voting_recall = recall_score(y_valid, voting_pred)\n",
    "\n",
    "print(f'Classifier: VotingClassifier - Accuracy: {voting_acc} - f1 score {voting_f1} - recall {voting_recall}')"
   ]
  },
  {
   "cell_type": "markdown",
   "id": "0ef225d5-8dab-4914-ae34-dea198840056",
   "metadata": {},
   "source": [
    "A bit worst than the best model (RidgeClassifier)."
   ]
  },
  {
   "cell_type": "markdown",
   "id": "ec994ff7-5094-4a07-ad04-f6f2bd296450",
   "metadata": {},
   "source": [
    "## Conclusion"
   ]
  },
  {
   "cell_type": "markdown",
   "id": "cbef16f4-ac9b-409c-9e54-384d6e185a9b",
   "metadata": {},
   "source": [
    "I've create a pipeline to clean the data, I could test some different models, I did some effort for otimization, a new review in the data to test new formats, test new models....\n",
    "\n",
    "With all this work, I couldn't improve the accuracy on validation data. I believe I need more data or more features to improve the performance of the predictions.\n",
    "\n",
    "For now I'm keeping my first submission with **77.511%** accuracy."
   ]
  }
 ],
 "metadata": {
  "kernelspec": {
   "display_name": "Python 3 (ipykernel)",
   "language": "python",
   "name": "python3"
  },
  "language_info": {
   "codemirror_mode": {
    "name": "ipython",
    "version": 3
   },
   "file_extension": ".py",
   "mimetype": "text/x-python",
   "name": "python",
   "nbconvert_exporter": "python",
   "pygments_lexer": "ipython3",
   "version": "3.9.7"
  },
  "toc-autonumbering": false
 },
 "nbformat": 4,
 "nbformat_minor": 5
}
