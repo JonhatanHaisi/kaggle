{
 "cells": [
  {
   "cell_type": "markdown",
   "id": "14294e47-0d8d-4a74-adba-0651db8128fa",
   "metadata": {},
   "source": [
    "# Digit Recognizer"
   ]
  },
  {
   "cell_type": "markdown",
   "id": "a01c21cf-5692-45cc-b514-1b280a2e8c38",
   "metadata": {},
   "source": [
    "## Intall required libs"
   ]
  },
  {
   "cell_type": "code",
   "execution_count": 1,
   "id": "5d275b12-efe5-4f93-9a45-f145d56309f5",
   "metadata": {},
   "outputs": [],
   "source": [
    "!pip install -U scikit-learn==1.0.1 -q\n",
    "!pip install pandas==1.3.4 -q\n",
    "!pip install -U scikit-learn==1.0.1 -q\n",
    "!pip install kaggle==1.5.12 -q\n",
    "!pip install matplotlib==3.4.3 -q\n",
    "!pip install seaborn==0.11.2 -q"
   ]
  },
  {
   "cell_type": "markdown",
   "id": "0d67de24-db2b-435e-8607-192315a90c73",
   "metadata": {},
   "source": [
    "## Download the competition files"
   ]
  },
  {
   "cell_type": "code",
   "execution_count": 2,
   "id": "d5d8ee2d-739b-4a84-9a9b-b3dd5a9fcf21",
   "metadata": {},
   "outputs": [],
   "source": [
    "!kaggle competitions download -c digit-recognizer -q"
   ]
  },
  {
   "cell_type": "markdown",
   "id": "a59958a8-05a3-4e87-bff1-859bc38eb034",
   "metadata": {},
   "source": [
    "## Extract the competition files from downloaded zip file"
   ]
  },
  {
   "cell_type": "code",
   "execution_count": 3,
   "id": "2d18bb54-6a5c-47d1-b7ad-c216c572838b",
   "metadata": {},
   "outputs": [],
   "source": [
    "import zipfile\n",
    "\n",
    "with zipfile.ZipFile('digit-recognizer.zip', 'r') as file:\n",
    "    file.extractall('./data')"
   ]
  },
  {
   "cell_type": "markdown",
   "id": "bc27f4e2-aaa3-48f7-b8fb-2217f392fe1f",
   "metadata": {},
   "source": [
    "## Import Libs"
   ]
  },
  {
   "cell_type": "code",
   "execution_count": 4,
   "id": "09d016b1-12c1-4f30-bbb4-3e3fce212a03",
   "metadata": {},
   "outputs": [],
   "source": [
    "import pandas as pd\n",
    "import numpy as np\n",
    "import matplotlib.pyplot as plt\n",
    "import seaborn as sns"
   ]
  },
  {
   "cell_type": "markdown",
   "id": "92eec4d5-a0d8-4c7b-a9cf-975926a3154c",
   "metadata": {},
   "source": [
    "## Load data"
   ]
  },
  {
   "cell_type": "code",
   "execution_count": 5,
   "id": "80179c07-b77d-41fc-ba9b-a19de7c687de",
   "metadata": {},
   "outputs": [
    {
     "data": {
      "text/html": [
       "<div>\n",
       "<style scoped>\n",
       "    .dataframe tbody tr th:only-of-type {\n",
       "        vertical-align: middle;\n",
       "    }\n",
       "\n",
       "    .dataframe tbody tr th {\n",
       "        vertical-align: top;\n",
       "    }\n",
       "\n",
       "    .dataframe thead th {\n",
       "        text-align: right;\n",
       "    }\n",
       "</style>\n",
       "<table border=\"1\" class=\"dataframe\">\n",
       "  <thead>\n",
       "    <tr style=\"text-align: right;\">\n",
       "      <th></th>\n",
       "      <th>label</th>\n",
       "      <th>pixel0</th>\n",
       "      <th>pixel1</th>\n",
       "      <th>pixel2</th>\n",
       "      <th>pixel3</th>\n",
       "      <th>pixel4</th>\n",
       "      <th>pixel5</th>\n",
       "      <th>pixel6</th>\n",
       "      <th>pixel7</th>\n",
       "      <th>pixel8</th>\n",
       "      <th>...</th>\n",
       "      <th>pixel774</th>\n",
       "      <th>pixel775</th>\n",
       "      <th>pixel776</th>\n",
       "      <th>pixel777</th>\n",
       "      <th>pixel778</th>\n",
       "      <th>pixel779</th>\n",
       "      <th>pixel780</th>\n",
       "      <th>pixel781</th>\n",
       "      <th>pixel782</th>\n",
       "      <th>pixel783</th>\n",
       "    </tr>\n",
       "  </thead>\n",
       "  <tbody>\n",
       "    <tr>\n",
       "      <th>0</th>\n",
       "      <td>1</td>\n",
       "      <td>0</td>\n",
       "      <td>0</td>\n",
       "      <td>0</td>\n",
       "      <td>0</td>\n",
       "      <td>0</td>\n",
       "      <td>0</td>\n",
       "      <td>0</td>\n",
       "      <td>0</td>\n",
       "      <td>0</td>\n",
       "      <td>...</td>\n",
       "      <td>0</td>\n",
       "      <td>0</td>\n",
       "      <td>0</td>\n",
       "      <td>0</td>\n",
       "      <td>0</td>\n",
       "      <td>0</td>\n",
       "      <td>0</td>\n",
       "      <td>0</td>\n",
       "      <td>0</td>\n",
       "      <td>0</td>\n",
       "    </tr>\n",
       "    <tr>\n",
       "      <th>1</th>\n",
       "      <td>0</td>\n",
       "      <td>0</td>\n",
       "      <td>0</td>\n",
       "      <td>0</td>\n",
       "      <td>0</td>\n",
       "      <td>0</td>\n",
       "      <td>0</td>\n",
       "      <td>0</td>\n",
       "      <td>0</td>\n",
       "      <td>0</td>\n",
       "      <td>...</td>\n",
       "      <td>0</td>\n",
       "      <td>0</td>\n",
       "      <td>0</td>\n",
       "      <td>0</td>\n",
       "      <td>0</td>\n",
       "      <td>0</td>\n",
       "      <td>0</td>\n",
       "      <td>0</td>\n",
       "      <td>0</td>\n",
       "      <td>0</td>\n",
       "    </tr>\n",
       "  </tbody>\n",
       "</table>\n",
       "<p>2 rows × 785 columns</p>\n",
       "</div>"
      ],
      "text/plain": [
       "   label  pixel0  pixel1  pixel2  pixel3  pixel4  pixel5  pixel6  pixel7  \\\n",
       "0      1       0       0       0       0       0       0       0       0   \n",
       "1      0       0       0       0       0       0       0       0       0   \n",
       "\n",
       "   pixel8  ...  pixel774  pixel775  pixel776  pixel777  pixel778  pixel779  \\\n",
       "0       0  ...         0         0         0         0         0         0   \n",
       "1       0  ...         0         0         0         0         0         0   \n",
       "\n",
       "   pixel780  pixel781  pixel782  pixel783  \n",
       "0         0         0         0         0  \n",
       "1         0         0         0         0  \n",
       "\n",
       "[2 rows x 785 columns]"
      ]
     },
     "execution_count": 5,
     "metadata": {},
     "output_type": "execute_result"
    }
   ],
   "source": [
    "raw_data = pd.read_csv('./data/train.csv')\n",
    "\n",
    "raw_data.head(2)"
   ]
  },
  {
   "cell_type": "code",
   "execution_count": 6,
   "id": "836da9bd-f3da-48ec-9c72-976d129f4b24",
   "metadata": {},
   "outputs": [],
   "source": [
    "X = raw_data.drop(['label'], axis=1)\n",
    "y = raw_data['label']"
   ]
  },
  {
   "cell_type": "code",
   "execution_count": 7,
   "id": "91ea4f0b-fc17-498b-b1d7-8750ae48981c",
   "metadata": {
    "jupyter": {
     "source_hidden": true
    },
    "tags": []
   },
   "outputs": [
    {
     "data": {
      "image/png": "[encoded data removed]",
      "text/plain": [
       "<Figure size 1440x360 with 100 Axes>"
      ]
     },
     "metadata": {
      "needs_background": "light"
     },
     "output_type": "display_data"
    }
   ],
   "source": [
    "fig, axes = plt.subplots(5, 20, figsize = (20, 5))\n",
    "axes = axes.flat\n",
    "\n",
    "\n",
    "digits = X.sample(100, random_state=1).to_numpy()\n",
    "for i in range(100):\n",
    "    digit = digits[i]\n",
    "    ax = axes[i]\n",
    "    \n",
    "    ax.imshow(np.reshape(digit, (28, 28)), cmap='gray_r', interpolation='nearest')\n",
    "    ax.axis('off')"
   ]
  },
  {
   "cell_type": "markdown",
   "id": "1a0c795f-e809-4e77-9507-59b3e1948629",
   "metadata": {},
   "source": [
    "The data doesn't have nulls, categories or scales for us to deal with. Every dataset row contains the pixels related to a handwritten number.\n",
    "\n",
    "This dataset is defined for data classification between the 10 available classes (numbers from 0 to 9).\n",
    "\n",
    "As handwritten caracters they may differ depending on who wrote them so we can notice different shapes for every character and the ML models should classify every sample correctly."
   ]
  },
  {
   "cell_type": "markdown",
   "id": "83c4b2c3-4b83-41d4-827c-42df88cebbbf",
   "metadata": {},
   "source": [
    "## Testing some ML algorithms to create a baseline accuracy for otimizations"
   ]
  },
  {
   "cell_type": "code",
   "execution_count": 8,
   "id": "a80da675-570b-4889-a63b-d1470054ac73",
   "metadata": {},
   "outputs": [],
   "source": [
    "from sklearn.svm import SVC\n",
    "from sklearn.ensemble import RandomForestClassifier\n",
    "from sklearn.tree import DecisionTreeClassifier\n",
    "from sklearn.linear_model import SGDClassifier, RidgeClassifier\n",
    "from sklearn.neighbors import KNeighborsClassifier\n",
    "from sklearn.naive_bayes import GaussianNB\n",
    "from sklearn.neural_network import MLPClassifier\n",
    "\n",
    "from sklearn.metrics import accuracy_score, f1_score, recall_score\n",
    "\n",
    "from sklearn.model_selection import train_test_split"
   ]
  },
  {
   "cell_type": "code",
   "execution_count": 9,
   "id": "faf902cb-3ab8-4bdd-8aa3-d2f12ecbf25a",
   "metadata": {},
   "outputs": [],
   "source": [
    "np.random.seed(1)\n",
    "\n",
    "X_train, X_valid, y_train, y_valid = train_test_split(X, y)"
   ]
  },
  {
   "cell_type": "code",
   "execution_count": 10,
   "id": "89ed037d-831e-400c-85a6-d42be910ee4e",
   "metadata": {},
   "outputs": [
    {
     "name": "stdout",
     "output_type": "stream",
     "text": [
      "Wall time: 4min 48s\n"
     ]
    }
   ],
   "source": [
    "%%time\n",
    "\n",
    "svc_pred = SVC().fit(X_train.copy(), y_train.copy()).predict(X_valid.copy())\n",
    "rand_forest_pred = RandomForestClassifier().fit(X_train.copy(), y_train.copy()).predict(X_valid.copy())\n",
    "dec_tree_pred = DecisionTreeClassifier().fit(X_train.copy(), y_train.copy()).predict(X_valid.copy())\n",
    "sgdc_pred = SGDClassifier().fit(X_train.copy(), y_train.copy()).predict(X_valid.copy())\n",
    "ridge_prec = RidgeClassifier().fit(X_train.copy(), y_train.copy()).predict(X_valid.copy())\n",
    "knn_pred = KNeighborsClassifier().fit(X_train.copy(), y_train.copy()).predict(X_valid.copy())\n",
    "gaussion_pred = GaussianNB().fit(X_train.copy(), y_train.copy()).predict(X_valid.copy())\n",
    "mlp_pred = MLPClassifier(max_iter=1000).fit(X_train.copy(), y_train.copy()).predict(X_valid.copy())"
   ]
  },
  {
   "cell_type": "code",
   "execution_count": 11,
   "id": "391b9d0f-2a98-4f27-9859-2a29dae30a5f",
   "metadata": {},
   "outputs": [],
   "source": [
    "svc_acc = accuracy_score(y_valid, svc_pred)\n",
    "svc_f1 = f1_score(y_valid, svc_pred, average='micro')\n",
    "svc_recall = recall_score(y_valid, svc_pred, average='micro')\n",
    "\n",
    "rand_forest_acc = accuracy_score(y_valid, rand_forest_pred)\n",
    "rand_forest_f1 = f1_score(y_valid, rand_forest_pred, average='micro')\n",
    "rand_forest_recall = recall_score(y_valid, rand_forest_pred, average='micro')\n",
    "\n",
    "dec_tree_acc = accuracy_score(y_valid, dec_tree_pred)\n",
    "dec_tree_f1 = f1_score(y_valid, dec_tree_pred, average='micro')\n",
    "dec_tree_recall = recall_score(y_valid, dec_tree_pred, average='micro')\n",
    "\n",
    "sgdc_acc = accuracy_score(y_valid, sgdc_pred)\n",
    "sgdc_f1 = f1_score(y_valid, sgdc_pred, average='micro')\n",
    "sgdc_recall = recall_score(y_valid, sgdc_pred, average='micro')\n",
    "\n",
    "ridge_acc = accuracy_score(y_valid, ridge_prec)\n",
    "ridge_f1 = f1_score(y_valid, ridge_prec, average='micro')\n",
    "ridge_recall = recall_score(y_valid, ridge_prec, average='micro')\n",
    "\n",
    "knn_acc = accuracy_score(y_valid, knn_pred)\n",
    "knn_f1 = f1_score(y_valid, knn_pred, average='micro')\n",
    "knn_recall = recall_score(y_valid, knn_pred, average='micro')\n",
    "\n",
    "gaussion_acc = accuracy_score(y_valid, gaussion_pred)\n",
    "gaussion_f1 = f1_score(y_valid, gaussion_pred, average='micro')\n",
    "gaussion_recall = recall_score(y_valid, gaussion_pred, average='micro')\n",
    "\n",
    "mlp_acc = accuracy_score(y_valid, mlp_pred)\n",
    "mlp_f1 = f1_score(y_valid, mlp_pred, average='micro')\n",
    "mlp_recall = recall_score(y_valid, mlp_pred, average='micro')"
   ]
  },
  {
   "cell_type": "code",
   "execution_count": 12,
   "id": "f3ba783d-f73c-4dc0-b902-4b82c52844f4",
   "metadata": {},
   "outputs": [
    {
     "name": "stdout",
     "output_type": "stream",
     "text": [
      "Classifier: SVC - Accuracy: 0.9778095238095238 - f1 score: 0.9778095238095238 - recall: 0.9778095238095238\n",
      "Classifier: RandomForestClassifier - Accuracy: 0.9646666666666667 - f1 score: 0.9646666666666667 - recall: 0.9646666666666667\n",
      "Classifier: DecisionTreeClassifier - Accuracy: 0.856 - f1 score: 0.856 - recall: 0.856\n",
      "Classifier: SGDClassifier - Accuracy: 0.8622857142857143 - f1 score: 0.8622857142857143 - recall: 0.8622857142857143\n",
      "Classifier: RidgeClassifier - Accuracy: 0.8489523809523809 - f1 score: 0.8489523809523809 - recall: 0.8489523809523809\n",
      "Classifier: KNeighborsClassifier - Accuracy: 0.9674285714285714 - f1 score: 0.9674285714285714 - recall: 0.9674285714285714\n",
      "Classifier: GaussianNB - Accuracy: 0.5546666666666666 - f1 score: 0.5546666666666666 - recall: 0.5546666666666666\n",
      "Classifier: MLPClassifier - Accuracy: 0.9553333333333334 - f1 score: 0.9553333333333334 - recall: 0.9553333333333334\n"
     ]
    }
   ],
   "source": [
    "print(f'Classifier: SVC - Accuracy: {svc_acc} - f1 score: {svc_f1} - recall: {svc_recall}')\n",
    "print(f'Classifier: RandomForestClassifier - Accuracy: {rand_forest_acc} - f1 score: {rand_forest_f1} - recall: {rand_forest_recall}')\n",
    "print(f'Classifier: DecisionTreeClassifier - Accuracy: {dec_tree_acc} - f1 score: {dec_tree_f1} - recall: {dec_tree_recall}')\n",
    "print(f'Classifier: SGDClassifier - Accuracy: {sgdc_acc} - f1 score: {sgdc_f1} - recall: {sgdc_recall}')\n",
    "print(f'Classifier: RidgeClassifier - Accuracy: {ridge_acc} - f1 score: {ridge_f1} - recall: {ridge_recall}')\n",
    "print(f'Classifier: KNeighborsClassifier - Accuracy: {knn_acc} - f1 score: {knn_f1} - recall: {knn_recall}')\n",
    "print(f'Classifier: GaussianNB - Accuracy: {gaussion_acc} - f1 score: {gaussion_f1} - recall: {gaussion_recall}')\n",
    "print(f'Classifier: MLPClassifier - Accuracy: {mlp_acc} - f1 score: {mlp_f1} - recall: {mlp_recall}')"
   ]
  },
  {
   "cell_type": "markdown",
   "id": "709ff6b1-65ec-4a80-bd75-9cbe874650ff",
   "metadata": {},
   "source": [
    "Wow! I was not expecting this! Some models are performing pretty well!\n",
    "\n",
    "Top 3 models:\n",
    "* SVC - 97%\n",
    "* RandomForestClassifier, KNeighborsClassifier - 96%"
   ]
  },
  {
   "cell_type": "markdown",
   "id": "4023b90a-b4a8-4b59-bf4c-108e8c02f738",
   "metadata": {},
   "source": [
    "97% accuracy looks really good (specially because I'n not using CNNs) so now I want to check if it can get better using the Voting"
   ]
  },
  {
   "cell_type": "code",
   "execution_count": 13,
   "id": "13995338-ee1d-4311-940b-38799e669a6d",
   "metadata": {},
   "outputs": [],
   "source": [
    "from sklearn.ensemble import VotingClassifier"
   ]
  },
  {
   "cell_type": "code",
   "execution_count": 14,
   "id": "aed7afc6-2ca9-42e6-a4d4-6f0cbd7affdf",
   "metadata": {},
   "outputs": [
    {
     "name": "stdout",
     "output_type": "stream",
     "text": [
      "Classifier: VotingClassifier - Accuracy: 0.9764761904761905 - f1 score: 0.9764761904761905 - recall: 0.9764761904761905\n"
     ]
    }
   ],
   "source": [
    "voting = VotingClassifier([('svc', SVC()), ('rnd-forest', RandomForestClassifier()), ('knn', KNeighborsClassifier())], n_jobs=-1)\n",
    "voting.fit(X_train, y_train)\n",
    "\n",
    "voting_pred = voting.predict(X_valid)\n",
    "\n",
    "voting_acc = accuracy_score(y_valid, voting_pred)\n",
    "voting_f1 = f1_score(y_valid, voting_pred, average='micro')\n",
    "voting_recall = recall_score(y_valid, voting_pred, average='micro')\n",
    "\n",
    "print(f'Classifier: VotingClassifier - Accuracy: {voting_acc} - f1 score: {voting_f1} - recall: {voting_recall}')"
   ]
  },
  {
   "cell_type": "markdown",
   "id": "a8f856a8-2727-486d-b919-038ed36824b6",
   "metadata": {},
   "source": [
    "Ok, no much different than SVC"
   ]
  },
  {
   "cell_type": "markdown",
   "id": "dc8033c6-dd19-4a7e-87f5-e2215df7a8c5",
   "metadata": {},
   "source": [
    "## Reduce dimension "
   ]
  },
  {
   "cell_type": "markdown",
   "id": "3453a1ef-b5d2-409b-bfc0-e0c8810d2b78",
   "metadata": {},
   "source": [
    "I'm planning to reduce the dimension of the data in dataset so I can train the models faster.\n",
    "\n",
    "Here I'm just testing stuff for learning purposes"
   ]
  },
  {
   "cell_type": "code",
   "execution_count": 15,
   "id": "d6bd18fa-5540-4642-9750-35231b707b88",
   "metadata": {},
   "outputs": [],
   "source": [
    "from sklearn.base import BaseEstimator, TransformerMixin"
   ]
  },
  {
   "cell_type": "code",
   "execution_count": 26,
   "id": "584a1427-a0bb-4008-bd73-0b722e8fbc96",
   "metadata": {},
   "outputs": [],
   "source": [
    "class ImageReduceTransformer(BaseEstimator, TransformerMixin):\n",
    "    \n",
    "    def fit(self, X, y):\n",
    "        return self\n",
    "    \n",
    "    def transform(self, X:np.ndarray):\n",
    "        new_data = []\n",
    "\n",
    "        for img in X:\n",
    "            img = np.reshape(img, (28, 28))\n",
    "            new_img = []\n",
    "        \n",
    "            for row in range(0, 26, 2):\n",
    "                for col in range(0, 26, 2):\n",
    "                    square = img[row:row+2, col:col+2]\n",
    "                    new_img.append(np.mean(square))\n",
    "                    \n",
    "            new_data.append(new_img)\n",
    "        \n",
    "        return np.array(new_data)\n",
    "            \n",
    "    "
   ]
  },
  {
   "cell_type": "code",
   "execution_count": 27,
   "id": "0c383fa4-ce82-4fe6-a1ce-baeed270817c",
   "metadata": {},
   "outputs": [
    {
     "data": {
      "image/png": "[encoded data removed]",
      "text/plain": [
       "<Figure size 1440x72 with 10 Axes>"
      ]
     },
     "metadata": {
      "needs_background": "light"
     },
     "output_type": "display_data"
    }
   ],
   "source": [
    "fig, axes = plt.subplots(1, 10, figsize = (20, 1))\n",
    "axes = axes.flat\n",
    "\n",
    "\n",
    "digits = X.sample(5, random_state=1).to_numpy()\n",
    "for i in range(5):\n",
    "    digit = digits[i]\n",
    "    ax = axes[i]\n",
    "    \n",
    "    ax.imshow(np.reshape(digit, (28, 28)), cmap='gray_r', interpolation='nearest')\n",
    "    ax.axis('off')\n",
    "\n",
    "digits = ImageReduceTransformer().transform(digits)\n",
    "for i in range(5):\n",
    "    digit = digits[i]\n",
    "    ax = axes[i+5]\n",
    "    \n",
    "    ax.imshow(np.reshape(digit, (13, 13)), cmap='gray_r', interpolation='nearest')\n",
    "    ax.axis('off')\n",
    "    \n"
   ]
  },
  {
   "cell_type": "markdown",
   "id": "8f163626-1c60-4961-808a-3cc32b8afe09",
   "metadata": {},
   "source": [
    "Cool! lets see how it performs"
   ]
  },
  {
   "cell_type": "markdown",
   "id": "c7b72dde-1f4d-4afa-91ca-29024675743e",
   "metadata": {},
   "source": [
    "## Train new models using reduced dataset"
   ]
  },
  {
   "cell_type": "code",
   "execution_count": 18,
   "id": "4fe52d6c-bf96-4224-bd80-911d751911a2",
   "metadata": {},
   "outputs": [
    {
     "name": "stdout",
     "output_type": "stream",
     "text": [
      "Wall time: 1min 6s\n"
     ]
    }
   ],
   "source": [
    "%%time\n",
    "\n",
    "X_train_reduced = ImageReduceTransformer().transform(X_train.to_numpy())\n",
    "X_valid_reduced = ImageReduceTransformer().transform(X_valid.to_numpy())"
   ]
  },
  {
   "cell_type": "code",
   "execution_count": 19,
   "id": "ee9097ae-24fb-4a3a-8017-c1c3b1364d01",
   "metadata": {},
   "outputs": [
    {
     "name": "stdout",
     "output_type": "stream",
     "text": [
      "Wall time: 1min 35s\n"
     ]
    }
   ],
   "source": [
    "%%time\n",
    "\n",
    "svc_pred = SVC().fit(X_train_reduced, y_train).predict(X_valid_reduced)\n",
    "rand_forest_pred = RandomForestClassifier().fit(X_train_reduced, y_train).predict(X_valid_reduced)\n",
    "dec_tree_pred = DecisionTreeClassifier().fit(X_train_reduced, y_train).predict(X_valid_reduced)\n",
    "sgdc_pred = SGDClassifier().fit(X_train_reduced, y_train).predict(X_valid_reduced)\n",
    "ridge_prec = RidgeClassifier().fit(X_train_reduced, y_train).predict(X_valid_reduced)\n",
    "knn_pred = KNeighborsClassifier().fit(X_train_reduced, y_train).predict(X_valid_reduced)\n",
    "gaussion_pred = GaussianNB().fit(X_train_reduced, y_train).predict(X_valid_reduced)\n",
    "mlp_pred = MLPClassifier(max_iter=1000).fit(X_train_reduced, y_train).predict(X_valid_reduced)"
   ]
  },
  {
   "cell_type": "code",
   "execution_count": 20,
   "id": "a7b076c9-c217-4aa9-863d-3a9e50d564a3",
   "metadata": {},
   "outputs": [],
   "source": [
    "svc_acc = accuracy_score(y_valid, svc_pred)\n",
    "svc_f1 = f1_score(y_valid, svc_pred, average='micro')\n",
    "svc_recall = recall_score(y_valid, svc_pred, average='micro')\n",
    "\n",
    "rand_forest_acc = accuracy_score(y_valid, rand_forest_pred)\n",
    "rand_forest_f1 = f1_score(y_valid, rand_forest_pred, average='micro')\n",
    "rand_forest_recall = recall_score(y_valid, rand_forest_pred, average='micro')\n",
    "\n",
    "dec_tree_acc = accuracy_score(y_valid, dec_tree_pred)\n",
    "dec_tree_f1 = f1_score(y_valid, dec_tree_pred, average='micro')\n",
    "dec_tree_recall = recall_score(y_valid, dec_tree_pred, average='micro')\n",
    "\n",
    "sgdc_acc = accuracy_score(y_valid, sgdc_pred)\n",
    "sgdc_f1 = f1_score(y_valid, sgdc_pred, average='micro')\n",
    "sgdc_recall = recall_score(y_valid, sgdc_pred, average='micro')\n",
    "\n",
    "ridge_acc = accuracy_score(y_valid, ridge_prec)\n",
    "ridge_f1 = f1_score(y_valid, ridge_prec, average='micro')\n",
    "ridge_recall = recall_score(y_valid, ridge_prec, average='micro')\n",
    "\n",
    "knn_acc = accuracy_score(y_valid, knn_pred)\n",
    "knn_f1 = f1_score(y_valid, knn_pred, average='micro')\n",
    "knn_recall = recall_score(y_valid, knn_pred, average='micro')\n",
    "\n",
    "gaussion_acc = accuracy_score(y_valid, gaussion_pred)\n",
    "gaussion_f1 = f1_score(y_valid, gaussion_pred, average='micro')\n",
    "gaussion_recall = recall_score(y_valid, gaussion_pred, average='micro')\n",
    "\n",
    "mlp_acc = accuracy_score(y_valid, mlp_pred)\n",
    "mlp_f1 = f1_score(y_valid, mlp_pred, average='micro')\n",
    "mlp_recall = recall_score(y_valid, mlp_pred, average='micro')"
   ]
  },
  {
   "cell_type": "code",
   "execution_count": 21,
   "id": "863f74b2-90f4-4fc1-8d3d-9cc5b5862bad",
   "metadata": {},
   "outputs": [
    {
     "name": "stdout",
     "output_type": "stream",
     "text": [
      "Classifier: SVC - Accuracy: 0.9772380952380952 - f1 score: 0.9772380952380952 - recall: 0.9772380952380952\n",
      "Classifier: RandomForestClassifier - Accuracy: 0.9646666666666667 - f1 score: 0.9646666666666667 - recall: 0.9646666666666667\n",
      "Classifier: DecisionTreeClassifier - Accuracy: 0.8626666666666667 - f1 score: 0.8626666666666667 - recall: 0.8626666666666667\n",
      "Classifier: SGDClassifier - Accuracy: 0.8786666666666667 - f1 score: 0.8786666666666667 - recall: 0.8786666666666667\n",
      "Classifier: RidgeClassifier - Accuracy: 0.8576190476190476 - f1 score: 0.8576190476190476 - recall: 0.8576190476190476\n",
      "Classifier: KNeighborsClassifier - Accuracy: 0.9719047619047619 - f1 score: 0.9719047619047619 - recall: 0.9719047619047619\n",
      "Classifier: GaussianNB - Accuracy: 0.545047619047619 - f1 score: 0.545047619047619 - recall: 0.545047619047619\n",
      "Classifier: MLPClassifier - Accuracy: 0.9654285714285714 - f1 score: 0.9654285714285714 - recall: 0.9654285714285714\n"
     ]
    }
   ],
   "source": [
    "print(f'Classifier: SVC - Accuracy: {svc_acc} - f1 score: {svc_f1} - recall: {svc_recall}')\n",
    "print(f'Classifier: RandomForestClassifier - Accuracy: {rand_forest_acc} - f1 score: {rand_forest_f1} - recall: {rand_forest_recall}')\n",
    "print(f'Classifier: DecisionTreeClassifier - Accuracy: {dec_tree_acc} - f1 score: {dec_tree_f1} - recall: {dec_tree_recall}')\n",
    "print(f'Classifier: SGDClassifier - Accuracy: {sgdc_acc} - f1 score: {sgdc_f1} - recall: {sgdc_recall}')\n",
    "print(f'Classifier: RidgeClassifier - Accuracy: {ridge_acc} - f1 score: {ridge_f1} - recall: {ridge_recall}')\n",
    "print(f'Classifier: KNeighborsClassifier - Accuracy: {knn_acc} - f1 score: {knn_f1} - recall: {knn_recall}')\n",
    "print(f'Classifier: GaussianNB - Accuracy: {gaussion_acc} - f1 score: {gaussion_f1} - recall: {gaussion_recall}')\n",
    "print(f'Classifier: MLPClassifier - Accuracy: {mlp_acc} - f1 score: {mlp_f1} - recall: {mlp_recall}')"
   ]
  },
  {
   "cell_type": "markdown",
   "id": "3923e860-b0af-4cbf-8a43-3a4c2f6ab5a8",
   "metadata": {},
   "source": [
    "The performance is close to the version with raw dataset. The final execution time (transformation + training) is 50% faster too."
   ]
  },
  {
   "cell_type": "markdown",
   "id": "5af6c6ae-ffcf-4eba-a689-50f5671f0269",
   "metadata": {},
   "source": [
    "## tune the 3 best models using reduced dataset"
   ]
  },
  {
   "cell_type": "markdown",
   "id": "e0544475-dbbf-45c5-80ba-d9a880e1fb53",
   "metadata": {},
   "source": [
    "The new rank of models:\n",
    "* SVC and KNeighborsClassifier - 97%\n",
    "* RandomForestClassifier and MLPClassifier - 96%"
   ]
  },
  {
   "cell_type": "code",
   "execution_count": 31,
   "id": "2d5a876a-b268-42a7-add9-6b67046648dc",
   "metadata": {},
   "outputs": [],
   "source": [
    "from sklearn.model_selection import GridSearchCV\n",
    "from sklearn.metrics import make_scorer"
   ]
  },
  {
   "cell_type": "code",
   "execution_count": 34,
   "id": "72a012a3-b01e-413d-99f8-541e50c42c72",
   "metadata": {},
   "outputs": [
    {
     "name": "stdout",
     "output_type": "stream",
     "text": [
      "Classifier: SVC (Default) - Accuracy: 0.9772380952380952 - f1 score: 0.9772380952380952 - recall: 0.9772380952380952\n",
      "Classifier: SVC (Grid) - Accuracy: 0.9772380952380952 - f1 score: 0.9772380952380952 - recall: 0.9772380952380952\n",
      "Best Parameters: {'C': 1.0, 'kernel': 'rbf'}\n",
      "Wall time: 15min 18s\n"
     ]
    }
   ],
   "source": [
    "%%time\n",
    "\n",
    "param_grid = [\n",
    "    { 'C': [1.0, 0.1, 0.01], 'kernel': ['poly', 'rbf', 'sigmoid'] }\n",
    "]\n",
    "\n",
    "grid_search = GridSearchCV(SVC(), param_grid, cv=3, scoring=make_scorer(accuracy_score, ), n_jobs=-1)\n",
    "grid_search.fit(X_train_reduced, y_train.copy())\n",
    "\n",
    "svc_pred = grid_search.predict(X_valid_reduced)\n",
    "svc = grid_search.best_estimator_\n",
    "\n",
    "svc_grid_acc = accuracy_score(y_valid, svc_pred)\n",
    "svc_grid_f1 = f1_score(y_valid, svc_pred, average='micro')\n",
    "svc_grid_recall = recall_score(y_valid, svc_pred, average='micro')\n",
    "\n",
    "print(f'Classifier: SVC (Default) - Accuracy: {svc_acc} - f1 score: {svc_f1} - recall: {svc_recall}')\n",
    "print(f'Classifier: SVC (Grid) - Accuracy: {svc_grid_acc} - f1 score: {svc_grid_f1} - recall: {svc_grid_recall}')\n",
    "print(f'Best Parameters: {grid_search.best_params_}')"
   ]
  },
  {
   "cell_type": "code",
   "execution_count": 35,
   "id": "7cdfff76-0284-436a-9f8a-3772f85ed76b",
   "metadata": {},
   "outputs": [
    {
     "name": "stdout",
     "output_type": "stream",
     "text": [
      "Classifier: KNeighborsClassifier (Default) - Accuracy: 0.9719047619047619 - f1 score: 0.9719047619047619 - recall: 0.9719047619047619\n",
      "Classifier: KNeighborsClassifier (Grid) - Accuracy: 0.9743809523809523 - f1 score: 0.9743809523809523 - recall: 0.9743809523809523\n",
      "Best Parameters: {'n_neighbors': 3, 'weights': 'distance'}\n",
      "Wall time: 1min 21s\n"
     ]
    }
   ],
   "source": [
    "%%time\n",
    "\n",
    "param_grid = [\n",
    "    { 'n_neighbors': [3, 5, 7], 'weights': ['uniform', 'distance']  }\n",
    "]\n",
    "\n",
    "grid_search = GridSearchCV(KNeighborsClassifier(), param_grid, cv=3, scoring=make_scorer(accuracy_score, ), n_jobs=-1)\n",
    "grid_search.fit(X_train_reduced, y_train.copy())\n",
    "\n",
    "knn_pred = grid_search.predict(X_valid_reduced)\n",
    "knn = grid_search.best_estimator_\n",
    "\n",
    "knn_grid_acc = accuracy_score(y_valid, knn_pred)\n",
    "knn_grid_f1 = f1_score(y_valid, knn_pred, average='micro')\n",
    "knn_grid_recall = recall_score(y_valid, knn_pred, average='micro')\n",
    "\n",
    "print(f'Classifier: KNeighborsClassifier (Default) - Accuracy: {knn_acc} - f1 score: {knn_f1} - recall: {knn_recall}')\n",
    "print(f'Classifier: KNeighborsClassifier (Grid) - Accuracy: {knn_grid_acc} - f1 score: {knn_grid_f1} - recall: {knn_grid_recall}')\n",
    "print(f'Best Parameters: {grid_search.best_params_}')"
   ]
  },
  {
   "cell_type": "code",
   "execution_count": 39,
   "id": "c3214389-09df-40da-baca-1169c10509f4",
   "metadata": {},
   "outputs": [
    {
     "name": "stdout",
     "output_type": "stream",
     "text": [
      "Classifier: RandomForestClassifier (Default) - Accuracy: 0.9646666666666667 - f1 score: 0.9646666666666667 - recall: 0.9646666666666667\n",
      "Classifier: RandomForestClassifier (Grid) - Accuracy: 0.9666666666666667 - f1 score: 0.9666666666666667 - recall: 0.9666666666666667\n",
      "Best Parameters: {'criterion': 'gini', 'max_depth': None, 'min_samples_leaf': 1, 'min_samples_split': 2, 'n_estimators': 300}\n",
      "Wall time: 36min 55s\n"
     ]
    }
   ],
   "source": [
    "%%time\n",
    "param_grid = [\n",
    "    { \n",
    "        'n_estimators': [400, 300, 200], 'criterion': [\"gini\", \"entropy\"], 'max_depth': [None, 200, 100],\n",
    "        'min_samples_split': [2, 10], 'min_samples_leaf': [1, 5, 10]\n",
    "    }\n",
    "]\n",
    "\n",
    "grid_search = GridSearchCV(RandomForestClassifier(), param_grid, cv=3, scoring=make_scorer(accuracy_score, ), n_jobs=-1)\n",
    "grid_search.fit(X_train_reduced, y_train)\n",
    "\n",
    "rand_forest_pred = grid_search.predict(X_valid_reduced)\n",
    "rand_forest = grid_search.best_estimator_\n",
    "\n",
    "rand_forest_grid_acc = accuracy_score(y_valid, rand_forest_pred)\n",
    "rand_forest_grid_f1 = f1_score(y_valid, rand_forest_pred, average='micro')\n",
    "rand_forest_grid_recall = recall_score(y_valid, rand_forest_pred, average='micro')\n",
    "\n",
    "print(f'Classifier: RandomForestClassifier (Default) - Accuracy: {rand_forest_acc} - f1 score: {rand_forest_f1} - recall: {rand_forest_recall}')\n",
    "print(f'Classifier: RandomForestClassifier (Grid) - Accuracy: {rand_forest_grid_acc} - f1 score: {rand_forest_grid_f1} - recall: {rand_forest_grid_recall}')\n",
    "print(f'Best Parameters: {grid_search.best_params_}')"
   ]
  },
  {
   "cell_type": "code",
   "execution_count": 41,
   "id": "e8fede83-91b3-4daf-8967-96a689927a67",
   "metadata": {},
   "outputs": [
    {
     "name": "stdout",
     "output_type": "stream",
     "text": [
      "Classifier: MLPClassifier (Default) - Accuracy: 0.9654285714285714 - f1 score: 0.9654285714285714 - recall: 0.9654285714285714\n",
      "Classifier: MLPClassifier (Grid) - Accuracy: 0.9618095238095238 - f1 score: 0.9618095238095238 - recall: 0.9618095238095238\n",
      "Best Parameters: {'activation': 'relu', 'alpha': 0.01, 'hidden_layer_sizes': (100, 50, 25), 'solver': 'adam'}\n",
      "Wall time: 3h 54min 32s\n"
     ]
    }
   ],
   "source": [
    "%%time\n",
    "\n",
    "param_grid = [\n",
    "    { \n",
    "        'hidden_layer_sizes': [(100, 50, 25), (50, 25, 5), (25, 5, 1)], \n",
    "        'activation': ['identity', 'logistic', 'tanh', 'relu'], \n",
    "        'solver': ['sgd', 'adam'],\n",
    "        'alpha': [0.0001, 0.01, 0.001, 0.0001]\n",
    "    }\n",
    "]\n",
    "\n",
    "grid_search = GridSearchCV(MLPClassifier(max_iter=10000), param_grid, cv=3, scoring=make_scorer(accuracy_score, ), n_jobs=-1)\n",
    "grid_search.fit(X_train_reduced, y_train)\n",
    "\n",
    "mlp_pred = grid_search.predict(X_valid_reduced)\n",
    "mlp = grid_search.best_estimator_\n",
    "\n",
    "mlp_grid_acc = accuracy_score(y_valid, mlp_pred)\n",
    "mlp_grid_f1 = f1_score(y_valid, mlp_pred, average='micro')\n",
    "mlp_grid_recall = recall_score(y_valid, mlp_pred, average='micro')\n",
    "\n",
    "print(f'Classifier: MLPClassifier (Default) - Accuracy: {mlp_acc} - f1 score: {mlp_f1} - recall: {mlp_recall}')\n",
    "print(f'Classifier: MLPClassifier (Grid) - Accuracy: {mlp_grid_acc} - f1 score: {mlp_grid_f1} - recall: {mlp_grid_recall}')\n",
    "print(f'Best Parameters: {grid_search.best_params_}')"
   ]
  },
  {
   "cell_type": "markdown",
   "id": "aec37ed3-2cb7-410e-8ce0-2727a3e36414",
   "metadata": {},
   "source": [
    "Ok, ok, we don't have any significative difference. I'll keep it simple and use KNN as my final model.\n",
    "\n",
    "I'm planning to create 2 submission files, one for reduced images and another for raw images just to test the 2 techniques."
   ]
  },
  {
   "cell_type": "markdown",
   "id": "654d8f04-8b01-4bef-a3cd-370071fb8e6f",
   "metadata": {},
   "source": [
    "## Create submission files"
   ]
  },
  {
   "cell_type": "code",
   "execution_count": 47,
   "id": "5d261553-0a9a-4343-bdfc-9a6057eb2846",
   "metadata": {},
   "outputs": [],
   "source": [
    "X_test = pd.read_csv('./data/test.csv')\n",
    "X_test_reduced = ImageReduceTransformer().transform(X_test.to_numpy())\n",
    "X_reduced =  ImageReduceTransformer().transform(X.to_numpy())"
   ]
  },
  {
   "cell_type": "code",
   "execution_count": 57,
   "id": "2d68a357-3adc-4aa3-8974-dda0e4aecc37",
   "metadata": {},
   "outputs": [],
   "source": [
    "rand_forest_pred = KNeighborsClassifier(n_neighbors=3, weights='distance').fit(X, y).predict(X_test)\n",
    "rand_forest_reduced_pred = KNeighborsClassifier(n_neighbors=3, weights='distance').fit(X_reduced, y).predict(X_test_reduced)"
   ]
  },
  {
   "cell_type": "code",
   "execution_count": 58,
   "id": "644ae841-8824-4a4d-8cbe-f191dfc461db",
   "metadata": {},
   "outputs": [],
   "source": [
    "# Reduced csv for submission\n",
    "submission = X_test.copy()\n",
    "submission['Label'] = rand_forest_reduced_pred\n",
    "submission['ImageId'] = submission.index + 1\n",
    "submission[['ImageId', 'Label']].to_csv('./data/submission_reduced.csv', index=False)"
   ]
  },
  {
   "cell_type": "code",
   "execution_count": 59,
   "id": "3269265b-8d18-4f32-a8f3-3dc358f3cee9",
   "metadata": {},
   "outputs": [],
   "source": [
    "# complete csv for submission\n",
    "submission = X_test.copy()\n",
    "submission['Label'] = rand_forest_pred\n",
    "submission['ImageId'] = submission.index + 1\n",
    "submission[['ImageId', 'Label']].to_csv('./data/submission.csv', index=False)"
   ]
  },
  {
   "cell_type": "code",
   "execution_count": 60,
   "id": "cb09576e-3cf1-4018-a22d-e2026172e7a8",
   "metadata": {},
   "outputs": [
    {
     "name": "stdout",
     "output_type": "stream",
     "text": [
      "Successfully submitted to Digit Recognizer\n"
     ]
    }
   ],
   "source": [
    "!kaggle competitions submit -c digit-recognizer -f ./data/submission_reduced.csv -m \"Submission using reduced images\" -q"
   ]
  },
  {
   "cell_type": "code",
   "execution_count": 61,
   "id": "3efee319-c4b0-4242-83ae-2bf3359de016",
   "metadata": {},
   "outputs": [
    {
     "name": "stdout",
     "output_type": "stream",
     "text": [
      "Successfully submitted to Digit Recognizer\n"
     ]
    }
   ],
   "source": [
    "!kaggle competitions submit -c digit-recognizer -f ./data/submission.csv -m \"Submission using complete images\" -q"
   ]
  },
  {
   "cell_type": "markdown",
   "id": "ca680235-ea4f-4e05-a7ea-cef7e6103b00",
   "metadata": {},
   "source": [
    "Submission using reduced images: **0.97435**<br>\n",
    "Submission using complete images: **0.96921**"
   ]
  },
  {
   "cell_type": "markdown",
   "id": "92efc723-07f2-410d-a523-9a67809a8e2e",
   "metadata": {},
   "source": [
    "## Conclusion"
   ]
  },
  {
   "cell_type": "markdown",
   "id": "725c6a94-ee55-43ad-8c82-efe465855e45",
   "metadata": {},
   "source": [
    "I believe o got a good performance, specially considering I'm not using CNN. My objective here was try and test some different machine learning techniques.\n",
    "\n",
    "I could try a technique to reduce the image resolution and compare the final performance between the \"reduced\" images dataset and the \"complete\" dataset, test it on different ML algorithms, compare performances, try to tune the models and use the final tunned KNN model to build my submission files.\n",
    "\n",
    "Finally I could notice the performance a bit better on reduced images dataset submission (probably because I've yunned the models using this version of dataset). "
   ]
  }
 ],
 "metadata": {
  "kernelspec": {
   "display_name": "Python 3 (ipykernel)",
   "language": "python",
   "name": "python3"
  },
  "language_info": {
   "codemirror_mode": {
    "name": "ipython",
    "version": 3
   },
   "file_extension": ".py",
   "mimetype": "text/x-python",
   "name": "python",
   "nbconvert_exporter": "python",
   "pygments_lexer": "ipython3",
   "version": "3.9.7"
  }
 },
 "nbformat": 4,
 "nbformat_minor": 5
}
